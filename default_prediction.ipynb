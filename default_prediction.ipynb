{
 "cells": [
  {
   "cell_type": "markdown",
   "id": "10cb07b3",
   "metadata": {},
   "source": [
    "# Raport: przewidywanie braku spłaty kredytu\n",
    "\n",
    "Zgodnie z założeniem, celem zadania jest wytrenowanie modelu do wdrożenia w produkcji. Przez to rozumiem, że takie kroki jak automatyzacja pozyskiwania i czyszczenia danych (np. przez pobieranie z hurtowni danych i przygotowanie danych w pythonie z pomocą airflow), monitorowanie jakości modelu, CI/CD, konteneryzacja, są poza zakresem tego zadania.\n",
    "\n",
    "Pierwszymi krokami w celu znalezienia jak najlepszego modelu predykcyjnego, jest zapoznanie się z domeną problemu, dostarczonym zbiorem danych. Odpowiednie przekształcenie tego zbioru oraz eksperymenty z modelami odpowiednimi do zadania.\n",
    "\n",
    "Poniższy notebook prezentuje eksplorację i przygotowanie zbioru danych, poprzez eksperymenty z różnymi metodami uczenia maszynowego oraz wreszcie porównanie wybranych modeli na odpowiednich metrykach. Gdybym miał więcej czasu, spróbowałbym jeszcze lepiej zrozumieć zbiór danych, co mogłoby przyczynić się do poprawy skuteczności trenowanych modeli. Sprawdziłbym, czy sieci neuronowe (FCNN) mogą być skuteczne. Następnie przygotowałbym skrypty do czyszczenia danych oraz treningu najbardziej obiecujących modeli (xgboost lub catboost), dostrajania hiperparametrów i monitorowania z wykorzystaniem MlFlow.\n",
    "\n",
    "Podsumowując, aby jak najlpeiej wykorzystać czas na rozwiązanie zadania, skupiłem się na następującyh 3 krokach:\n",
    "\n",
    "1. Zrozumienie domeny problemu: tutaj posiłkowałem się następującymi kernelami (opis zbioru danych na    https://www.kaggle.com/wordsforthewise/lending-club przekierowuje chyba do przedawnionej strony):  \n",
    "    https://www.kaggle.com/code/pavlofesenko/minimizing-risks-for-loan-investments/notebook#3.-Modelling-approach  \n",
    "    https://www.kaggle.com/code/faressayah/lending-club-loan-defaulters-prediction/notebook#%F0%9F%94%8D-Exploratory-Data-Analysis  \n",
    "    https://www.kaggle.com/code/mariiagusarova/feature-selection-techniques  \n",
    "\n",
    "2. Eksploracja i przygotowanie danych:\n",
    "    - Kodowanie zmiennej objaśnianej. Po usunięciu obserwacji z loan_status=Current zostało 1.3M obserwacji i około 150 zmiennych.\n",
    "    - Usunięcie duplikatów (akurat nie było żadnych)\n",
    "    - Analiza wybranej cechy numerczynej i kategorycznej\n",
    "    - Usunięcie wycieków danych. Na tę część poświęciłem sporo czasu. I dobrze, bo okazało się, że bardzo wiele zmiennych jest niedostępnych w momencie podjęcia decyzji o przyznaniu kradytu. Uwzględnienie ich w zbiorze danych byłoby oszukiwaniem klienta i samego siebie. Część znalazłem samemu, resztę znalazłem w jednym z kerneli.\n",
    "    - Przekształcenie dat do liczb.\n",
    "    - Uzupełnienie / usunięcie brakujących wartości. Gdzie się dało, uzupełniłem sensownymi wartościami domyślnymi. Np. wiele zmiennych określało czas od ostatniego zdarzenia (np. bankructwa) i tam zastosowałem uzupełnienie przez maksymalną wartość. Resztę zmiennych usunąłem, jeśli większość wartości była brakująca. W przeciwnym razie uzupełniłem śednią (numeryczne) lub pustym stringiem (kategoryczne).\n",
    "    - Analiza kowariancji. Usunąłem pary zmiennych, które były ze sobą bardzo mocno skorelowane (Cramer V dla kategorycznych i Pearson dla numerycznych)\n",
    "    - Usunięcie outlierów.\n",
    "    - zamieniłem ordynalne na numeryczne i zakodowałem pozostałe kategoryczne z pd.dummify. Ostatecznie miałem około 130 zmiennych.\n",
    "\n",
    "3. Budowa modeli predykcyjnych: postanowiłem poeksperymentować z następującymi modelami (wszystkie modele miały proporcjonalnie zwiększoną wagę pozytywnej klasy, ze względu na mniejszą jej liczbę w zbiorze danych):\n",
    "    - Drzewo decyzyjne z pruningiem. Metody drzewiaste generalnie dobrze nadają się do heterogenicznych danych, takich jak te. W dodatku drzewo decyzyjne jest szybkie i może pójść na pierwszy ogień. Można wykorzystać jako baseline.\n",
    "    - Regresja logistyczna na całych (pozostałych) danych. Skorzystałem SGDClassifier ze scikit-learn, ponieważ jest szybki, co było kluczowe dla zbioru danych z ponad milionem wierszy. Na początek spróbowałem regresji LASSO w celu redukcji liczby zmiennych. LASSO wyzerowało prawie połowę. Następnie zastosowałem GridSearchCV, porównująć regresję logistyczną z liniowym SVM i perceptronem, dla regularyzacji z L1 i L2. Najlepszy wynik osiągnęło linowe SVM z regularyzacją L1 i parametrem alpha=1e-4\n",
    "    - CatBoost learning_rate=0.03 i 1500 iteracji osiągnął lepsze F1 i roc_auc_score, niż poprzednie modele.\n",
    "    - xgboost z dostrajaniem hiperparametrów przez hyperopt. Tutaj byłem nieco ograniczony przez zasoby, jednak model wytrenowany z najlepszymi parametrami okazał się pomijalnie (ale jednak) lepszy od CatBoost.\n",
    "    W tym kroku nie zdecydowałem się na następujące zasugerowane modele:\n",
    "    - regresja logistyczna z wyborem cech bazującym na rankingu cech z random forest (google: predictor importance): uznałem, że zmienne ważne z perspektywy nieliniowego modelu, jakim jest random forest, niekoniecznie będą najlepsze dla linowego modelu, jakim jest regresja logistyczna;\n",
    "    - regresja logistyczna z wyborem krokowym cech (google: stepwise feature selection) - wydawało się dość kosztownym krokiem, wolałem poświęcić więcej czasu i mocy obliczeniowej na xgboost.\n",
    "    - Poniżej zamieszczam porównanie wytrenowanych modeli na wybranych metryk (AUC, precision, recall)\n",
    "\n",
    "\n",
    "![AUC](auroc.png \"AUC\")\n",
    "![Precsion](precision.png \"Precision\")\n",
    "![Recall](recall.png \"Recall\")"
   ]
  },
  {
   "cell_type": "code",
   "execution_count": 172,
   "id": "d64bf1b8",
   "metadata": {},
   "outputs": [],
   "source": [
    "import numpy as np\n",
    "import pickle\n",
    "import pandas as pd\n",
    "import pydotplus\n",
    "import matplotlib.pyplot as plt\n",
    "import seaborn as sns\n",
    "\n",
    "from catboost import Pool, CatBoostClassifier\n",
    "from hyperopt import STATUS_OK, Trials, fmin, hp, tpe\n",
    "from hyperopt.pyll import scope\n",
    "from IPython.display import Image\n",
    "from itertools import combinations\n",
    "from scipy.stats import pearsonr, chi2_contingency\n",
    "from six import StringIO\n",
    "from sklearn.feature_selection import VarianceThreshold\n",
    "from sklearn.linear_model import LogisticRegression, SGDClassifier\n",
    "from sklearn.model_selection import train_test_split, GridSearchCV\n",
    "from sklearn.metrics import (\n",
    "    accuracy_score, precision_score, recall_score, \n",
    "    confusion_matrix, precision_recall_curve, roc_auc_score, \n",
    "    roc_curve, f1_score, precision_recall_curve\n",
    ")\n",
    "from sklearn.preprocessing import MinMaxScaler\n",
    "from sklearn.tree import DecisionTreeClassifier, export_graphviz, plot_tree\n",
    "import xgboost as xgb"
   ]
  },
  {
   "cell_type": "code",
   "execution_count": 2,
   "id": "305bc1ca",
   "metadata": {},
   "outputs": [],
   "source": [
    "pd.set_option('display.max_columns', None)"
   ]
  },
  {
   "cell_type": "code",
   "execution_count": 3,
   "id": "c53f47d8",
   "metadata": {},
   "outputs": [
    {
     "name": "stderr",
     "output_type": "stream",
     "text": [
      "C:\\Users\\wojtek\\anaconda3\\lib\\site-packages\\IPython\\core\\interactiveshell.py:3441: DtypeWarning: Columns (0,19,49,59,118,129,130,131,134,135,136,139,145,146,147) have mixed types.Specify dtype option on import or set low_memory=False.\n",
      "  exec(code_obj, self.user_global_ns, self.user_ns)\n"
     ]
    },
    {
     "data": {
      "text/plain": [
       "(2260701, 151)"
      ]
     },
     "execution_count": 3,
     "metadata": {},
     "output_type": "execute_result"
    }
   ],
   "source": [
    "df = pd.read_csv('accepted_2007_to_2018Q4.csv.gz', compression='gzip')\n",
    "df.shape"
   ]
  },
  {
   "cell_type": "code",
   "execution_count": 4,
   "id": "8a841bbf",
   "metadata": {},
   "outputs": [
    {
     "data": {
      "text/html": [
       "<div>\n",
       "<style scoped>\n",
       "    .dataframe tbody tr th:only-of-type {\n",
       "        vertical-align: middle;\n",
       "    }\n",
       "\n",
       "    .dataframe tbody tr th {\n",
       "        vertical-align: top;\n",
       "    }\n",
       "\n",
       "    .dataframe thead th {\n",
       "        text-align: right;\n",
       "    }\n",
       "</style>\n",
       "<table border=\"1\" class=\"dataframe\">\n",
       "  <thead>\n",
       "    <tr style=\"text-align: right;\">\n",
       "      <th></th>\n",
       "      <th>id</th>\n",
       "      <th>member_id</th>\n",
       "      <th>loan_amnt</th>\n",
       "      <th>funded_amnt</th>\n",
       "      <th>funded_amnt_inv</th>\n",
       "      <th>term</th>\n",
       "      <th>int_rate</th>\n",
       "      <th>installment</th>\n",
       "      <th>grade</th>\n",
       "      <th>sub_grade</th>\n",
       "      <th>emp_title</th>\n",
       "      <th>emp_length</th>\n",
       "      <th>home_ownership</th>\n",
       "      <th>annual_inc</th>\n",
       "      <th>verification_status</th>\n",
       "      <th>issue_d</th>\n",
       "      <th>loan_status</th>\n",
       "      <th>pymnt_plan</th>\n",
       "      <th>url</th>\n",
       "      <th>desc</th>\n",
       "      <th>purpose</th>\n",
       "      <th>title</th>\n",
       "      <th>zip_code</th>\n",
       "      <th>addr_state</th>\n",
       "      <th>dti</th>\n",
       "      <th>delinq_2yrs</th>\n",
       "      <th>earliest_cr_line</th>\n",
       "      <th>fico_range_low</th>\n",
       "      <th>fico_range_high</th>\n",
       "      <th>inq_last_6mths</th>\n",
       "      <th>mths_since_last_delinq</th>\n",
       "      <th>mths_since_last_record</th>\n",
       "      <th>open_acc</th>\n",
       "      <th>pub_rec</th>\n",
       "      <th>revol_bal</th>\n",
       "      <th>revol_util</th>\n",
       "      <th>total_acc</th>\n",
       "      <th>initial_list_status</th>\n",
       "      <th>out_prncp</th>\n",
       "      <th>out_prncp_inv</th>\n",
       "      <th>total_pymnt</th>\n",
       "      <th>total_pymnt_inv</th>\n",
       "      <th>total_rec_prncp</th>\n",
       "      <th>total_rec_int</th>\n",
       "      <th>total_rec_late_fee</th>\n",
       "      <th>recoveries</th>\n",
       "      <th>collection_recovery_fee</th>\n",
       "      <th>last_pymnt_d</th>\n",
       "      <th>last_pymnt_amnt</th>\n",
       "      <th>next_pymnt_d</th>\n",
       "      <th>last_credit_pull_d</th>\n",
       "      <th>last_fico_range_high</th>\n",
       "      <th>last_fico_range_low</th>\n",
       "      <th>collections_12_mths_ex_med</th>\n",
       "      <th>mths_since_last_major_derog</th>\n",
       "      <th>policy_code</th>\n",
       "      <th>application_type</th>\n",
       "      <th>annual_inc_joint</th>\n",
       "      <th>dti_joint</th>\n",
       "      <th>verification_status_joint</th>\n",
       "      <th>acc_now_delinq</th>\n",
       "      <th>tot_coll_amt</th>\n",
       "      <th>tot_cur_bal</th>\n",
       "      <th>open_acc_6m</th>\n",
       "      <th>open_act_il</th>\n",
       "      <th>open_il_12m</th>\n",
       "      <th>open_il_24m</th>\n",
       "      <th>mths_since_rcnt_il</th>\n",
       "      <th>total_bal_il</th>\n",
       "      <th>il_util</th>\n",
       "      <th>open_rv_12m</th>\n",
       "      <th>open_rv_24m</th>\n",
       "      <th>max_bal_bc</th>\n",
       "      <th>all_util</th>\n",
       "      <th>total_rev_hi_lim</th>\n",
       "      <th>inq_fi</th>\n",
       "      <th>total_cu_tl</th>\n",
       "      <th>inq_last_12m</th>\n",
       "      <th>acc_open_past_24mths</th>\n",
       "      <th>avg_cur_bal</th>\n",
       "      <th>bc_open_to_buy</th>\n",
       "      <th>bc_util</th>\n",
       "      <th>chargeoff_within_12_mths</th>\n",
       "      <th>delinq_amnt</th>\n",
       "      <th>mo_sin_old_il_acct</th>\n",
       "      <th>mo_sin_old_rev_tl_op</th>\n",
       "      <th>mo_sin_rcnt_rev_tl_op</th>\n",
       "      <th>mo_sin_rcnt_tl</th>\n",
       "      <th>mort_acc</th>\n",
       "      <th>mths_since_recent_bc</th>\n",
       "      <th>mths_since_recent_bc_dlq</th>\n",
       "      <th>mths_since_recent_inq</th>\n",
       "      <th>mths_since_recent_revol_delinq</th>\n",
       "      <th>num_accts_ever_120_pd</th>\n",
       "      <th>num_actv_bc_tl</th>\n",
       "      <th>num_actv_rev_tl</th>\n",
       "      <th>num_bc_sats</th>\n",
       "      <th>num_bc_tl</th>\n",
       "      <th>num_il_tl</th>\n",
       "      <th>num_op_rev_tl</th>\n",
       "      <th>num_rev_accts</th>\n",
       "      <th>num_rev_tl_bal_gt_0</th>\n",
       "      <th>num_sats</th>\n",
       "      <th>num_tl_120dpd_2m</th>\n",
       "      <th>num_tl_30dpd</th>\n",
       "      <th>num_tl_90g_dpd_24m</th>\n",
       "      <th>num_tl_op_past_12m</th>\n",
       "      <th>pct_tl_nvr_dlq</th>\n",
       "      <th>percent_bc_gt_75</th>\n",
       "      <th>pub_rec_bankruptcies</th>\n",
       "      <th>tax_liens</th>\n",
       "      <th>tot_hi_cred_lim</th>\n",
       "      <th>total_bal_ex_mort</th>\n",
       "      <th>total_bc_limit</th>\n",
       "      <th>total_il_high_credit_limit</th>\n",
       "      <th>revol_bal_joint</th>\n",
       "      <th>sec_app_fico_range_low</th>\n",
       "      <th>sec_app_fico_range_high</th>\n",
       "      <th>sec_app_earliest_cr_line</th>\n",
       "      <th>sec_app_inq_last_6mths</th>\n",
       "      <th>sec_app_mort_acc</th>\n",
       "      <th>sec_app_open_acc</th>\n",
       "      <th>sec_app_revol_util</th>\n",
       "      <th>sec_app_open_act_il</th>\n",
       "      <th>sec_app_num_rev_accts</th>\n",
       "      <th>sec_app_chargeoff_within_12_mths</th>\n",
       "      <th>sec_app_collections_12_mths_ex_med</th>\n",
       "      <th>sec_app_mths_since_last_major_derog</th>\n",
       "      <th>hardship_flag</th>\n",
       "      <th>hardship_type</th>\n",
       "      <th>hardship_reason</th>\n",
       "      <th>hardship_status</th>\n",
       "      <th>deferral_term</th>\n",
       "      <th>hardship_amount</th>\n",
       "      <th>hardship_start_date</th>\n",
       "      <th>hardship_end_date</th>\n",
       "      <th>payment_plan_start_date</th>\n",
       "      <th>hardship_length</th>\n",
       "      <th>hardship_dpd</th>\n",
       "      <th>hardship_loan_status</th>\n",
       "      <th>orig_projected_additional_accrued_interest</th>\n",
       "      <th>hardship_payoff_balance_amount</th>\n",
       "      <th>hardship_last_payment_amount</th>\n",
       "      <th>disbursement_method</th>\n",
       "      <th>debt_settlement_flag</th>\n",
       "      <th>debt_settlement_flag_date</th>\n",
       "      <th>settlement_status</th>\n",
       "      <th>settlement_date</th>\n",
       "      <th>settlement_amount</th>\n",
       "      <th>settlement_percentage</th>\n",
       "      <th>settlement_term</th>\n",
       "    </tr>\n",
       "  </thead>\n",
       "  <tbody>\n",
       "    <tr>\n",
       "      <th>0</th>\n",
       "      <td>68407277</td>\n",
       "      <td>NaN</td>\n",
       "      <td>3600.0</td>\n",
       "      <td>3600.0</td>\n",
       "      <td>3600.0</td>\n",
       "      <td>36 months</td>\n",
       "      <td>13.99</td>\n",
       "      <td>123.03</td>\n",
       "      <td>C</td>\n",
       "      <td>C4</td>\n",
       "      <td>leadman</td>\n",
       "      <td>10+ years</td>\n",
       "      <td>MORTGAGE</td>\n",
       "      <td>55000.0</td>\n",
       "      <td>Not Verified</td>\n",
       "      <td>Dec-2015</td>\n",
       "      <td>Fully Paid</td>\n",
       "      <td>n</td>\n",
       "      <td>https://lendingclub.com/browse/loanDetail.acti...</td>\n",
       "      <td>NaN</td>\n",
       "      <td>debt_consolidation</td>\n",
       "      <td>Debt consolidation</td>\n",
       "      <td>190xx</td>\n",
       "      <td>PA</td>\n",
       "      <td>5.91</td>\n",
       "      <td>0.0</td>\n",
       "      <td>Aug-2003</td>\n",
       "      <td>675.0</td>\n",
       "      <td>679.0</td>\n",
       "      <td>1.0</td>\n",
       "      <td>30.0</td>\n",
       "      <td>NaN</td>\n",
       "      <td>7.0</td>\n",
       "      <td>0.0</td>\n",
       "      <td>2765.0</td>\n",
       "      <td>29.7</td>\n",
       "      <td>13.0</td>\n",
       "      <td>w</td>\n",
       "      <td>0.00</td>\n",
       "      <td>0.00</td>\n",
       "      <td>4421.723917</td>\n",
       "      <td>4421.72</td>\n",
       "      <td>3600.00</td>\n",
       "      <td>821.72</td>\n",
       "      <td>0.0</td>\n",
       "      <td>0.0</td>\n",
       "      <td>0.0</td>\n",
       "      <td>Jan-2019</td>\n",
       "      <td>122.67</td>\n",
       "      <td>NaN</td>\n",
       "      <td>Mar-2019</td>\n",
       "      <td>564.0</td>\n",
       "      <td>560.0</td>\n",
       "      <td>0.0</td>\n",
       "      <td>30.0</td>\n",
       "      <td>1.0</td>\n",
       "      <td>Individual</td>\n",
       "      <td>NaN</td>\n",
       "      <td>NaN</td>\n",
       "      <td>NaN</td>\n",
       "      <td>0.0</td>\n",
       "      <td>722.0</td>\n",
       "      <td>144904.0</td>\n",
       "      <td>2.0</td>\n",
       "      <td>2.0</td>\n",
       "      <td>0.0</td>\n",
       "      <td>1.0</td>\n",
       "      <td>21.0</td>\n",
       "      <td>4981.0</td>\n",
       "      <td>36.0</td>\n",
       "      <td>3.0</td>\n",
       "      <td>3.0</td>\n",
       "      <td>722.0</td>\n",
       "      <td>34.0</td>\n",
       "      <td>9300.0</td>\n",
       "      <td>3.0</td>\n",
       "      <td>1.0</td>\n",
       "      <td>4.0</td>\n",
       "      <td>4.0</td>\n",
       "      <td>20701.0</td>\n",
       "      <td>1506.0</td>\n",
       "      <td>37.2</td>\n",
       "      <td>0.0</td>\n",
       "      <td>0.0</td>\n",
       "      <td>148.0</td>\n",
       "      <td>128.0</td>\n",
       "      <td>3.0</td>\n",
       "      <td>3.0</td>\n",
       "      <td>1.0</td>\n",
       "      <td>4.0</td>\n",
       "      <td>69.0</td>\n",
       "      <td>4.0</td>\n",
       "      <td>69.0</td>\n",
       "      <td>2.0</td>\n",
       "      <td>2.0</td>\n",
       "      <td>4.0</td>\n",
       "      <td>2.0</td>\n",
       "      <td>5.0</td>\n",
       "      <td>3.0</td>\n",
       "      <td>4.0</td>\n",
       "      <td>9.0</td>\n",
       "      <td>4.0</td>\n",
       "      <td>7.0</td>\n",
       "      <td>0.0</td>\n",
       "      <td>0.0</td>\n",
       "      <td>0.0</td>\n",
       "      <td>3.0</td>\n",
       "      <td>76.9</td>\n",
       "      <td>0.0</td>\n",
       "      <td>0.0</td>\n",
       "      <td>0.0</td>\n",
       "      <td>178050.0</td>\n",
       "      <td>7746.0</td>\n",
       "      <td>2400.0</td>\n",
       "      <td>13734.0</td>\n",
       "      <td>NaN</td>\n",
       "      <td>NaN</td>\n",
       "      <td>NaN</td>\n",
       "      <td>NaN</td>\n",
       "      <td>NaN</td>\n",
       "      <td>NaN</td>\n",
       "      <td>NaN</td>\n",
       "      <td>NaN</td>\n",
       "      <td>NaN</td>\n",
       "      <td>NaN</td>\n",
       "      <td>NaN</td>\n",
       "      <td>NaN</td>\n",
       "      <td>NaN</td>\n",
       "      <td>N</td>\n",
       "      <td>NaN</td>\n",
       "      <td>NaN</td>\n",
       "      <td>NaN</td>\n",
       "      <td>NaN</td>\n",
       "      <td>NaN</td>\n",
       "      <td>NaN</td>\n",
       "      <td>NaN</td>\n",
       "      <td>NaN</td>\n",
       "      <td>NaN</td>\n",
       "      <td>NaN</td>\n",
       "      <td>NaN</td>\n",
       "      <td>NaN</td>\n",
       "      <td>NaN</td>\n",
       "      <td>NaN</td>\n",
       "      <td>Cash</td>\n",
       "      <td>N</td>\n",
       "      <td>NaN</td>\n",
       "      <td>NaN</td>\n",
       "      <td>NaN</td>\n",
       "      <td>NaN</td>\n",
       "      <td>NaN</td>\n",
       "      <td>NaN</td>\n",
       "    </tr>\n",
       "    <tr>\n",
       "      <th>1</th>\n",
       "      <td>68355089</td>\n",
       "      <td>NaN</td>\n",
       "      <td>24700.0</td>\n",
       "      <td>24700.0</td>\n",
       "      <td>24700.0</td>\n",
       "      <td>36 months</td>\n",
       "      <td>11.99</td>\n",
       "      <td>820.28</td>\n",
       "      <td>C</td>\n",
       "      <td>C1</td>\n",
       "      <td>Engineer</td>\n",
       "      <td>10+ years</td>\n",
       "      <td>MORTGAGE</td>\n",
       "      <td>65000.0</td>\n",
       "      <td>Not Verified</td>\n",
       "      <td>Dec-2015</td>\n",
       "      <td>Fully Paid</td>\n",
       "      <td>n</td>\n",
       "      <td>https://lendingclub.com/browse/loanDetail.acti...</td>\n",
       "      <td>NaN</td>\n",
       "      <td>small_business</td>\n",
       "      <td>Business</td>\n",
       "      <td>577xx</td>\n",
       "      <td>SD</td>\n",
       "      <td>16.06</td>\n",
       "      <td>1.0</td>\n",
       "      <td>Dec-1999</td>\n",
       "      <td>715.0</td>\n",
       "      <td>719.0</td>\n",
       "      <td>4.0</td>\n",
       "      <td>6.0</td>\n",
       "      <td>NaN</td>\n",
       "      <td>22.0</td>\n",
       "      <td>0.0</td>\n",
       "      <td>21470.0</td>\n",
       "      <td>19.2</td>\n",
       "      <td>38.0</td>\n",
       "      <td>w</td>\n",
       "      <td>0.00</td>\n",
       "      <td>0.00</td>\n",
       "      <td>25679.660000</td>\n",
       "      <td>25679.66</td>\n",
       "      <td>24700.00</td>\n",
       "      <td>979.66</td>\n",
       "      <td>0.0</td>\n",
       "      <td>0.0</td>\n",
       "      <td>0.0</td>\n",
       "      <td>Jun-2016</td>\n",
       "      <td>926.35</td>\n",
       "      <td>NaN</td>\n",
       "      <td>Mar-2019</td>\n",
       "      <td>699.0</td>\n",
       "      <td>695.0</td>\n",
       "      <td>0.0</td>\n",
       "      <td>NaN</td>\n",
       "      <td>1.0</td>\n",
       "      <td>Individual</td>\n",
       "      <td>NaN</td>\n",
       "      <td>NaN</td>\n",
       "      <td>NaN</td>\n",
       "      <td>0.0</td>\n",
       "      <td>0.0</td>\n",
       "      <td>204396.0</td>\n",
       "      <td>1.0</td>\n",
       "      <td>1.0</td>\n",
       "      <td>0.0</td>\n",
       "      <td>1.0</td>\n",
       "      <td>19.0</td>\n",
       "      <td>18005.0</td>\n",
       "      <td>73.0</td>\n",
       "      <td>2.0</td>\n",
       "      <td>3.0</td>\n",
       "      <td>6472.0</td>\n",
       "      <td>29.0</td>\n",
       "      <td>111800.0</td>\n",
       "      <td>0.0</td>\n",
       "      <td>0.0</td>\n",
       "      <td>6.0</td>\n",
       "      <td>4.0</td>\n",
       "      <td>9733.0</td>\n",
       "      <td>57830.0</td>\n",
       "      <td>27.1</td>\n",
       "      <td>0.0</td>\n",
       "      <td>0.0</td>\n",
       "      <td>113.0</td>\n",
       "      <td>192.0</td>\n",
       "      <td>2.0</td>\n",
       "      <td>2.0</td>\n",
       "      <td>4.0</td>\n",
       "      <td>2.0</td>\n",
       "      <td>NaN</td>\n",
       "      <td>0.0</td>\n",
       "      <td>6.0</td>\n",
       "      <td>0.0</td>\n",
       "      <td>5.0</td>\n",
       "      <td>5.0</td>\n",
       "      <td>13.0</td>\n",
       "      <td>17.0</td>\n",
       "      <td>6.0</td>\n",
       "      <td>20.0</td>\n",
       "      <td>27.0</td>\n",
       "      <td>5.0</td>\n",
       "      <td>22.0</td>\n",
       "      <td>0.0</td>\n",
       "      <td>0.0</td>\n",
       "      <td>0.0</td>\n",
       "      <td>2.0</td>\n",
       "      <td>97.4</td>\n",
       "      <td>7.7</td>\n",
       "      <td>0.0</td>\n",
       "      <td>0.0</td>\n",
       "      <td>314017.0</td>\n",
       "      <td>39475.0</td>\n",
       "      <td>79300.0</td>\n",
       "      <td>24667.0</td>\n",
       "      <td>NaN</td>\n",
       "      <td>NaN</td>\n",
       "      <td>NaN</td>\n",
       "      <td>NaN</td>\n",
       "      <td>NaN</td>\n",
       "      <td>NaN</td>\n",
       "      <td>NaN</td>\n",
       "      <td>NaN</td>\n",
       "      <td>NaN</td>\n",
       "      <td>NaN</td>\n",
       "      <td>NaN</td>\n",
       "      <td>NaN</td>\n",
       "      <td>NaN</td>\n",
       "      <td>N</td>\n",
       "      <td>NaN</td>\n",
       "      <td>NaN</td>\n",
       "      <td>NaN</td>\n",
       "      <td>NaN</td>\n",
       "      <td>NaN</td>\n",
       "      <td>NaN</td>\n",
       "      <td>NaN</td>\n",
       "      <td>NaN</td>\n",
       "      <td>NaN</td>\n",
       "      <td>NaN</td>\n",
       "      <td>NaN</td>\n",
       "      <td>NaN</td>\n",
       "      <td>NaN</td>\n",
       "      <td>NaN</td>\n",
       "      <td>Cash</td>\n",
       "      <td>N</td>\n",
       "      <td>NaN</td>\n",
       "      <td>NaN</td>\n",
       "      <td>NaN</td>\n",
       "      <td>NaN</td>\n",
       "      <td>NaN</td>\n",
       "      <td>NaN</td>\n",
       "    </tr>\n",
       "    <tr>\n",
       "      <th>2</th>\n",
       "      <td>68341763</td>\n",
       "      <td>NaN</td>\n",
       "      <td>20000.0</td>\n",
       "      <td>20000.0</td>\n",
       "      <td>20000.0</td>\n",
       "      <td>60 months</td>\n",
       "      <td>10.78</td>\n",
       "      <td>432.66</td>\n",
       "      <td>B</td>\n",
       "      <td>B4</td>\n",
       "      <td>truck driver</td>\n",
       "      <td>10+ years</td>\n",
       "      <td>MORTGAGE</td>\n",
       "      <td>63000.0</td>\n",
       "      <td>Not Verified</td>\n",
       "      <td>Dec-2015</td>\n",
       "      <td>Fully Paid</td>\n",
       "      <td>n</td>\n",
       "      <td>https://lendingclub.com/browse/loanDetail.acti...</td>\n",
       "      <td>NaN</td>\n",
       "      <td>home_improvement</td>\n",
       "      <td>NaN</td>\n",
       "      <td>605xx</td>\n",
       "      <td>IL</td>\n",
       "      <td>10.78</td>\n",
       "      <td>0.0</td>\n",
       "      <td>Aug-2000</td>\n",
       "      <td>695.0</td>\n",
       "      <td>699.0</td>\n",
       "      <td>0.0</td>\n",
       "      <td>NaN</td>\n",
       "      <td>NaN</td>\n",
       "      <td>6.0</td>\n",
       "      <td>0.0</td>\n",
       "      <td>7869.0</td>\n",
       "      <td>56.2</td>\n",
       "      <td>18.0</td>\n",
       "      <td>w</td>\n",
       "      <td>0.00</td>\n",
       "      <td>0.00</td>\n",
       "      <td>22705.924294</td>\n",
       "      <td>22705.92</td>\n",
       "      <td>20000.00</td>\n",
       "      <td>2705.92</td>\n",
       "      <td>0.0</td>\n",
       "      <td>0.0</td>\n",
       "      <td>0.0</td>\n",
       "      <td>Jun-2017</td>\n",
       "      <td>15813.30</td>\n",
       "      <td>NaN</td>\n",
       "      <td>Mar-2019</td>\n",
       "      <td>704.0</td>\n",
       "      <td>700.0</td>\n",
       "      <td>0.0</td>\n",
       "      <td>NaN</td>\n",
       "      <td>1.0</td>\n",
       "      <td>Joint App</td>\n",
       "      <td>71000.0</td>\n",
       "      <td>13.85</td>\n",
       "      <td>Not Verified</td>\n",
       "      <td>0.0</td>\n",
       "      <td>0.0</td>\n",
       "      <td>189699.0</td>\n",
       "      <td>0.0</td>\n",
       "      <td>1.0</td>\n",
       "      <td>0.0</td>\n",
       "      <td>4.0</td>\n",
       "      <td>19.0</td>\n",
       "      <td>10827.0</td>\n",
       "      <td>73.0</td>\n",
       "      <td>0.0</td>\n",
       "      <td>2.0</td>\n",
       "      <td>2081.0</td>\n",
       "      <td>65.0</td>\n",
       "      <td>14000.0</td>\n",
       "      <td>2.0</td>\n",
       "      <td>5.0</td>\n",
       "      <td>1.0</td>\n",
       "      <td>6.0</td>\n",
       "      <td>31617.0</td>\n",
       "      <td>2737.0</td>\n",
       "      <td>55.9</td>\n",
       "      <td>0.0</td>\n",
       "      <td>0.0</td>\n",
       "      <td>125.0</td>\n",
       "      <td>184.0</td>\n",
       "      <td>14.0</td>\n",
       "      <td>14.0</td>\n",
       "      <td>5.0</td>\n",
       "      <td>101.0</td>\n",
       "      <td>NaN</td>\n",
       "      <td>10.0</td>\n",
       "      <td>NaN</td>\n",
       "      <td>0.0</td>\n",
       "      <td>2.0</td>\n",
       "      <td>3.0</td>\n",
       "      <td>2.0</td>\n",
       "      <td>4.0</td>\n",
       "      <td>6.0</td>\n",
       "      <td>4.0</td>\n",
       "      <td>7.0</td>\n",
       "      <td>3.0</td>\n",
       "      <td>6.0</td>\n",
       "      <td>0.0</td>\n",
       "      <td>0.0</td>\n",
       "      <td>0.0</td>\n",
       "      <td>0.0</td>\n",
       "      <td>100.0</td>\n",
       "      <td>50.0</td>\n",
       "      <td>0.0</td>\n",
       "      <td>0.0</td>\n",
       "      <td>218418.0</td>\n",
       "      <td>18696.0</td>\n",
       "      <td>6200.0</td>\n",
       "      <td>14877.0</td>\n",
       "      <td>NaN</td>\n",
       "      <td>NaN</td>\n",
       "      <td>NaN</td>\n",
       "      <td>NaN</td>\n",
       "      <td>NaN</td>\n",
       "      <td>NaN</td>\n",
       "      <td>NaN</td>\n",
       "      <td>NaN</td>\n",
       "      <td>NaN</td>\n",
       "      <td>NaN</td>\n",
       "      <td>NaN</td>\n",
       "      <td>NaN</td>\n",
       "      <td>NaN</td>\n",
       "      <td>N</td>\n",
       "      <td>NaN</td>\n",
       "      <td>NaN</td>\n",
       "      <td>NaN</td>\n",
       "      <td>NaN</td>\n",
       "      <td>NaN</td>\n",
       "      <td>NaN</td>\n",
       "      <td>NaN</td>\n",
       "      <td>NaN</td>\n",
       "      <td>NaN</td>\n",
       "      <td>NaN</td>\n",
       "      <td>NaN</td>\n",
       "      <td>NaN</td>\n",
       "      <td>NaN</td>\n",
       "      <td>NaN</td>\n",
       "      <td>Cash</td>\n",
       "      <td>N</td>\n",
       "      <td>NaN</td>\n",
       "      <td>NaN</td>\n",
       "      <td>NaN</td>\n",
       "      <td>NaN</td>\n",
       "      <td>NaN</td>\n",
       "      <td>NaN</td>\n",
       "    </tr>\n",
       "    <tr>\n",
       "      <th>3</th>\n",
       "      <td>66310712</td>\n",
       "      <td>NaN</td>\n",
       "      <td>35000.0</td>\n",
       "      <td>35000.0</td>\n",
       "      <td>35000.0</td>\n",
       "      <td>60 months</td>\n",
       "      <td>14.85</td>\n",
       "      <td>829.90</td>\n",
       "      <td>C</td>\n",
       "      <td>C5</td>\n",
       "      <td>Information Systems Officer</td>\n",
       "      <td>10+ years</td>\n",
       "      <td>MORTGAGE</td>\n",
       "      <td>110000.0</td>\n",
       "      <td>Source Verified</td>\n",
       "      <td>Dec-2015</td>\n",
       "      <td>Current</td>\n",
       "      <td>n</td>\n",
       "      <td>https://lendingclub.com/browse/loanDetail.acti...</td>\n",
       "      <td>NaN</td>\n",
       "      <td>debt_consolidation</td>\n",
       "      <td>Debt consolidation</td>\n",
       "      <td>076xx</td>\n",
       "      <td>NJ</td>\n",
       "      <td>17.06</td>\n",
       "      <td>0.0</td>\n",
       "      <td>Sep-2008</td>\n",
       "      <td>785.0</td>\n",
       "      <td>789.0</td>\n",
       "      <td>0.0</td>\n",
       "      <td>NaN</td>\n",
       "      <td>NaN</td>\n",
       "      <td>13.0</td>\n",
       "      <td>0.0</td>\n",
       "      <td>7802.0</td>\n",
       "      <td>11.6</td>\n",
       "      <td>17.0</td>\n",
       "      <td>w</td>\n",
       "      <td>15897.65</td>\n",
       "      <td>15897.65</td>\n",
       "      <td>31464.010000</td>\n",
       "      <td>31464.01</td>\n",
       "      <td>19102.35</td>\n",
       "      <td>12361.66</td>\n",
       "      <td>0.0</td>\n",
       "      <td>0.0</td>\n",
       "      <td>0.0</td>\n",
       "      <td>Feb-2019</td>\n",
       "      <td>829.90</td>\n",
       "      <td>Apr-2019</td>\n",
       "      <td>Mar-2019</td>\n",
       "      <td>679.0</td>\n",
       "      <td>675.0</td>\n",
       "      <td>0.0</td>\n",
       "      <td>NaN</td>\n",
       "      <td>1.0</td>\n",
       "      <td>Individual</td>\n",
       "      <td>NaN</td>\n",
       "      <td>NaN</td>\n",
       "      <td>NaN</td>\n",
       "      <td>0.0</td>\n",
       "      <td>0.0</td>\n",
       "      <td>301500.0</td>\n",
       "      <td>1.0</td>\n",
       "      <td>1.0</td>\n",
       "      <td>0.0</td>\n",
       "      <td>1.0</td>\n",
       "      <td>23.0</td>\n",
       "      <td>12609.0</td>\n",
       "      <td>70.0</td>\n",
       "      <td>1.0</td>\n",
       "      <td>1.0</td>\n",
       "      <td>6987.0</td>\n",
       "      <td>45.0</td>\n",
       "      <td>67300.0</td>\n",
       "      <td>0.0</td>\n",
       "      <td>1.0</td>\n",
       "      <td>0.0</td>\n",
       "      <td>2.0</td>\n",
       "      <td>23192.0</td>\n",
       "      <td>54962.0</td>\n",
       "      <td>12.1</td>\n",
       "      <td>0.0</td>\n",
       "      <td>0.0</td>\n",
       "      <td>36.0</td>\n",
       "      <td>87.0</td>\n",
       "      <td>2.0</td>\n",
       "      <td>2.0</td>\n",
       "      <td>1.0</td>\n",
       "      <td>2.0</td>\n",
       "      <td>NaN</td>\n",
       "      <td>NaN</td>\n",
       "      <td>NaN</td>\n",
       "      <td>0.0</td>\n",
       "      <td>4.0</td>\n",
       "      <td>5.0</td>\n",
       "      <td>8.0</td>\n",
       "      <td>10.0</td>\n",
       "      <td>2.0</td>\n",
       "      <td>10.0</td>\n",
       "      <td>13.0</td>\n",
       "      <td>5.0</td>\n",
       "      <td>13.0</td>\n",
       "      <td>0.0</td>\n",
       "      <td>0.0</td>\n",
       "      <td>0.0</td>\n",
       "      <td>1.0</td>\n",
       "      <td>100.0</td>\n",
       "      <td>0.0</td>\n",
       "      <td>0.0</td>\n",
       "      <td>0.0</td>\n",
       "      <td>381215.0</td>\n",
       "      <td>52226.0</td>\n",
       "      <td>62500.0</td>\n",
       "      <td>18000.0</td>\n",
       "      <td>NaN</td>\n",
       "      <td>NaN</td>\n",
       "      <td>NaN</td>\n",
       "      <td>NaN</td>\n",
       "      <td>NaN</td>\n",
       "      <td>NaN</td>\n",
       "      <td>NaN</td>\n",
       "      <td>NaN</td>\n",
       "      <td>NaN</td>\n",
       "      <td>NaN</td>\n",
       "      <td>NaN</td>\n",
       "      <td>NaN</td>\n",
       "      <td>NaN</td>\n",
       "      <td>N</td>\n",
       "      <td>NaN</td>\n",
       "      <td>NaN</td>\n",
       "      <td>NaN</td>\n",
       "      <td>NaN</td>\n",
       "      <td>NaN</td>\n",
       "      <td>NaN</td>\n",
       "      <td>NaN</td>\n",
       "      <td>NaN</td>\n",
       "      <td>NaN</td>\n",
       "      <td>NaN</td>\n",
       "      <td>NaN</td>\n",
       "      <td>NaN</td>\n",
       "      <td>NaN</td>\n",
       "      <td>NaN</td>\n",
       "      <td>Cash</td>\n",
       "      <td>N</td>\n",
       "      <td>NaN</td>\n",
       "      <td>NaN</td>\n",
       "      <td>NaN</td>\n",
       "      <td>NaN</td>\n",
       "      <td>NaN</td>\n",
       "      <td>NaN</td>\n",
       "    </tr>\n",
       "    <tr>\n",
       "      <th>4</th>\n",
       "      <td>68476807</td>\n",
       "      <td>NaN</td>\n",
       "      <td>10400.0</td>\n",
       "      <td>10400.0</td>\n",
       "      <td>10400.0</td>\n",
       "      <td>60 months</td>\n",
       "      <td>22.45</td>\n",
       "      <td>289.91</td>\n",
       "      <td>F</td>\n",
       "      <td>F1</td>\n",
       "      <td>Contract Specialist</td>\n",
       "      <td>3 years</td>\n",
       "      <td>MORTGAGE</td>\n",
       "      <td>104433.0</td>\n",
       "      <td>Source Verified</td>\n",
       "      <td>Dec-2015</td>\n",
       "      <td>Fully Paid</td>\n",
       "      <td>n</td>\n",
       "      <td>https://lendingclub.com/browse/loanDetail.acti...</td>\n",
       "      <td>NaN</td>\n",
       "      <td>major_purchase</td>\n",
       "      <td>Major purchase</td>\n",
       "      <td>174xx</td>\n",
       "      <td>PA</td>\n",
       "      <td>25.37</td>\n",
       "      <td>1.0</td>\n",
       "      <td>Jun-1998</td>\n",
       "      <td>695.0</td>\n",
       "      <td>699.0</td>\n",
       "      <td>3.0</td>\n",
       "      <td>12.0</td>\n",
       "      <td>NaN</td>\n",
       "      <td>12.0</td>\n",
       "      <td>0.0</td>\n",
       "      <td>21929.0</td>\n",
       "      <td>64.5</td>\n",
       "      <td>35.0</td>\n",
       "      <td>w</td>\n",
       "      <td>0.00</td>\n",
       "      <td>0.00</td>\n",
       "      <td>11740.500000</td>\n",
       "      <td>11740.50</td>\n",
       "      <td>10400.00</td>\n",
       "      <td>1340.50</td>\n",
       "      <td>0.0</td>\n",
       "      <td>0.0</td>\n",
       "      <td>0.0</td>\n",
       "      <td>Jul-2016</td>\n",
       "      <td>10128.96</td>\n",
       "      <td>NaN</td>\n",
       "      <td>Mar-2018</td>\n",
       "      <td>704.0</td>\n",
       "      <td>700.0</td>\n",
       "      <td>0.0</td>\n",
       "      <td>NaN</td>\n",
       "      <td>1.0</td>\n",
       "      <td>Individual</td>\n",
       "      <td>NaN</td>\n",
       "      <td>NaN</td>\n",
       "      <td>NaN</td>\n",
       "      <td>0.0</td>\n",
       "      <td>0.0</td>\n",
       "      <td>331730.0</td>\n",
       "      <td>1.0</td>\n",
       "      <td>3.0</td>\n",
       "      <td>0.0</td>\n",
       "      <td>3.0</td>\n",
       "      <td>14.0</td>\n",
       "      <td>73839.0</td>\n",
       "      <td>84.0</td>\n",
       "      <td>4.0</td>\n",
       "      <td>7.0</td>\n",
       "      <td>9702.0</td>\n",
       "      <td>78.0</td>\n",
       "      <td>34000.0</td>\n",
       "      <td>2.0</td>\n",
       "      <td>1.0</td>\n",
       "      <td>3.0</td>\n",
       "      <td>10.0</td>\n",
       "      <td>27644.0</td>\n",
       "      <td>4567.0</td>\n",
       "      <td>77.5</td>\n",
       "      <td>0.0</td>\n",
       "      <td>0.0</td>\n",
       "      <td>128.0</td>\n",
       "      <td>210.0</td>\n",
       "      <td>4.0</td>\n",
       "      <td>4.0</td>\n",
       "      <td>6.0</td>\n",
       "      <td>4.0</td>\n",
       "      <td>12.0</td>\n",
       "      <td>1.0</td>\n",
       "      <td>12.0</td>\n",
       "      <td>0.0</td>\n",
       "      <td>4.0</td>\n",
       "      <td>6.0</td>\n",
       "      <td>5.0</td>\n",
       "      <td>9.0</td>\n",
       "      <td>10.0</td>\n",
       "      <td>7.0</td>\n",
       "      <td>19.0</td>\n",
       "      <td>6.0</td>\n",
       "      <td>12.0</td>\n",
       "      <td>0.0</td>\n",
       "      <td>0.0</td>\n",
       "      <td>0.0</td>\n",
       "      <td>4.0</td>\n",
       "      <td>96.6</td>\n",
       "      <td>60.0</td>\n",
       "      <td>0.0</td>\n",
       "      <td>0.0</td>\n",
       "      <td>439570.0</td>\n",
       "      <td>95768.0</td>\n",
       "      <td>20300.0</td>\n",
       "      <td>88097.0</td>\n",
       "      <td>NaN</td>\n",
       "      <td>NaN</td>\n",
       "      <td>NaN</td>\n",
       "      <td>NaN</td>\n",
       "      <td>NaN</td>\n",
       "      <td>NaN</td>\n",
       "      <td>NaN</td>\n",
       "      <td>NaN</td>\n",
       "      <td>NaN</td>\n",
       "      <td>NaN</td>\n",
       "      <td>NaN</td>\n",
       "      <td>NaN</td>\n",
       "      <td>NaN</td>\n",
       "      <td>N</td>\n",
       "      <td>NaN</td>\n",
       "      <td>NaN</td>\n",
       "      <td>NaN</td>\n",
       "      <td>NaN</td>\n",
       "      <td>NaN</td>\n",
       "      <td>NaN</td>\n",
       "      <td>NaN</td>\n",
       "      <td>NaN</td>\n",
       "      <td>NaN</td>\n",
       "      <td>NaN</td>\n",
       "      <td>NaN</td>\n",
       "      <td>NaN</td>\n",
       "      <td>NaN</td>\n",
       "      <td>NaN</td>\n",
       "      <td>Cash</td>\n",
       "      <td>N</td>\n",
       "      <td>NaN</td>\n",
       "      <td>NaN</td>\n",
       "      <td>NaN</td>\n",
       "      <td>NaN</td>\n",
       "      <td>NaN</td>\n",
       "      <td>NaN</td>\n",
       "    </tr>\n",
       "  </tbody>\n",
       "</table>\n",
       "</div>"
      ],
      "text/plain": [
       "         id  member_id  loan_amnt  funded_amnt  funded_amnt_inv        term  \\\n",
       "0  68407277        NaN     3600.0       3600.0           3600.0   36 months   \n",
       "1  68355089        NaN    24700.0      24700.0          24700.0   36 months   \n",
       "2  68341763        NaN    20000.0      20000.0          20000.0   60 months   \n",
       "3  66310712        NaN    35000.0      35000.0          35000.0   60 months   \n",
       "4  68476807        NaN    10400.0      10400.0          10400.0   60 months   \n",
       "\n",
       "   int_rate  installment grade sub_grade                    emp_title  \\\n",
       "0     13.99       123.03     C        C4                      leadman   \n",
       "1     11.99       820.28     C        C1                     Engineer   \n",
       "2     10.78       432.66     B        B4                 truck driver   \n",
       "3     14.85       829.90     C        C5  Information Systems Officer   \n",
       "4     22.45       289.91     F        F1          Contract Specialist   \n",
       "\n",
       "  emp_length home_ownership  annual_inc verification_status   issue_d  \\\n",
       "0  10+ years       MORTGAGE     55000.0        Not Verified  Dec-2015   \n",
       "1  10+ years       MORTGAGE     65000.0        Not Verified  Dec-2015   \n",
       "2  10+ years       MORTGAGE     63000.0        Not Verified  Dec-2015   \n",
       "3  10+ years       MORTGAGE    110000.0     Source Verified  Dec-2015   \n",
       "4    3 years       MORTGAGE    104433.0     Source Verified  Dec-2015   \n",
       "\n",
       "  loan_status pymnt_plan                                                url  \\\n",
       "0  Fully Paid          n  https://lendingclub.com/browse/loanDetail.acti...   \n",
       "1  Fully Paid          n  https://lendingclub.com/browse/loanDetail.acti...   \n",
       "2  Fully Paid          n  https://lendingclub.com/browse/loanDetail.acti...   \n",
       "3     Current          n  https://lendingclub.com/browse/loanDetail.acti...   \n",
       "4  Fully Paid          n  https://lendingclub.com/browse/loanDetail.acti...   \n",
       "\n",
       "  desc             purpose               title zip_code addr_state    dti  \\\n",
       "0  NaN  debt_consolidation  Debt consolidation    190xx         PA   5.91   \n",
       "1  NaN      small_business            Business    577xx         SD  16.06   \n",
       "2  NaN    home_improvement                 NaN    605xx         IL  10.78   \n",
       "3  NaN  debt_consolidation  Debt consolidation    076xx         NJ  17.06   \n",
       "4  NaN      major_purchase      Major purchase    174xx         PA  25.37   \n",
       "\n",
       "   delinq_2yrs earliest_cr_line  fico_range_low  fico_range_high  \\\n",
       "0          0.0         Aug-2003           675.0            679.0   \n",
       "1          1.0         Dec-1999           715.0            719.0   \n",
       "2          0.0         Aug-2000           695.0            699.0   \n",
       "3          0.0         Sep-2008           785.0            789.0   \n",
       "4          1.0         Jun-1998           695.0            699.0   \n",
       "\n",
       "   inq_last_6mths  mths_since_last_delinq  mths_since_last_record  open_acc  \\\n",
       "0             1.0                    30.0                     NaN       7.0   \n",
       "1             4.0                     6.0                     NaN      22.0   \n",
       "2             0.0                     NaN                     NaN       6.0   \n",
       "3             0.0                     NaN                     NaN      13.0   \n",
       "4             3.0                    12.0                     NaN      12.0   \n",
       "\n",
       "   pub_rec  revol_bal  revol_util  total_acc initial_list_status  out_prncp  \\\n",
       "0      0.0     2765.0        29.7       13.0                   w       0.00   \n",
       "1      0.0    21470.0        19.2       38.0                   w       0.00   \n",
       "2      0.0     7869.0        56.2       18.0                   w       0.00   \n",
       "3      0.0     7802.0        11.6       17.0                   w   15897.65   \n",
       "4      0.0    21929.0        64.5       35.0                   w       0.00   \n",
       "\n",
       "   out_prncp_inv   total_pymnt  total_pymnt_inv  total_rec_prncp  \\\n",
       "0           0.00   4421.723917          4421.72          3600.00   \n",
       "1           0.00  25679.660000         25679.66         24700.00   \n",
       "2           0.00  22705.924294         22705.92         20000.00   \n",
       "3       15897.65  31464.010000         31464.01         19102.35   \n",
       "4           0.00  11740.500000         11740.50         10400.00   \n",
       "\n",
       "   total_rec_int  total_rec_late_fee  recoveries  collection_recovery_fee  \\\n",
       "0         821.72                 0.0         0.0                      0.0   \n",
       "1         979.66                 0.0         0.0                      0.0   \n",
       "2        2705.92                 0.0         0.0                      0.0   \n",
       "3       12361.66                 0.0         0.0                      0.0   \n",
       "4        1340.50                 0.0         0.0                      0.0   \n",
       "\n",
       "  last_pymnt_d  last_pymnt_amnt next_pymnt_d last_credit_pull_d  \\\n",
       "0     Jan-2019           122.67          NaN           Mar-2019   \n",
       "1     Jun-2016           926.35          NaN           Mar-2019   \n",
       "2     Jun-2017         15813.30          NaN           Mar-2019   \n",
       "3     Feb-2019           829.90     Apr-2019           Mar-2019   \n",
       "4     Jul-2016         10128.96          NaN           Mar-2018   \n",
       "\n",
       "   last_fico_range_high  last_fico_range_low  collections_12_mths_ex_med  \\\n",
       "0                 564.0                560.0                         0.0   \n",
       "1                 699.0                695.0                         0.0   \n",
       "2                 704.0                700.0                         0.0   \n",
       "3                 679.0                675.0                         0.0   \n",
       "4                 704.0                700.0                         0.0   \n",
       "\n",
       "   mths_since_last_major_derog  policy_code application_type  \\\n",
       "0                         30.0          1.0       Individual   \n",
       "1                          NaN          1.0       Individual   \n",
       "2                          NaN          1.0        Joint App   \n",
       "3                          NaN          1.0       Individual   \n",
       "4                          NaN          1.0       Individual   \n",
       "\n",
       "   annual_inc_joint  dti_joint verification_status_joint  acc_now_delinq  \\\n",
       "0               NaN        NaN                       NaN             0.0   \n",
       "1               NaN        NaN                       NaN             0.0   \n",
       "2           71000.0      13.85              Not Verified             0.0   \n",
       "3               NaN        NaN                       NaN             0.0   \n",
       "4               NaN        NaN                       NaN             0.0   \n",
       "\n",
       "   tot_coll_amt  tot_cur_bal  open_acc_6m  open_act_il  open_il_12m  \\\n",
       "0         722.0     144904.0          2.0          2.0          0.0   \n",
       "1           0.0     204396.0          1.0          1.0          0.0   \n",
       "2           0.0     189699.0          0.0          1.0          0.0   \n",
       "3           0.0     301500.0          1.0          1.0          0.0   \n",
       "4           0.0     331730.0          1.0          3.0          0.0   \n",
       "\n",
       "   open_il_24m  mths_since_rcnt_il  total_bal_il  il_util  open_rv_12m  \\\n",
       "0          1.0                21.0        4981.0     36.0          3.0   \n",
       "1          1.0                19.0       18005.0     73.0          2.0   \n",
       "2          4.0                19.0       10827.0     73.0          0.0   \n",
       "3          1.0                23.0       12609.0     70.0          1.0   \n",
       "4          3.0                14.0       73839.0     84.0          4.0   \n",
       "\n",
       "   open_rv_24m  max_bal_bc  all_util  total_rev_hi_lim  inq_fi  total_cu_tl  \\\n",
       "0          3.0       722.0      34.0            9300.0     3.0          1.0   \n",
       "1          3.0      6472.0      29.0          111800.0     0.0          0.0   \n",
       "2          2.0      2081.0      65.0           14000.0     2.0          5.0   \n",
       "3          1.0      6987.0      45.0           67300.0     0.0          1.0   \n",
       "4          7.0      9702.0      78.0           34000.0     2.0          1.0   \n",
       "\n",
       "   inq_last_12m  acc_open_past_24mths  avg_cur_bal  bc_open_to_buy  bc_util  \\\n",
       "0           4.0                   4.0      20701.0          1506.0     37.2   \n",
       "1           6.0                   4.0       9733.0         57830.0     27.1   \n",
       "2           1.0                   6.0      31617.0          2737.0     55.9   \n",
       "3           0.0                   2.0      23192.0         54962.0     12.1   \n",
       "4           3.0                  10.0      27644.0          4567.0     77.5   \n",
       "\n",
       "   chargeoff_within_12_mths  delinq_amnt  mo_sin_old_il_acct  \\\n",
       "0                       0.0          0.0               148.0   \n",
       "1                       0.0          0.0               113.0   \n",
       "2                       0.0          0.0               125.0   \n",
       "3                       0.0          0.0                36.0   \n",
       "4                       0.0          0.0               128.0   \n",
       "\n",
       "   mo_sin_old_rev_tl_op  mo_sin_rcnt_rev_tl_op  mo_sin_rcnt_tl  mort_acc  \\\n",
       "0                 128.0                    3.0             3.0       1.0   \n",
       "1                 192.0                    2.0             2.0       4.0   \n",
       "2                 184.0                   14.0            14.0       5.0   \n",
       "3                  87.0                    2.0             2.0       1.0   \n",
       "4                 210.0                    4.0             4.0       6.0   \n",
       "\n",
       "   mths_since_recent_bc  mths_since_recent_bc_dlq  mths_since_recent_inq  \\\n",
       "0                   4.0                      69.0                    4.0   \n",
       "1                   2.0                       NaN                    0.0   \n",
       "2                 101.0                       NaN                   10.0   \n",
       "3                   2.0                       NaN                    NaN   \n",
       "4                   4.0                      12.0                    1.0   \n",
       "\n",
       "   mths_since_recent_revol_delinq  num_accts_ever_120_pd  num_actv_bc_tl  \\\n",
       "0                            69.0                    2.0             2.0   \n",
       "1                             6.0                    0.0             5.0   \n",
       "2                             NaN                    0.0             2.0   \n",
       "3                             NaN                    0.0             4.0   \n",
       "4                            12.0                    0.0             4.0   \n",
       "\n",
       "   num_actv_rev_tl  num_bc_sats  num_bc_tl  num_il_tl  num_op_rev_tl  \\\n",
       "0              4.0          2.0        5.0        3.0            4.0   \n",
       "1              5.0         13.0       17.0        6.0           20.0   \n",
       "2              3.0          2.0        4.0        6.0            4.0   \n",
       "3              5.0          8.0       10.0        2.0           10.0   \n",
       "4              6.0          5.0        9.0       10.0            7.0   \n",
       "\n",
       "   num_rev_accts  num_rev_tl_bal_gt_0  num_sats  num_tl_120dpd_2m  \\\n",
       "0            9.0                  4.0       7.0               0.0   \n",
       "1           27.0                  5.0      22.0               0.0   \n",
       "2            7.0                  3.0       6.0               0.0   \n",
       "3           13.0                  5.0      13.0               0.0   \n",
       "4           19.0                  6.0      12.0               0.0   \n",
       "\n",
       "   num_tl_30dpd  num_tl_90g_dpd_24m  num_tl_op_past_12m  pct_tl_nvr_dlq  \\\n",
       "0           0.0                 0.0                 3.0            76.9   \n",
       "1           0.0                 0.0                 2.0            97.4   \n",
       "2           0.0                 0.0                 0.0           100.0   \n",
       "3           0.0                 0.0                 1.0           100.0   \n",
       "4           0.0                 0.0                 4.0            96.6   \n",
       "\n",
       "   percent_bc_gt_75  pub_rec_bankruptcies  tax_liens  tot_hi_cred_lim  \\\n",
       "0               0.0                   0.0        0.0         178050.0   \n",
       "1               7.7                   0.0        0.0         314017.0   \n",
       "2              50.0                   0.0        0.0         218418.0   \n",
       "3               0.0                   0.0        0.0         381215.0   \n",
       "4              60.0                   0.0        0.0         439570.0   \n",
       "\n",
       "   total_bal_ex_mort  total_bc_limit  total_il_high_credit_limit  \\\n",
       "0             7746.0          2400.0                     13734.0   \n",
       "1            39475.0         79300.0                     24667.0   \n",
       "2            18696.0          6200.0                     14877.0   \n",
       "3            52226.0         62500.0                     18000.0   \n",
       "4            95768.0         20300.0                     88097.0   \n",
       "\n",
       "   revol_bal_joint  sec_app_fico_range_low  sec_app_fico_range_high  \\\n",
       "0              NaN                     NaN                      NaN   \n",
       "1              NaN                     NaN                      NaN   \n",
       "2              NaN                     NaN                      NaN   \n",
       "3              NaN                     NaN                      NaN   \n",
       "4              NaN                     NaN                      NaN   \n",
       "\n",
       "  sec_app_earliest_cr_line  sec_app_inq_last_6mths  sec_app_mort_acc  \\\n",
       "0                      NaN                     NaN               NaN   \n",
       "1                      NaN                     NaN               NaN   \n",
       "2                      NaN                     NaN               NaN   \n",
       "3                      NaN                     NaN               NaN   \n",
       "4                      NaN                     NaN               NaN   \n",
       "\n",
       "   sec_app_open_acc  sec_app_revol_util  sec_app_open_act_il  \\\n",
       "0               NaN                 NaN                  NaN   \n",
       "1               NaN                 NaN                  NaN   \n",
       "2               NaN                 NaN                  NaN   \n",
       "3               NaN                 NaN                  NaN   \n",
       "4               NaN                 NaN                  NaN   \n",
       "\n",
       "   sec_app_num_rev_accts  sec_app_chargeoff_within_12_mths  \\\n",
       "0                    NaN                               NaN   \n",
       "1                    NaN                               NaN   \n",
       "2                    NaN                               NaN   \n",
       "3                    NaN                               NaN   \n",
       "4                    NaN                               NaN   \n",
       "\n",
       "   sec_app_collections_12_mths_ex_med  sec_app_mths_since_last_major_derog  \\\n",
       "0                                 NaN                                  NaN   \n",
       "1                                 NaN                                  NaN   \n",
       "2                                 NaN                                  NaN   \n",
       "3                                 NaN                                  NaN   \n",
       "4                                 NaN                                  NaN   \n",
       "\n",
       "  hardship_flag hardship_type hardship_reason hardship_status  deferral_term  \\\n",
       "0             N           NaN             NaN             NaN            NaN   \n",
       "1             N           NaN             NaN             NaN            NaN   \n",
       "2             N           NaN             NaN             NaN            NaN   \n",
       "3             N           NaN             NaN             NaN            NaN   \n",
       "4             N           NaN             NaN             NaN            NaN   \n",
       "\n",
       "   hardship_amount hardship_start_date hardship_end_date  \\\n",
       "0              NaN                 NaN               NaN   \n",
       "1              NaN                 NaN               NaN   \n",
       "2              NaN                 NaN               NaN   \n",
       "3              NaN                 NaN               NaN   \n",
       "4              NaN                 NaN               NaN   \n",
       "\n",
       "  payment_plan_start_date  hardship_length  hardship_dpd hardship_loan_status  \\\n",
       "0                     NaN              NaN           NaN                  NaN   \n",
       "1                     NaN              NaN           NaN                  NaN   \n",
       "2                     NaN              NaN           NaN                  NaN   \n",
       "3                     NaN              NaN           NaN                  NaN   \n",
       "4                     NaN              NaN           NaN                  NaN   \n",
       "\n",
       "   orig_projected_additional_accrued_interest  hardship_payoff_balance_amount  \\\n",
       "0                                         NaN                             NaN   \n",
       "1                                         NaN                             NaN   \n",
       "2                                         NaN                             NaN   \n",
       "3                                         NaN                             NaN   \n",
       "4                                         NaN                             NaN   \n",
       "\n",
       "   hardship_last_payment_amount disbursement_method debt_settlement_flag  \\\n",
       "0                           NaN                Cash                    N   \n",
       "1                           NaN                Cash                    N   \n",
       "2                           NaN                Cash                    N   \n",
       "3                           NaN                Cash                    N   \n",
       "4                           NaN                Cash                    N   \n",
       "\n",
       "  debt_settlement_flag_date settlement_status settlement_date  \\\n",
       "0                       NaN               NaN             NaN   \n",
       "1                       NaN               NaN             NaN   \n",
       "2                       NaN               NaN             NaN   \n",
       "3                       NaN               NaN             NaN   \n",
       "4                       NaN               NaN             NaN   \n",
       "\n",
       "   settlement_amount  settlement_percentage  settlement_term  \n",
       "0                NaN                    NaN              NaN  \n",
       "1                NaN                    NaN              NaN  \n",
       "2                NaN                    NaN              NaN  \n",
       "3                NaN                    NaN              NaN  \n",
       "4                NaN                    NaN              NaN  "
      ]
     },
     "execution_count": 4,
     "metadata": {},
     "output_type": "execute_result"
    }
   ],
   "source": [
    "df.head()"
   ]
  },
  {
   "cell_type": "code",
   "execution_count": 5,
   "id": "4fa78d9e",
   "metadata": {},
   "outputs": [
    {
     "name": "stdout",
     "output_type": "stream",
     "text": [
      "<class 'pandas.core.frame.DataFrame'>\n",
      "RangeIndex: 2260701 entries, 0 to 2260700\n",
      "Columns: 151 entries, id to settlement_term\n",
      "dtypes: float64(113), object(38)\n",
      "memory usage: 2.5+ GB\n"
     ]
    }
   ],
   "source": [
    "df.info()"
   ]
  },
  {
   "cell_type": "code",
   "execution_count": 6,
   "id": "db426da3",
   "metadata": {},
   "outputs": [
    {
     "data": {
      "text/plain": [
       "Fully Paid                                             1076751\n",
       "Current                                                 878317\n",
       "Charged Off                                             268559\n",
       "Late (31-120 days)                                       21467\n",
       "In Grace Period                                           8436\n",
       "Late (16-30 days)                                         4349\n",
       "Does not meet the credit policy. Status:Fully Paid        1988\n",
       "Does not meet the credit policy. Status:Charged Off        761\n",
       "Default                                                     40\n",
       "Name: loan_status, dtype: int64"
      ]
     },
     "execution_count": 6,
     "metadata": {},
     "output_type": "execute_result"
    }
   ],
   "source": [
    "df.loan_status.value_counts()"
   ]
  },
  {
   "cell_type": "markdown",
   "id": "240d5608",
   "metadata": {},
   "source": [
    "# Kodowanie zmiennej objaśnianej\n",
    "Zgodnie z treścią zadania, odrzucam wiersze, gdzie loan_status==Current, koduję Fully Paid jako 0, a resztę jako 1 (czyli wszytkie przypadki, gdzie kredyt nie został w pełni spłacony. Jest to pewne uproszczenie na potrzeby zadania, ponieważ niektóre z tych wartości mogłyby nie być potraktowane jako pozytywy (np. Does not meet the credit policy. Status:Fully Paid)"
   ]
  },
  {
   "cell_type": "code",
   "execution_count": 7,
   "id": "9e9ad97d",
   "metadata": {},
   "outputs": [
    {
     "data": {
      "text/plain": [
       "(1382384, 151)"
      ]
     },
     "execution_count": 7,
     "metadata": {},
     "output_type": "execute_result"
    }
   ],
   "source": [
    "df = df[df.loan_status != 'Current'].copy()\n",
    "df.shape"
   ]
  },
  {
   "cell_type": "code",
   "execution_count": 8,
   "id": "73deacf9",
   "metadata": {},
   "outputs": [
    {
     "data": {
      "text/plain": [
       "0    1076751\n",
       "1     305633\n",
       "Name: target, dtype: int64"
      ]
     },
     "execution_count": 8,
     "metadata": {},
     "output_type": "execute_result"
    }
   ],
   "source": [
    "df['target'] = df.loan_status.apply(lambda x: 0 if x == 'Fully Paid' else 1)\n",
    "df.drop(columns=['loan_status'], inplace=True)\n",
    "df.target.value_counts()"
   ]
  },
  {
   "cell_type": "markdown",
   "id": "9ca0a791",
   "metadata": {},
   "source": [
    "# Deduplikacja"
   ]
  },
  {
   "cell_type": "code",
   "execution_count": 9,
   "id": "9e53a7ee",
   "metadata": {},
   "outputs": [
    {
     "data": {
      "text/plain": [
       "(1382384, 151)"
      ]
     },
     "execution_count": 9,
     "metadata": {},
     "output_type": "execute_result"
    }
   ],
   "source": [
    "df.drop_duplicates(inplace=True)\n",
    "df.shape"
   ]
  },
  {
   "cell_type": "markdown",
   "id": "0e3c46b8",
   "metadata": {},
   "source": [
    "# Analiza oprocentowania (zmienna numeryczna)"
   ]
  },
  {
   "cell_type": "code",
   "execution_count": 10,
   "id": "70fbe6e0",
   "metadata": {},
   "outputs": [
    {
     "data": {
      "text/plain": [
       "<matplotlib.legend.Legend at 0x198499fe340>"
      ]
     },
     "execution_count": 10,
     "metadata": {},
     "output_type": "execute_result"
    },
    {
     "data": {
      "image/png": "[encoded data removed]",
      "text/plain": [
       "<Figure size 432x288 with 1 Axes>"
      ]
     },
     "metadata": {
      "needs_background": "light"
     },
     "output_type": "display_data"
    }
   ],
   "source": [
    "df[df.target==0].int_rate.hist(legend=True)\n",
    "df[df.target==1].int_rate.hist(legend=True)\n",
    "plt.xlabel('interest rate')\n",
    "plt.ylabel('count')\n",
    "plt.title('Loan status by interest rate')\n",
    "plt.legend(['Fully Paid', 'Defaulted'])"
   ]
  },
  {
   "cell_type": "markdown",
   "id": "6c91dcb9",
   "metadata": {},
   "source": [
    "Wygląda na to, że im wyższe oprocentowanie, tym wieksze ryzyko braku spłaty"
   ]
  },
  {
   "cell_type": "markdown",
   "id": "5d1aa2a2",
   "metadata": {},
   "source": [
    "# Analiza zmiennej verification status (zmienna kategoryczna)\n",
    "Zmienna określa, czy kredytobiorcy zostali zweryifkowani pod kontem dodchodu (verified), zweryfkowane jest przynajmniej źródło dochodu (Source Verified), czy nie zostali zweryfikowani."
   ]
  },
  {
   "cell_type": "code",
   "execution_count": 11,
   "id": "9d428014",
   "metadata": {},
   "outputs": [
    {
     "data": {
      "text/plain": [
       "Source Verified    536031\n",
       "Verified           429617\n",
       "Not Verified       416703\n",
       "Name: verification_status, dtype: int64"
      ]
     },
     "execution_count": 11,
     "metadata": {},
     "output_type": "execute_result"
    }
   ],
   "source": [
    "df.verification_status.value_counts()"
   ]
  },
  {
   "cell_type": "code",
   "execution_count": 12,
   "id": "f424eec4",
   "metadata": {},
   "outputs": [
    {
     "data": {
      "text/plain": [
       "<AxesSubplot:xlabel='verification_status', ylabel='count'>"
      ]
     },
     "execution_count": 12,
     "metadata": {},
     "output_type": "execute_result"
    },
    {
     "data": {
      "image/png": "[encoded data removed]",
      "text/plain": [
       "<Figure size 432x288 with 1 Axes>"
      ]
     },
     "metadata": {
      "needs_background": "light"
     },
     "output_type": "display_data"
    }
   ],
   "source": [
    "sns.countplot(x='verification_status', data=df, hue='target')"
   ]
  },
  {
   "cell_type": "markdown",
   "id": "3d6428ae",
   "metadata": {},
   "source": [
    "Wygląda na to, że weryfikacja negatywnie koreluje ze spłatą - prawdopodobnie dlatego, że musiały pojawić się pewne podejrzenia skłaniające do weryfikacji."
   ]
  },
  {
   "cell_type": "markdown",
   "id": "2201e11d",
   "metadata": {},
   "source": [
    "# Data Leakage\n",
    "Zbiór danych może zawierać dane niedostępne dla modelu w momencie, kiedy należy podjąć decyzję o przyznaniu kredytu. Zakładam, że w normalnych okolicznościach można uzgodnić z klientem, które ze zmiennych są dostępne w chwili przyznawania kredytu. Szybki research ujawnił jakiś plik excelowy z kolumnami i ich opisami, jednak nie wiem na ile mogę temu ufać. Na szczęście znalazłem [kernel kagglowy](https://www.kaggle.com/code/pavlofesenko/minimizing-risks-for-loan-investments/notebook#4.-Feature-importances), gdzie zmienne niedostępne w momencie podjęcia decyzji są wylistowane na podstawie pliku, które go link niestety wygasł. Jednak sądząc po nazwach tych zmiennych bardzo prawdopodbne, że dane są prawidłowe. Na wszelki wypadek usuwam te zmienne ze zbioru, ponieważ lepiej wyrzucić zbyt wiele zmiennych i niedoszacować skuteczność trenowanych modeli, niż zostawić ich zbyt wiele, ryzykując wyciek danych i zbyt optymistyczne. (No dobra, przyznaję, że wcześniej spróbowałem wytrenować naiwnie jakiś model i uzyskał prawie 100% na danych testowych, więc wróciłem do czyszczenia danych, o było to bardzo podejrzane)."
   ]
  },
  {
   "cell_type": "code",
   "execution_count": 13,
   "id": "7c26d003",
   "metadata": {},
   "outputs": [
    {
     "data": {
      "text/plain": [
       "['collection_recovery_fee',\n",
       " 'debt_settlement_flag',\n",
       " 'debt_settlement_flag_date',\n",
       " 'deferral_term',\n",
       " 'funded_amnt_inv',\n",
       " 'hardship_amount',\n",
       " 'hardship_dpd',\n",
       " 'hardship_end_date',\n",
       " 'hardship_flag',\n",
       " 'hardship_last_payment_amount',\n",
       " 'hardship_length',\n",
       " 'hardship_loan_status',\n",
       " 'hardship_payoff_balance_amount',\n",
       " 'hardship_reason',\n",
       " 'hardship_start_date',\n",
       " 'hardship_status',\n",
       " 'hardship_type',\n",
       " 'issue_d',\n",
       " 'last_credit_pull_d',\n",
       " 'last_fico_range_high',\n",
       " 'last_fico_range_low',\n",
       " 'last_pymnt_amnt',\n",
       " 'last_pymnt_d',\n",
       " 'next_pymnt_d',\n",
       " 'orig_projected_additional_accrued_interest',\n",
       " 'out_prncp',\n",
       " 'out_prncp_inv',\n",
       " 'payment_plan_start_date',\n",
       " 'policy_code',\n",
       " 'pymnt_plan',\n",
       " 'recoveries',\n",
       " 'settlement_amount',\n",
       " 'settlement_date',\n",
       " 'settlement_percentage',\n",
       " 'settlement_status',\n",
       " 'settlement_term',\n",
       " 'total_pymnt',\n",
       " 'total_pymnt_inv',\n",
       " 'total_rec_int',\n",
       " 'total_rec_late_fee',\n",
       " 'total_rec_prncp']"
      ]
     },
     "execution_count": 13,
     "metadata": {},
     "output_type": "execute_result"
    }
   ],
   "source": [
    "leak_vars = ['collection_recovery_fee', 'debt_settlement_flag',\n",
    "       'debt_settlement_flag_date', 'deferral_term', 'funded_amnt_inv',\n",
    "       'hardship_amount', 'hardship_dpd', 'hardship_end_date',\n",
    "       'hardship_flag', 'hardship_last_payment_amount', 'hardship_length',\n",
    "       'hardship_loan_status', 'hardship_payoff_balance_amount',\n",
    "       'hardship_reason', 'hardship_start_date', 'hardship_status',\n",
    "       'hardship_type', 'issue_d', 'last_credit_pull_d',\n",
    "       'last_fico_range_high', 'last_fico_range_low', 'last_pymnt_amnt',\n",
    "       'last_pymnt_d', 'mo_sin_old_il_acct',\n",
    "       'mths_since_recent_bc_dlq', 'mths_since_recent_inq',\n",
    "       'next_pymnt_d', 'orig_projected_additional_accrued_interest',\n",
    "       'out_prncp', 'out_prncp_inv', 'payment_plan_start_date',\n",
    "       'policy_code', 'pymnt_plan', 'recoveries', 'settlement_amount',\n",
    "       'settlement_date', 'settlement_percentage', 'settlement_status',\n",
    "       'settlement_term', 'total_pymnt', 'total_pymnt_inv',\n",
    "       'total_rec_int', 'total_rec_late_fee', 'total_rec_prncp',\n",
    "       'verification_status', 'verification_status_joint']\n",
    "\n",
    "correct = ['verification_status', 'mths_since_recent_inq', 'mo_sin_old_il_acct',\n",
    "           'mths_since_recent_bc_dlq', 'verification_status_joint']\n",
    "\n",
    "leak_vars = [x for x in leak_vars if x not in correct]\n",
    "leak_vars"
   ]
  },
  {
   "cell_type": "code",
   "execution_count": 14,
   "id": "510c5c95",
   "metadata": {},
   "outputs": [
    {
     "data": {
      "text/plain": [
       "(1382384, 110)"
      ]
     },
     "execution_count": 14,
     "metadata": {},
     "output_type": "execute_result"
    }
   ],
   "source": [
    "df.drop(columns=leak_vars, inplace=True)\n",
    "df.shape"
   ]
  },
  {
   "cell_type": "markdown",
   "id": "4cbd19a3",
   "metadata": {},
   "source": [
    "# Zmienne kategoryczne - sprawdzenie typów\n",
    "w tej części skupiam się na zmiennych kategorycznych, domyślnie kodowanych jako str. Sprawdzam, czy można je zakodować w bardziej przydatny i wygodny sposób dla tego problemu"
   ]
  },
  {
   "cell_type": "code",
   "execution_count": 15,
   "id": "95a55932",
   "metadata": {},
   "outputs": [],
   "source": [
    "categorical = df.loc[:, df.dtypes==object].columns\n",
    "numerical = [x for x in df.columns if x not in categorical]"
   ]
  },
  {
   "cell_type": "code",
   "execution_count": 16,
   "id": "625c3a4a",
   "metadata": {},
   "outputs": [
    {
     "data": {
      "text/html": [
       "<div>\n",
       "<style scoped>\n",
       "    .dataframe tbody tr th:only-of-type {\n",
       "        vertical-align: middle;\n",
       "    }\n",
       "\n",
       "    .dataframe tbody tr th {\n",
       "        vertical-align: top;\n",
       "    }\n",
       "\n",
       "    .dataframe thead th {\n",
       "        text-align: right;\n",
       "    }\n",
       "</style>\n",
       "<table border=\"1\" class=\"dataframe\">\n",
       "  <thead>\n",
       "    <tr style=\"text-align: right;\">\n",
       "      <th></th>\n",
       "      <th>id</th>\n",
       "      <th>term</th>\n",
       "      <th>grade</th>\n",
       "      <th>sub_grade</th>\n",
       "      <th>emp_title</th>\n",
       "      <th>emp_length</th>\n",
       "      <th>home_ownership</th>\n",
       "      <th>verification_status</th>\n",
       "      <th>url</th>\n",
       "      <th>desc</th>\n",
       "      <th>purpose</th>\n",
       "      <th>title</th>\n",
       "      <th>zip_code</th>\n",
       "      <th>addr_state</th>\n",
       "      <th>earliest_cr_line</th>\n",
       "      <th>initial_list_status</th>\n",
       "      <th>application_type</th>\n",
       "      <th>verification_status_joint</th>\n",
       "      <th>sec_app_earliest_cr_line</th>\n",
       "      <th>disbursement_method</th>\n",
       "    </tr>\n",
       "  </thead>\n",
       "  <tbody>\n",
       "    <tr>\n",
       "      <th>0</th>\n",
       "      <td>68407277</td>\n",
       "      <td>36 months</td>\n",
       "      <td>C</td>\n",
       "      <td>C4</td>\n",
       "      <td>leadman</td>\n",
       "      <td>10+ years</td>\n",
       "      <td>MORTGAGE</td>\n",
       "      <td>Not Verified</td>\n",
       "      <td>https://lendingclub.com/browse/loanDetail.acti...</td>\n",
       "      <td>NaN</td>\n",
       "      <td>debt_consolidation</td>\n",
       "      <td>Debt consolidation</td>\n",
       "      <td>190xx</td>\n",
       "      <td>PA</td>\n",
       "      <td>Aug-2003</td>\n",
       "      <td>w</td>\n",
       "      <td>Individual</td>\n",
       "      <td>NaN</td>\n",
       "      <td>NaN</td>\n",
       "      <td>Cash</td>\n",
       "    </tr>\n",
       "    <tr>\n",
       "      <th>1</th>\n",
       "      <td>68355089</td>\n",
       "      <td>36 months</td>\n",
       "      <td>C</td>\n",
       "      <td>C1</td>\n",
       "      <td>Engineer</td>\n",
       "      <td>10+ years</td>\n",
       "      <td>MORTGAGE</td>\n",
       "      <td>Not Verified</td>\n",
       "      <td>https://lendingclub.com/browse/loanDetail.acti...</td>\n",
       "      <td>NaN</td>\n",
       "      <td>small_business</td>\n",
       "      <td>Business</td>\n",
       "      <td>577xx</td>\n",
       "      <td>SD</td>\n",
       "      <td>Dec-1999</td>\n",
       "      <td>w</td>\n",
       "      <td>Individual</td>\n",
       "      <td>NaN</td>\n",
       "      <td>NaN</td>\n",
       "      <td>Cash</td>\n",
       "    </tr>\n",
       "    <tr>\n",
       "      <th>2</th>\n",
       "      <td>68341763</td>\n",
       "      <td>60 months</td>\n",
       "      <td>B</td>\n",
       "      <td>B4</td>\n",
       "      <td>truck driver</td>\n",
       "      <td>10+ years</td>\n",
       "      <td>MORTGAGE</td>\n",
       "      <td>Not Verified</td>\n",
       "      <td>https://lendingclub.com/browse/loanDetail.acti...</td>\n",
       "      <td>NaN</td>\n",
       "      <td>home_improvement</td>\n",
       "      <td>NaN</td>\n",
       "      <td>605xx</td>\n",
       "      <td>IL</td>\n",
       "      <td>Aug-2000</td>\n",
       "      <td>w</td>\n",
       "      <td>Joint App</td>\n",
       "      <td>Not Verified</td>\n",
       "      <td>NaN</td>\n",
       "      <td>Cash</td>\n",
       "    </tr>\n",
       "    <tr>\n",
       "      <th>4</th>\n",
       "      <td>68476807</td>\n",
       "      <td>60 months</td>\n",
       "      <td>F</td>\n",
       "      <td>F1</td>\n",
       "      <td>Contract Specialist</td>\n",
       "      <td>3 years</td>\n",
       "      <td>MORTGAGE</td>\n",
       "      <td>Source Verified</td>\n",
       "      <td>https://lendingclub.com/browse/loanDetail.acti...</td>\n",
       "      <td>NaN</td>\n",
       "      <td>major_purchase</td>\n",
       "      <td>Major purchase</td>\n",
       "      <td>174xx</td>\n",
       "      <td>PA</td>\n",
       "      <td>Jun-1998</td>\n",
       "      <td>w</td>\n",
       "      <td>Individual</td>\n",
       "      <td>NaN</td>\n",
       "      <td>NaN</td>\n",
       "      <td>Cash</td>\n",
       "    </tr>\n",
       "    <tr>\n",
       "      <th>5</th>\n",
       "      <td>68426831</td>\n",
       "      <td>36 months</td>\n",
       "      <td>C</td>\n",
       "      <td>C3</td>\n",
       "      <td>Veterinary Tecnician</td>\n",
       "      <td>4 years</td>\n",
       "      <td>RENT</td>\n",
       "      <td>Source Verified</td>\n",
       "      <td>https://lendingclub.com/browse/loanDetail.acti...</td>\n",
       "      <td>NaN</td>\n",
       "      <td>debt_consolidation</td>\n",
       "      <td>Debt consolidation</td>\n",
       "      <td>300xx</td>\n",
       "      <td>GA</td>\n",
       "      <td>Oct-1987</td>\n",
       "      <td>w</td>\n",
       "      <td>Individual</td>\n",
       "      <td>NaN</td>\n",
       "      <td>NaN</td>\n",
       "      <td>Cash</td>\n",
       "    </tr>\n",
       "  </tbody>\n",
       "</table>\n",
       "</div>"
      ],
      "text/plain": [
       "         id        term grade sub_grade             emp_title emp_length  \\\n",
       "0  68407277   36 months     C        C4               leadman  10+ years   \n",
       "1  68355089   36 months     C        C1              Engineer  10+ years   \n",
       "2  68341763   60 months     B        B4          truck driver  10+ years   \n",
       "4  68476807   60 months     F        F1   Contract Specialist    3 years   \n",
       "5  68426831   36 months     C        C3  Veterinary Tecnician    4 years   \n",
       "\n",
       "  home_ownership verification_status  \\\n",
       "0       MORTGAGE        Not Verified   \n",
       "1       MORTGAGE        Not Verified   \n",
       "2       MORTGAGE        Not Verified   \n",
       "4       MORTGAGE     Source Verified   \n",
       "5           RENT     Source Verified   \n",
       "\n",
       "                                                 url desc             purpose  \\\n",
       "0  https://lendingclub.com/browse/loanDetail.acti...  NaN  debt_consolidation   \n",
       "1  https://lendingclub.com/browse/loanDetail.acti...  NaN      small_business   \n",
       "2  https://lendingclub.com/browse/loanDetail.acti...  NaN    home_improvement   \n",
       "4  https://lendingclub.com/browse/loanDetail.acti...  NaN      major_purchase   \n",
       "5  https://lendingclub.com/browse/loanDetail.acti...  NaN  debt_consolidation   \n",
       "\n",
       "                title zip_code addr_state earliest_cr_line  \\\n",
       "0  Debt consolidation    190xx         PA         Aug-2003   \n",
       "1            Business    577xx         SD         Dec-1999   \n",
       "2                 NaN    605xx         IL         Aug-2000   \n",
       "4      Major purchase    174xx         PA         Jun-1998   \n",
       "5  Debt consolidation    300xx         GA         Oct-1987   \n",
       "\n",
       "  initial_list_status application_type verification_status_joint  \\\n",
       "0                   w       Individual                       NaN   \n",
       "1                   w       Individual                       NaN   \n",
       "2                   w        Joint App              Not Verified   \n",
       "4                   w       Individual                       NaN   \n",
       "5                   w       Individual                       NaN   \n",
       "\n",
       "  sec_app_earliest_cr_line disbursement_method  \n",
       "0                      NaN                Cash  \n",
       "1                      NaN                Cash  \n",
       "2                      NaN                Cash  \n",
       "4                      NaN                Cash  \n",
       "5                      NaN                Cash  "
      ]
     },
     "execution_count": 16,
     "metadata": {},
     "output_type": "execute_result"
    }
   ],
   "source": [
    "df[categorical].head()"
   ]
  },
  {
   "cell_type": "code",
   "execution_count": 17,
   "id": "aa05ade9",
   "metadata": {},
   "outputs": [
    {
     "data": {
      "text/plain": [
       "count        22092\n",
       "unique         585\n",
       "top       Aug-2006\n",
       "freq           227\n",
       "Name: sec_app_earliest_cr_line, dtype: object"
      ]
     },
     "execution_count": 17,
     "metadata": {},
     "output_type": "execute_result"
    }
   ],
   "source": [
    "df.sec_app_earliest_cr_line.describe()"
   ]
  },
  {
   "cell_type": "code",
   "execution_count": 18,
   "id": "d5d8caca",
   "metadata": {},
   "outputs": [
    {
     "data": {
      "text/html": [
       "<div>\n",
       "<style scoped>\n",
       "    .dataframe tbody tr th:only-of-type {\n",
       "        vertical-align: middle;\n",
       "    }\n",
       "\n",
       "    .dataframe tbody tr th {\n",
       "        vertical-align: top;\n",
       "    }\n",
       "\n",
       "    .dataframe thead th {\n",
       "        text-align: right;\n",
       "    }\n",
       "</style>\n",
       "<table border=\"1\" class=\"dataframe\">\n",
       "  <thead>\n",
       "    <tr style=\"text-align: right;\">\n",
       "      <th></th>\n",
       "      <th>earliest_cr_line</th>\n",
       "      <th>sec_app_earliest_cr_line</th>\n",
       "    </tr>\n",
       "  </thead>\n",
       "  <tbody>\n",
       "    <tr>\n",
       "      <th>0</th>\n",
       "      <td>2003-08-01</td>\n",
       "      <td>NaT</td>\n",
       "    </tr>\n",
       "    <tr>\n",
       "      <th>1</th>\n",
       "      <td>1999-12-01</td>\n",
       "      <td>NaT</td>\n",
       "    </tr>\n",
       "    <tr>\n",
       "      <th>2</th>\n",
       "      <td>2000-08-01</td>\n",
       "      <td>NaT</td>\n",
       "    </tr>\n",
       "    <tr>\n",
       "      <th>4</th>\n",
       "      <td>1998-06-01</td>\n",
       "      <td>NaT</td>\n",
       "    </tr>\n",
       "    <tr>\n",
       "      <th>5</th>\n",
       "      <td>1987-10-01</td>\n",
       "      <td>NaT</td>\n",
       "    </tr>\n",
       "  </tbody>\n",
       "</table>\n",
       "</div>"
      ],
      "text/plain": [
       "  earliest_cr_line sec_app_earliest_cr_line\n",
       "0       2003-08-01                      NaT\n",
       "1       1999-12-01                      NaT\n",
       "2       2000-08-01                      NaT\n",
       "4       1998-06-01                      NaT\n",
       "5       1987-10-01                      NaT"
      ]
     },
     "execution_count": 18,
     "metadata": {},
     "output_type": "execute_result"
    }
   ],
   "source": [
    "date_cols = ['earliest_cr_line', 'sec_app_earliest_cr_line']\n",
    "\n",
    "for col in date_cols:\n",
    "    df[col] = pd.to_datetime(df[col], infer_datetime_format=True)\n",
    "\n",
    "df[date_cols].head()"
   ]
  },
  {
   "cell_type": "markdown",
   "id": "987e542b",
   "metadata": {},
   "source": [
    "# Zmienne z brakującymi wartościami\n",
    "Z jednej strony aż kusi, żeby pozbyć się zmiennych, gdzie brakuje ponad 50% wartości. Z drugiej strony, po spojrzeniu na kolumny, gdzie brakuje dużo danych widać, że często może to przemawiać na korzyść kredytobiorcy (np. brak wartości dla zmiennych hardship_* sugeruje, że kredytobiorca nie potrzebował pomocy czy ulgi w spłacie kredytu.\n",
    "W normalncyh warunkach pewnie warto by było zgłębić temat i wypełnić brakujące dane w sensowny sposób. Tutaj pobieżnie sprawdzę zmienne z barkującymi wartościami i postaram się uzupełnić je w sensowny sposób. Pozostałe kolunmy uzupełnię w jakiś domyślny sposób (średnia zmiennej, pusty string itd...) jeśli brakuje mniej niż 50% wartości, pozostałe usuwam."
   ]
  },
  {
   "cell_type": "code",
   "execution_count": 19,
   "id": "545105f5",
   "metadata": {},
   "outputs": [],
   "source": [
    "miss_props = []\n",
    "for column in df.columns:\n",
    "    miss_count = df[column].isna().sum()\n",
    "    if miss_count != 0:\n",
    "        miss_props.append((column, miss_count / df.shape[0]))\n",
    "\n",
    "miss_props.sort(key=lambda x: x[1], reverse=True)"
   ]
  },
  {
   "cell_type": "code",
   "execution_count": 20,
   "id": "359ef873",
   "metadata": {},
   "outputs": [
    {
     "data": {
      "text/plain": [
       "108"
      ]
     },
     "execution_count": 20,
     "metadata": {},
     "output_type": "execute_result"
    }
   ],
   "source": [
    "len(miss_props)"
   ]
  },
  {
   "cell_type": "code",
   "execution_count": 21,
   "id": "62895633",
   "metadata": {},
   "outputs": [
    {
     "data": {
      "text/plain": [
       "[('member_id', 1.0),\n",
       " ('sec_app_mths_since_last_major_derog', 0.9941383870183683),\n",
       " ('sec_app_revol_util', 0.9843046505167884),\n",
       " ('revol_bal_joint', 0.984019635643931),\n",
       " ('sec_app_fico_range_low', 0.9840189122559289),\n",
       " ('sec_app_fico_range_high', 0.9840189122559289),\n",
       " ('sec_app_earliest_cr_line', 0.9840189122559289),\n",
       " ('sec_app_inq_last_6mths', 0.9840189122559289),\n",
       " ('sec_app_mort_acc', 0.9840189122559289),\n",
       " ('sec_app_open_acc', 0.9840189122559289),\n",
       " ('sec_app_open_act_il', 0.9840189122559289),\n",
       " ('sec_app_num_rev_accts', 0.9840189122559289),\n",
       " ('sec_app_chargeoff_within_12_mths', 0.9840189122559289),\n",
       " ('sec_app_collections_12_mths_ex_med', 0.9840189122559289),\n",
       " ('verification_status_joint', 0.9787844766721837),\n",
       " ('dti_joint', 0.9786014595076332),\n",
       " ('annual_inc_joint', 0.9785992893436266),\n",
       " ('desc', 0.9088704730378824),\n",
       " ('mths_since_last_record', 0.8295560423153046),\n",
       " ('mths_since_recent_bc_dlq', 0.7628495410826515),\n",
       " ('mths_since_last_major_derog', 0.736560174307573),\n",
       " ('mths_since_recent_revol_delinq', 0.6655017708538293),\n",
       " ('il_util', 0.6441256553895299),\n",
       " ('mths_since_rcnt_il', 0.5993551719348603),\n",
       " ('all_util', 0.5882931226055857),\n",
       " ('open_acc_6m', 0.5882511661014596),\n",
       " ('total_cu_tl', 0.5882511661014596),\n",
       " ('inq_last_12m', 0.5882511661014596),\n",
       " ('open_act_il', 0.5882504427134573),\n",
       " ('open_il_12m', 0.5882504427134573),\n",
       " ('open_il_24m', 0.5882504427134573),\n",
       " ('total_bal_il', 0.5882504427134573),\n",
       " ('open_rv_12m', 0.5882504427134573),\n",
       " ('open_rv_24m', 0.5882504427134573),\n",
       " ('max_bal_bc', 0.5882504427134573),\n",
       " ('inq_fi', 0.5882504427134573),\n",
       " ('mths_since_last_delinq', 0.5034020937742335),\n",
       " ('mths_since_recent_inq', 0.1300622692392273),\n",
       " ('num_tl_120dpd_2m', 0.0884435873100383),\n",
       " ('mo_sin_old_il_acct', 0.07924353869836456),\n",
       " ('emp_title', 0.06451029525804697),\n",
       " ('emp_length', 0.05893442053727474),\n",
       " ('pct_tl_nvr_dlq', 0.050972088797324046),\n",
       " ('avg_cur_bal', 0.050877324969038996),\n",
       " ('mo_sin_old_rev_tl_op', 0.050861410432991125),\n",
       " ('mo_sin_rcnt_rev_tl_op', 0.050861410432991125),\n",
       " ('num_rev_accts', 0.050861410432991125),\n",
       " ('tot_coll_amt', 0.050860687044988945),\n",
       " ('tot_cur_bal', 0.050860687044988945),\n",
       " ('total_rev_hi_lim', 0.050860687044988945),\n",
       " ('mo_sin_rcnt_tl', 0.050860687044988945),\n",
       " ('num_accts_ever_120_pd', 0.050860687044988945),\n",
       " ('num_actv_bc_tl', 0.050860687044988945),\n",
       " ('num_actv_rev_tl', 0.050860687044988945),\n",
       " ('num_bc_tl', 0.050860687044988945),\n",
       " ('num_il_tl', 0.050860687044988945),\n",
       " ('num_op_rev_tl', 0.050860687044988945),\n",
       " ('num_rev_tl_bal_gt_0', 0.050860687044988945),\n",
       " ('num_tl_30dpd', 0.050860687044988945),\n",
       " ('num_tl_90g_dpd_24m', 0.050860687044988945),\n",
       " ('num_tl_op_past_12m', 0.050860687044988945),\n",
       " ('tot_hi_cred_lim', 0.050860687044988945),\n",
       " ('total_il_high_credit_limit', 0.050860687044988945),\n",
       " ('bc_util', 0.04716055741385896),\n",
       " ('percent_bc_gt_75', 0.0468885635250408),\n",
       " ('bc_open_to_buy', 0.04658908089213996),\n",
       " ('mths_since_recent_bc', 0.04589535179805322),\n",
       " ('num_bc_sats', 0.04240717485156078),\n",
       " ('num_sats', 0.04240717485156078),\n",
       " ('acc_open_past_24mths', 0.03621497355293464),\n",
       " ('mort_acc', 0.03621497355293464),\n",
       " ('total_bal_ex_mort', 0.03621497355293464),\n",
       " ('total_bc_limit', 0.03621497355293464),\n",
       " ('title', 0.012403934073311034),\n",
       " ('pub_rec_bankruptcies', 0.0010112964270419798),\n",
       " ('revol_util', 0.0007002395861063207),\n",
       " ('dti', 0.00032190766096829823),\n",
       " ('collections_12_mths_ex_med', 0.0001287630643873193),\n",
       " ('chargeoff_within_12_mths', 0.0001287630643873193),\n",
       " ('tax_liens', 9.982754430028126e-05),\n",
       " ('inq_last_6mths', 4.557344413708492e-05),\n",
       " ('delinq_2yrs', 4.485005613490897e-05),\n",
       " ('earliest_cr_line', 4.485005613490897e-05),\n",
       " ('open_acc', 4.485005613490897e-05),\n",
       " ('pub_rec', 4.485005613490897e-05),\n",
       " ('total_acc', 4.485005613490897e-05),\n",
       " ('acc_now_delinq', 4.485005613490897e-05),\n",
       " ('delinq_amnt', 4.485005613490897e-05),\n",
       " ('annual_inc', 2.676535608051019e-05),\n",
       " ('zip_code', 2.4595192073982337e-05),\n",
       " ('loan_amnt', 2.3871804071806386e-05),\n",
       " ('funded_amnt', 2.3871804071806386e-05),\n",
       " ('term', 2.3871804071806386e-05),\n",
       " ('int_rate', 2.3871804071806386e-05),\n",
       " ('installment', 2.3871804071806386e-05),\n",
       " ('grade', 2.3871804071806386e-05),\n",
       " ('sub_grade', 2.3871804071806386e-05),\n",
       " ('home_ownership', 2.3871804071806386e-05),\n",
       " ('verification_status', 2.3871804071806386e-05),\n",
       " ('url', 2.3871804071806386e-05),\n",
       " ('purpose', 2.3871804071806386e-05),\n",
       " ('addr_state', 2.3871804071806386e-05),\n",
       " ('fico_range_low', 2.3871804071806386e-05),\n",
       " ('fico_range_high', 2.3871804071806386e-05),\n",
       " ('revol_bal', 2.3871804071806386e-05),\n",
       " ('initial_list_status', 2.3871804071806386e-05),\n",
       " ('application_type', 2.3871804071806386e-05),\n",
       " ('disbursement_method', 2.3871804071806386e-05)]"
      ]
     },
     "execution_count": 21,
     "metadata": {},
     "output_type": "execute_result"
    }
   ],
   "source": [
    "miss_props"
   ]
  },
  {
   "cell_type": "markdown",
   "id": "57a9d13b",
   "metadata": {},
   "source": [
    "desc to najwyrazniej opis kredytobiorcy - analiza tekstu wykracza poza zakres tego zadania w tych ramach czasowych"
   ]
  },
  {
   "cell_type": "code",
   "execution_count": 22,
   "id": "16e245f6",
   "metadata": {},
   "outputs": [
    {
     "data": {
      "text/plain": [
       "array([nan,\n",
       "       'We knew that using our credit cards to finance an adoption would squeeze us, but then medical and other unexpected expenses made the situation almost impossible. We are a stable family in a stable community. We just need to break a cycle of debt that is getting worse.',\n",
       "       \"I had a bad year two years ago, with some late and missed payments. I'm doing much better now, but I've got fees and some higher interest bits that have added up on top of the other stuff, and it's a little crazy. I'm hoping doing it thru Lending Club will make it easier - and cheaper - to pay off.\",\n",
       "       ...,\n",
       "       '  Borrower added on 12/06/11 > Want to close down credit cards and pay them off.  This way I will only have one payment a month for the loan,, will make it alot easier for monthly money magagement<br>',\n",
       "       \"I currently have a loan out with CashCall. The interest rate is 96%! At the time I took out the loan, it helped with a family crisis, but now the interest is crazy to be paying. I'd rather be paying my $200 a month to pay down a loan rather than just the interest.   Also, the remainder of my debt has interest rates ranging from 20 - 24%. This includes credit cards, a student loan, and some personal loans. So, I would like to consolidate the rest of my debt and pay a lower interest rate of 15%.  By doing this, I could lower my interest and my monthly payments and save at least $4000 over the next few years.  I do have a bankruptcy that was discharged 3 years ago due to having $40,000 in debt from an uninsured hospital stay. However, I've not missed a payment on anything since.  My credit report does from time time to time relist things as collections and then I have to dispute them as included in bankruptcy and they go back to being listed that way. I'm not sure why the status gets messed up sometimes.   Thank you for your time and consideration! \",\n",
       "       'This loan will be used solely to consolidate credit card debts accrued while wife was/is unemployed.'],\n",
       "      dtype=object)"
      ]
     },
     "execution_count": 22,
     "metadata": {},
     "output_type": "execute_result"
    }
   ],
   "source": [
    "df.desc.unique()"
   ]
  },
  {
   "cell_type": "code",
   "execution_count": 23,
   "id": "0919e125",
   "metadata": {},
   "outputs": [],
   "source": [
    "# dpd stands for days past due\n",
    "# remove all sec_app into binary\n",
    "fill_max = ['mths_since_last_record', 'mths_since_recent_bc_dlq', \n",
    "            'mths_since_last_major_derog', 'mths_since_recent_revol_delinq', \n",
    "            'mths_since_rcnt_il', 'mths_since_last_delinq', 'mths_since_recent_bc',\n",
    "            'mths_since_recent_inq', 'mths_since_last_delinq']\n",
    "fill_empty = ['emp_title', 'verification_status_joint']\n",
    "fill_avg = ['annual_inc_joint']"
   ]
  },
  {
   "cell_type": "code",
   "execution_count": 24,
   "id": "b51fa586",
   "metadata": {},
   "outputs": [],
   "source": [
    "df[fill_empty] = df[fill_empty].fillna('')\n",
    "df[fill_avg] = df[fill_avg].fillna(df[fill_avg].mean())\n",
    "# to cos nie dziala \n",
    "# df[fill_max] = df[fill_max].fillna(df[fill_max].max())\n",
    "for col in fill_max:\n",
    "    df[col] = df[col].fillna(df[col].max())"
   ]
  },
  {
   "cell_type": "markdown",
   "id": "7d3c1be8",
   "metadata": {},
   "source": [
    "A pozostale zmienne ususwam jesli brakuje wiekszosci, a dla reszty: pusty string dla zmiennych kategorycznych i srednia dla numerycznych. I zamieniam sec_app* w binarna na podstawie sec_app_fico_range_low - 1 jesli notnull, a reszta 0"
   ]
  },
  {
   "cell_type": "code",
   "execution_count": 25,
   "id": "e64a3624",
   "metadata": {},
   "outputs": [
    {
     "data": {
      "text/plain": [
       "0    1360292\n",
       "1      22092\n",
       "Name: sec_app, dtype: int64"
      ]
     },
     "execution_count": 25,
     "metadata": {},
     "output_type": "execute_result"
    }
   ],
   "source": [
    "df['sec_app'] = 0\n",
    "df.at[df.sec_app_fico_range_low.notnull(), 'sec_app'] = 1\n",
    "df.sec_app.value_counts()"
   ]
  },
  {
   "cell_type": "code",
   "execution_count": 26,
   "id": "afbfe214",
   "metadata": {},
   "outputs": [],
   "source": [
    "sec_app_cols = [x for x in df.columns if 'sec_app_' in x]\n",
    "df.drop(columns=sec_app_cols, inplace=True)"
   ]
  },
  {
   "cell_type": "code",
   "execution_count": 27,
   "id": "feb3a217",
   "metadata": {},
   "outputs": [
    {
     "data": {
      "text/plain": [
       "85"
      ]
     },
     "execution_count": 27,
     "metadata": {},
     "output_type": "execute_result"
    }
   ],
   "source": [
    "miss_props = [x for x in miss_props if x[0] not in fill_max + fill_avg + fill_empty + sec_app_cols]\n",
    "len(miss_props)"
   ]
  },
  {
   "cell_type": "code",
   "execution_count": 28,
   "id": "a60f1791",
   "metadata": {},
   "outputs": [
    {
     "data": {
      "text/plain": [
       "17"
      ]
     },
     "execution_count": 28,
     "metadata": {},
     "output_type": "execute_result"
    }
   ],
   "source": [
    "cols_to_drop = [x[0] for x in miss_props if x[1] > 0.5]\n",
    "len(cols_to_drop)"
   ]
  },
  {
   "cell_type": "code",
   "execution_count": 29,
   "id": "a95c0f94",
   "metadata": {},
   "outputs": [
    {
     "data": {
      "text/plain": [
       "68"
      ]
     },
     "execution_count": 29,
     "metadata": {},
     "output_type": "execute_result"
    }
   ],
   "source": [
    "cols_to_fill = [x[0] for x in miss_props if x[0] not in cols_to_drop]\n",
    "len(cols_to_fill)"
   ]
  },
  {
   "cell_type": "code",
   "execution_count": 30,
   "id": "f94a40ba",
   "metadata": {},
   "outputs": [],
   "source": [
    "df.drop(columns=cols_to_drop, inplace=True)"
   ]
  },
  {
   "cell_type": "code",
   "execution_count": 31,
   "id": "0353ac51",
   "metadata": {},
   "outputs": [
    {
     "data": {
      "text/plain": [
       "(1382384, 82)"
      ]
     },
     "execution_count": 31,
     "metadata": {},
     "output_type": "execute_result"
    }
   ],
   "source": [
    "df.shape"
   ]
  },
  {
   "cell_type": "code",
   "execution_count": 32,
   "id": "fecc8e94",
   "metadata": {},
   "outputs": [
    {
     "data": {
      "text/plain": [
       "53"
      ]
     },
     "execution_count": 32,
     "metadata": {},
     "output_type": "execute_result"
    }
   ],
   "source": [
    "numerical_to_fill = list(set(cols_to_fill).intersection(set(numerical)))\n",
    "len(numerical_to_fill)"
   ]
  },
  {
   "cell_type": "code",
   "execution_count": 33,
   "id": "2c3723ed",
   "metadata": {},
   "outputs": [
    {
     "data": {
      "text/plain": [
       "14"
      ]
     },
     "execution_count": 33,
     "metadata": {},
     "output_type": "execute_result"
    }
   ],
   "source": [
    "categorical_to_fill = [x for x in cols_to_fill if x not in numerical_to_fill and x not in date_cols]\n",
    "len(categorical_to_fill)"
   ]
  },
  {
   "cell_type": "code",
   "execution_count": 34,
   "id": "639f4245",
   "metadata": {},
   "outputs": [],
   "source": [
    "df[numerical_to_fill] = df[numerical_to_fill].fillna(df[numerical_to_fill].mean())"
   ]
  },
  {
   "cell_type": "code",
   "execution_count": 35,
   "id": "93bf4b99",
   "metadata": {},
   "outputs": [],
   "source": [
    "df[categorical_to_fill] = df[categorical_to_fill].fillna('')"
   ]
  },
  {
   "cell_type": "markdown",
   "id": "b74ef066",
   "metadata": {},
   "source": [
    "# Pozostałych brakujących jest tak mało, że można je usunąć"
   ]
  },
  {
   "cell_type": "code",
   "execution_count": 36,
   "id": "ba1684c1",
   "metadata": {},
   "outputs": [
    {
     "name": "stdout",
     "output_type": "stream",
     "text": [
      "('earliest_cr_line', 4.485005613490897e-05)\n"
     ]
    }
   ],
   "source": [
    "for column in df.columns:\n",
    "    miss_count = df[column].isna().sum()\n",
    "    if miss_count != 0:\n",
    "        print((column, miss_count / df.shape[0]))"
   ]
  },
  {
   "cell_type": "code",
   "execution_count": 37,
   "id": "668f1f82",
   "metadata": {},
   "outputs": [],
   "source": [
    "df.dropna(inplace=True)"
   ]
  },
  {
   "cell_type": "code",
   "execution_count": 38,
   "id": "427b4112",
   "metadata": {},
   "outputs": [],
   "source": [
    "categorical = df.loc[:, df.dtypes==object].columns\n",
    "numerical = [x for x in df.columns if x not in categorical]"
   ]
  },
  {
   "cell_type": "markdown",
   "id": "dfe7725a",
   "metadata": {},
   "source": [
    "Na koniec sprawdzam, czy jakieś zmienne mają tylko jedną wartość, lub mają ich bardzo wiele (kategoryczne). Jeśli zmienna kategoryczna ma ponad 10000 wartości, to raczej nie starczy pamięci na jej zakodowanie"
   ]
  },
  {
   "cell_type": "code",
   "execution_count": 39,
   "id": "81681ed5",
   "metadata": {},
   "outputs": [
    {
     "name": "stdout",
     "output_type": "stream",
     "text": [
      "id 1382322\n",
      "emp_title 385442\n",
      "url 1382322\n",
      "title 63141\n"
     ]
    }
   ],
   "source": [
    "for col in categorical:\n",
    "    if df[col].nunique() > 10000 or df[col].nunique() == 1:\n",
    "        print(col, df[col].nunique())\n",
    "for col in numerical:\n",
    "    if df[col].nunique() == df.shape[0] or df[col].nunique() == 1:\n",
    "        print(col, df[col].nunique())"
   ]
  },
  {
   "cell_type": "markdown",
   "id": "79a75e0e",
   "metadata": {},
   "source": [
    "Wygląda na to, że powyższe zmienne też można wyrzucić, bo są bezużyteczne dla modelu lub zbyt kosztowne do zakodowania"
   ]
  },
  {
   "cell_type": "code",
   "execution_count": 40,
   "id": "db5ac399",
   "metadata": {},
   "outputs": [],
   "source": [
    "df.drop(columns=['id', 'url', 'emp_title', 'title'], inplace=True)"
   ]
  },
  {
   "cell_type": "markdown",
   "id": "3a766ebd",
   "metadata": {},
   "source": [
    "# Analiza kowariancji"
   ]
  },
  {
   "cell_type": "code",
   "execution_count": 41,
   "id": "ec8f2039",
   "metadata": {},
   "outputs": [],
   "source": [
    "categorical = df.loc[:, df.dtypes==object].columns\n",
    "numerical = [x for x in df.columns if x not in categorical]"
   ]
  },
  {
   "cell_type": "code",
   "execution_count": 42,
   "id": "12dfe178",
   "metadata": {},
   "outputs": [],
   "source": [
    "comb_categorical = list(combinations(categorical, 2))\n",
    "corrs = []\n",
    "for comb in comb_categorical:\n",
    "    table = pd.pivot_table(df, values='target', index=comb[0], columns=comb[1], aggfunc='count').fillna(0)\n",
    "    corr = np.sqrt(chi2_contingency(table)[0] / (table.values.sum() * (np.min(table.shape) - 1) ) )\n",
    "    corrs.append((comb, corr))"
   ]
  },
  {
   "cell_type": "code",
   "execution_count": 43,
   "id": "0fd493b4",
   "metadata": {},
   "outputs": [
    {
     "data": {
      "text/plain": [
       "[(('grade', 'sub_grade'), 1.0),\n",
       " (('zip_code', 'addr_state'), 0.9933900545438705),\n",
       " (('application_type', 'verification_status_joint'), 0.9955697369696175)]"
      ]
     },
     "execution_count": 43,
     "metadata": {},
     "output_type": "execute_result"
    }
   ],
   "source": [
    "high_corrs = [x for x in corrs if x[1] > 0.95]\n",
    "high_corrs"
   ]
  },
  {
   "cell_type": "markdown",
   "id": "c0770630",
   "metadata": {},
   "source": [
    "Powyższe pary są tak skorelowane, że można usunąć po jednej z każdej pary. Usunę te o większej kardynalności, żeby przyspieszyć trening modeli i ograniczyć rozmiar danych"
   ]
  },
  {
   "cell_type": "code",
   "execution_count": 44,
   "id": "8817466c",
   "metadata": {},
   "outputs": [
    {
     "data": {
      "text/plain": [
       "(1382322, 75)"
      ]
     },
     "execution_count": 44,
     "metadata": {},
     "output_type": "execute_result"
    }
   ],
   "source": [
    "df.drop(columns=['sub_grade', 'zip_code', 'verification_status_joint'], inplace=True)\n",
    "df.shape"
   ]
  },
  {
   "cell_type": "markdown",
   "id": "a9d312da",
   "metadata": {},
   "source": [
    "Teraz czas na analizę zmiennych numerycznych - zacznę od przkeształcenia dat do floatów (liczba dni od 1970-01-01)\n",
    "Następnie zmierzę korelację Pearsona"
   ]
  },
  {
   "cell_type": "code",
   "execution_count": 45,
   "id": "c96d7adc",
   "metadata": {},
   "outputs": [],
   "source": [
    "df[df.select_dtypes(include=['datetime64']).columns] = (df.select_dtypes(include=['datetime64']) - np.datetime64('1970-01-01')) / np.timedelta64(1, 'D')"
   ]
  },
  {
   "cell_type": "code",
   "execution_count": 46,
   "id": "5370d46a",
   "metadata": {},
   "outputs": [],
   "source": [
    "comb_numerical = list(combinations(numerical, 2))\n",
    "corrs = []\n",
    "for comb in comb_numerical:\n",
    "    corr = pearsonr(df[comb[0]], df[comb[1]])[0]\n",
    "    if corr > 0.95:\n",
    "        corrs.append((comb, corr))"
   ]
  },
  {
   "cell_type": "code",
   "execution_count": 47,
   "id": "7de4e8ba",
   "metadata": {},
   "outputs": [
    {
     "data": {
      "text/plain": [
       "[(('loan_amnt', 'funded_amnt'), 0.9995602195931913),\n",
       " (('loan_amnt', 'installment'), 0.9528731489044149),\n",
       " (('funded_amnt', 'installment'), 0.9535202063968274),\n",
       " (('fico_range_low', 'fico_range_high'), 0.9999999318624195),\n",
       " (('open_acc', 'num_sats'), 0.9815538522497222),\n",
       " (('tot_cur_bal', 'tot_hi_cred_lim'), 0.9730879721057095),\n",
       " (('num_actv_rev_tl', 'num_rev_tl_bal_gt_0'), 0.9819769795218982)]"
      ]
     },
     "execution_count": 47,
     "metadata": {},
     "output_type": "execute_result"
    }
   ],
   "source": [
    "corrs"
   ]
  },
  {
   "cell_type": "markdown",
   "id": "ae59e6a3",
   "metadata": {},
   "source": [
    "Usuwam po jednej zmiennej z każdej powyższej pary. Utworzę zmienną fico będącą średnią fico_range_high i low i usunę obydwie kolumny"
   ]
  },
  {
   "cell_type": "code",
   "execution_count": 48,
   "id": "9bef9d54",
   "metadata": {},
   "outputs": [],
   "source": [
    "df['fico'] = (df.fico_range_high + df.fico_range_low) / 2"
   ]
  },
  {
   "cell_type": "code",
   "execution_count": 49,
   "id": "814afa51",
   "metadata": {},
   "outputs": [
    {
     "data": {
      "text/plain": [
       "(1382322, 69)"
      ]
     },
     "execution_count": 49,
     "metadata": {},
     "output_type": "execute_result"
    }
   ],
   "source": [
    "df.drop(columns=set([x[0][1] for x in corrs]+['fico_range_low']), inplace=True)\n",
    "df.shape"
   ]
  },
  {
   "cell_type": "markdown",
   "id": "d9cf27a0",
   "metadata": {},
   "source": [
    "# Usuwanie Outlierów\n",
    "Usunę skrajne wartości dla annual_inc, revol_bal, bc_open_to_buy"
   ]
  },
  {
   "cell_type": "code",
   "execution_count": 50,
   "id": "f6a8f1a3",
   "metadata": {},
   "outputs": [
    {
     "data": {
      "text/plain": [
       "(1365761, 69)"
      ]
     },
     "execution_count": 50,
     "metadata": {},
     "output_type": "execute_result"
    }
   ],
   "source": [
    "df = df[df.annual_inc < df['annual_inc'].quantile(0.99)]\n",
    "df = df[df.bc_open_to_buy < df['bc_open_to_buy'].quantile(0.999)]\n",
    "df = df[df.revol_bal < df['revol_bal'].quantile(0.999)]\n",
    "df.shape"
   ]
  },
  {
   "cell_type": "code",
   "execution_count": 51,
   "id": "f289290a",
   "metadata": {},
   "outputs": [],
   "source": [
    "categorical = df.loc[:, df.dtypes==object].columns\n",
    "numerical = [x for x in df.columns if x not in categorical]"
   ]
  },
  {
   "cell_type": "markdown",
   "id": "2f3d37a0",
   "metadata": {},
   "source": [
    "# Zmienne ordynalne\n",
    "Grade to zmienna ordynalna, bo określa przewidywane ryzyko braku spłaty w skali od A do F\n",
    "Emp_length okresla długość zatrudnienia, więc też można ją zakodować numerycznie"
   ]
  },
  {
   "cell_type": "code",
   "execution_count": 52,
   "id": "f4747f2d",
   "metadata": {},
   "outputs": [
    {
     "data": {
      "text/plain": [
       "term                    2\n",
       "grade                   7\n",
       "emp_length             12\n",
       "home_ownership          6\n",
       "verification_status     3\n",
       "purpose                14\n",
       "addr_state             51\n",
       "initial_list_status     2\n",
       "application_type        2\n",
       "disbursement_method     2\n",
       "dtype: int64"
      ]
     },
     "execution_count": 52,
     "metadata": {},
     "output_type": "execute_result"
    }
   ],
   "source": [
    "df[categorical].nunique()"
   ]
  },
  {
   "cell_type": "code",
   "execution_count": 53,
   "id": "c2ba5527",
   "metadata": {},
   "outputs": [
    {
     "data": {
      "text/plain": [
       "(array(['10+ years', '3 years', '4 years', '6 years', '7 years', '8 years',\n",
       "        '2 years', '5 years', '9 years', '< 1 year', '1 year', ''],\n",
       "       dtype=object),\n",
       " array(['C', 'B', 'F', 'A', 'E', 'D', 'G'], dtype=object))"
      ]
     },
     "execution_count": 53,
     "metadata": {},
     "output_type": "execute_result"
    }
   ],
   "source": [
    "df.emp_length.unique(), df.grade.unique()"
   ]
  },
  {
   "cell_type": "code",
   "execution_count": 54,
   "id": "abe3740b",
   "metadata": {},
   "outputs": [],
   "source": [
    "repl_dict = {\n",
    "    'emp_length': {\n",
    "        '< 1 year': 0, \n",
    "        '1 year': 1, \n",
    "        '2 years': 2, \n",
    "        '3 years': 3, \n",
    "        '4 years': 4, \n",
    "        '5 years': 5, \n",
    "        '6 years': 6, \n",
    "        '7 years': 7, \n",
    "        '8 years': 8, \n",
    "        '9 years': 9,                               \n",
    "        '10+ years': 10,\n",
    "        '': 5\n",
    "    },\n",
    "    'grade': {\n",
    "        'A': 0,\n",
    "        'B': 1,\n",
    "        'C': 2,\n",
    "        'D': 3,\n",
    "        'E': 4,\n",
    "        'F': 5,\n",
    "        'G': 6\n",
    "    }\n",
    "}\n",
    "\n",
    "df.replace(repl_dict, inplace=True)"
   ]
  },
  {
   "cell_type": "code",
   "execution_count": 55,
   "id": "547619b8",
   "metadata": {},
   "outputs": [],
   "source": [
    "df.emp_length = df.emp_length.apply(int)\n",
    "df.grade = df.grade.apply(int)"
   ]
  },
  {
   "cell_type": "markdown",
   "id": "32dd63a6",
   "metadata": {},
   "source": [
    "# Dzielę dane na zbiór treningowy, walidacyjny i testowy"
   ]
  },
  {
   "cell_type": "code",
   "execution_count": 56,
   "id": "825c2c08",
   "metadata": {},
   "outputs": [],
   "source": [
    "categorical = df.loc[:, df.dtypes==object].columns\n",
    "numerical = [x for x in df.columns if x not in categorical]"
   ]
  },
  {
   "cell_type": "code",
   "execution_count": 57,
   "id": "bf82b486",
   "metadata": {},
   "outputs": [],
   "source": [
    "df = pd.get_dummies(df, columns=categorical, drop_first=True)"
   ]
  },
  {
   "cell_type": "code",
   "execution_count": 58,
   "id": "3e5a4a79",
   "metadata": {},
   "outputs": [],
   "source": [
    "df_train, df_test = train_test_split(df, test_size=0.1, stratify=df.target, random_state=42)\n",
    "df_train, df_val = train_test_split(df_train, test_size=0.1, stratify=df_train.target, random_state=42)"
   ]
  },
  {
   "cell_type": "code",
   "execution_count": 59,
   "id": "4cf08f63",
   "metadata": {},
   "outputs": [],
   "source": [
    "df_train.to_csv('train.csv', index=False)\n",
    "df_test.to_csv('test.csv', index=False)\n",
    "df_val.to_csv('val.csv', index=False)"
   ]
  },
  {
   "cell_type": "code",
   "execution_count": 3,
   "id": "a001e401",
   "metadata": {},
   "outputs": [],
   "source": [
    "df_train = pd.read_csv('train.csv', keep_default_na=False)\n",
    "df_test = pd.read_csv('test.csv', keep_default_na=False)\n",
    "df_val = pd.read_csv('val.csv', keep_default_na=False)"
   ]
  },
  {
   "cell_type": "code",
   "execution_count": 4,
   "id": "35468cf0",
   "metadata": {},
   "outputs": [],
   "source": [
    "def df_train_prep(train, val, test):\n",
    "    y_train = train.target\n",
    "    X_train = train.drop(columns=['target'])\n",
    "    y_val = val.target\n",
    "    X_val = val.drop(columns=['target'])\n",
    "    y_test = test.target\n",
    "    X_test = test.drop(columns=['target'])\n",
    "    return X_train, y_train, X_val, y_val, X_test, y_test"
   ]
  },
  {
   "cell_type": "code",
   "execution_count": 5,
   "id": "0b4e6edd",
   "metadata": {},
   "outputs": [],
   "source": [
    "X_train, y_train, X_val, y_val, X_test, y_test = df_train_prep(df_train, df_val, df_test)"
   ]
  },
  {
   "cell_type": "markdown",
   "id": "86ca82dc",
   "metadata": {},
   "source": [
    "# Drzewo decyzyjne z pruningiem i wizualizacją"
   ]
  },
  {
   "cell_type": "code",
   "execution_count": 10,
   "id": "63a4cfe7",
   "metadata": {},
   "outputs": [],
   "source": [
    "def report_metrics(y, pred):\n",
    "    acc_test = accuracy_score(y, pred)\n",
    "    prec_test = precision_score(y, pred)\n",
    "    rec_test = recall_score(y, pred)\n",
    "    f1_test = f1_score(y, pred)\n",
    "    roc_test = roc_auc_score(y, pred)\n",
    "    print(\n",
    "        f'''Accuracy (test): {acc_test:.3f}\n",
    "        Precision (test): {prec_test:.3f}\n",
    "        Recall (test): {rec_test:.3f}\n",
    "        f1 (test): {f1_test:.3f}\n",
    "        roc-auc (test): {roc_test:.3f}''')"
   ]
  },
  {
   "cell_type": "code",
   "execution_count": 46,
   "id": "6409f2f2",
   "metadata": {},
   "outputs": [],
   "source": [
    "dtree = DecisionTreeClassifier(class_weight='balanced')\n",
    "dtree.fit(X_train, y_train)\n",
    "y_pred = dtree.predict(X_test)"
   ]
  },
  {
   "cell_type": "code",
   "execution_count": 47,
   "id": "f1460ba4",
   "metadata": {},
   "outputs": [
    {
     "name": "stdout",
     "output_type": "stream",
     "text": [
      "Accuracy (test): 0.694\n",
      "        Precision (test): 0.314\n",
      "        Recall (test): 0.320\n",
      "        f1 (test): 0.317\n",
      "        roc-auc (test): 0.560\n"
     ]
    }
   ],
   "source": [
    "report_metrics(y_test, y_pred)"
   ]
  },
  {
   "cell_type": "code",
   "execution_count": 48,
   "id": "9f86a185",
   "metadata": {},
   "outputs": [
    {
     "name": "stdout",
     "output_type": "stream",
     "text": [
      "Accuracy (test): 1.000\n",
      "        Precision (test): 1.000\n",
      "        Recall (test): 1.000\n",
      "        f1 (test): 1.000\n",
      "        roc-auc (test): 1.000\n"
     ]
    }
   ],
   "source": [
    "y_pred = dtree.predict(X_train)\n",
    "report_metrics(y_train, y_pred)"
   ]
  },
  {
   "cell_type": "code",
   "execution_count": 49,
   "id": "58a3fbb2",
   "metadata": {},
   "outputs": [
    {
     "data": {
      "text/plain": [
       "69"
      ]
     },
     "execution_count": 49,
     "metadata": {},
     "output_type": "execute_result"
    }
   ],
   "source": [
    "dtree.tree_.max_depth"
   ]
  },
  {
   "cell_type": "markdown",
   "id": "26c7e1ae",
   "metadata": {},
   "source": [
    "Drzewo decyzyjne na domyslnych parametrach mocno dopasowuje się do danych testowych. Maksymalna głębokość to 69. Widać, że drzewo potrzebuje mocnego ograniczenia głębokości. Wytrenuję drzewa o głębokości od 1 do 20 i porównam ich roc_auc_score na treningowym i walidacyjym."
   ]
  },
  {
   "cell_type": "code",
   "execution_count": 50,
   "id": "5bcebf66",
   "metadata": {},
   "outputs": [],
   "source": [
    "roc_train = []\n",
    "roc_val = []\n",
    "for i in range(1, 21):\n",
    "    dtree = DecisionTreeClassifier(class_weight='balanced', max_depth=i)\n",
    "    dtree.fit(X_train, y_train)\n",
    "    y_pred_train = dtree.predict(X_train)\n",
    "    y_pred_val = dtree.predict(X_val)\n",
    "    roc_train.append(roc_auc_score(y_train, y_pred_train))\n",
    "    roc_val.append(roc_auc_score(y_val, y_pred_val))"
   ]
  },
  {
   "cell_type": "code",
   "execution_count": 51,
   "id": "2e66c202",
   "metadata": {},
   "outputs": [
    {
     "data": {
      "text/plain": [
       "<matplotlib.legend.Legend at 0x190a19f1df0>"
      ]
     },
     "execution_count": 51,
     "metadata": {},
     "output_type": "execute_result"
    },
    {
     "data": {
      "image/png": "[encoded data removed]",
      "text/plain": [
       "<Figure size 432x288 with 1 Axes>"
      ]
     },
     "metadata": {
      "needs_background": "light"
     },
     "output_type": "display_data"
    }
   ],
   "source": [
    "plt.plot(range(1, 21), roc_train, label='roc_train')\n",
    "plt.plot(range(1, 21), roc_val, label='roc_val')\n",
    "plt.xlabel('max_depth')\n",
    "plt.ylabel('roc_auc')\n",
    "plt.legend()"
   ]
  },
  {
   "cell_type": "markdown",
   "id": "71b358c4",
   "metadata": {},
   "source": [
    "Wygląda na to, że najlepszy wynik został osiągnięty dla max_depth=9"
   ]
  },
  {
   "cell_type": "code",
   "execution_count": 55,
   "id": "687b26b7",
   "metadata": {},
   "outputs": [
    {
     "data": {
      "text/plain": [
       "DecisionTreeClassifier(class_weight='balanced', max_depth=9)"
      ]
     },
     "execution_count": 55,
     "metadata": {},
     "output_type": "execute_result"
    }
   ],
   "source": [
    "dtree = DecisionTreeClassifier(class_weight='balanced', max_depth=9)\n",
    "dtree.fit(X_train, y_train)"
   ]
  },
  {
   "cell_type": "code",
   "execution_count": 56,
   "id": "221f6812",
   "metadata": {},
   "outputs": [],
   "source": [
    "with open('dtree.pkl', 'wb') as f:\n",
    "    pickle.dump(dtree, f)"
   ]
  },
  {
   "cell_type": "code",
   "execution_count": 57,
   "id": "ef8df2c5",
   "metadata": {},
   "outputs": [
    {
     "name": "stdout",
     "output_type": "stream",
     "text": [
      "Accuracy (test): 0.643\n",
      "        Precision (test): 0.346\n",
      "        Recall (test): 0.686\n",
      "        f1 (test): 0.460\n",
      "        roc-auc (test): 0.658\n"
     ]
    }
   ],
   "source": [
    "y_pred = dtree.predict(X_test)\n",
    "report_metrics(y_test, y_pred)"
   ]
  },
  {
   "cell_type": "code",
   "execution_count": 58,
   "id": "d3fd09db",
   "metadata": {},
   "outputs": [
    {
     "name": "stdout",
     "output_type": "stream",
     "text": [
      "Accuracy (test): 0.643\n",
      "        Precision (test): 0.347\n",
      "        Recall (test): 0.691\n",
      "        f1 (test): 0.462\n",
      "        roc-auc (test): 0.660\n"
     ]
    }
   ],
   "source": [
    "y_pred = dtree.predict(X_train)\n",
    "report_metrics(y_train, y_pred)"
   ]
  },
  {
   "cell_type": "markdown",
   "id": "72a5dc81",
   "metadata": {},
   "source": [
    "# Regresja Logistyczna\n",
    "Przeskaluję dane, ponieważ czytałem, że to może przyspieszyć zbieżność funkcji kosztu. Wykorzystam SGDClassifier, ponieważ jest szbszy, niż LogisticRegression. W dodatku można łatwo porównać z liniowym SVM i perceptronem, wykorzystując GridSearchCV"
   ]
  },
  {
   "cell_type": "code",
   "execution_count": null,
   "id": "78d24d04",
   "metadata": {},
   "outputs": [],
   "source": [
    "sgd = SGDClassifier(max_iter=1000)\n",
    "    \n",
    "params = {\n",
    "    'loss': ['hinge', 'log', 'perceptron'],\n",
    "    'penalty': ['l1', 'l2'],\n",
    "    'alpha': [1e-3, 1e-4, 1e-5]\n",
    "}\n",
    "\n",
    "clf = GridSearchCV(sgd, params)"
   ]
  },
  {
   "cell_type": "code",
   "execution_count": 6,
   "id": "1e4659f1",
   "metadata": {},
   "outputs": [],
   "source": [
    "scaler = MinMaxScaler()\n",
    "X_train_scaled = scaler.fit_transform(X_train)\n",
    "X_val_scaled = scaler.transform(X_val)\n",
    "X_test_scaled = scaler.transform(X_test)"
   ]
  },
  {
   "cell_type": "code",
   "execution_count": 37,
   "id": "e0b5ebd4",
   "metadata": {},
   "outputs": [],
   "source": [
    "lreg = SGDClassifier(loss='log', class_weight='balanced', penalty='l1')\n",
    "lreg.fit(X_train_scaled, y_train)\n",
    "y_pred = lreg.predict(X_test_scaled)"
   ]
  },
  {
   "cell_type": "code",
   "execution_count": 38,
   "id": "aa144596",
   "metadata": {},
   "outputs": [
    {
     "name": "stdout",
     "output_type": "stream",
     "text": [
      "Accuracy (test): 0.685\n",
      "        Precision (test): 0.373\n",
      "        Recall (test): 0.618\n",
      "        f1 (test): 0.465\n",
      "        roc-auc (test): 0.661\n"
     ]
    }
   ],
   "source": [
    "report_metrics(y_test, y_pred)"
   ]
  },
  {
   "cell_type": "code",
   "execution_count": 39,
   "id": "e9dbb2d5",
   "metadata": {},
   "outputs": [
    {
     "name": "stdout",
     "output_type": "stream",
     "text": [
      "Accuracy (test): 0.683\n",
      "        Precision (test): 0.371\n",
      "        Recall (test): 0.617\n",
      "        f1 (test): 0.463\n",
      "        roc-auc (test): 0.659\n"
     ]
    }
   ],
   "source": [
    "y_pred = lreg.predict(X_train_scaled)\n",
    "report_metrics(y_train, y_pred)"
   ]
  },
  {
   "cell_type": "code",
   "execution_count": 40,
   "id": "8b01e57e",
   "metadata": {},
   "outputs": [
    {
     "data": {
      "text/plain": [
       "0.5447761194029851"
      ]
     },
     "execution_count": 40,
     "metadata": {},
     "output_type": "execute_result"
    }
   ],
   "source": [
    "np.count_nonzero(lreg.coef_.ravel()) / lreg.coef_.ravel().shape[0]"
   ]
  },
  {
   "cell_type": "markdown",
   "id": "0ad48511",
   "metadata": {},
   "source": [
    "Czyli regresja logistyczna LASSO ogranicza wymiarowość o prawie połowę."
   ]
  },
  {
   "cell_type": "code",
   "execution_count": 31,
   "id": "8d027eaf",
   "metadata": {},
   "outputs": [],
   "source": [
    "X_scaled = np.append(X_train_scaled, X_val_scaled, axis=0)\n",
    "y = np.append(y_train, y_val)"
   ]
  },
  {
   "cell_type": "code",
   "execution_count": 41,
   "id": "7e106853",
   "metadata": {},
   "outputs": [
    {
     "data": {
      "text/plain": [
       "GridSearchCV(cv=3, estimator=SGDClassifier(class_weight='balanced'),\n",
       "             param_grid={'alpha': [0.001, 0.0001, 1e-05],\n",
       "                         'loss': ['hinge', 'log', 'perceptron'],\n",
       "                         'penalty': ['l1', 'l2']},\n",
       "             scoring='roc_auc')"
      ]
     },
     "execution_count": 41,
     "metadata": {},
     "output_type": "execute_result"
    }
   ],
   "source": [
    "sgd = SGDClassifier(max_iter=1000, class_weight='balanced')\n",
    "    \n",
    "params = {\n",
    "    'loss': ['hinge', 'log', 'perceptron'],\n",
    "    'penalty': ['l1', 'l2'],\n",
    "    'alpha': [1e-3, 1e-4, 1e-5]\n",
    "}\n",
    "\n",
    "cv = GridSearchCV(sgd, params, cv=3, scoring='roc_auc')\n",
    "cv.fit(X_scaled, y)"
   ]
  },
  {
   "cell_type": "code",
   "execution_count": 42,
   "id": "4559374a",
   "metadata": {},
   "outputs": [
    {
     "data": {
      "text/plain": [
       "(0.7203675999217842, {'alpha': 0.0001, 'loss': 'hinge', 'penalty': 'l1'})"
      ]
     },
     "execution_count": 42,
     "metadata": {},
     "output_type": "execute_result"
    }
   ],
   "source": [
    "cv.best_score_, cv.best_params_"
   ]
  },
  {
   "cell_type": "code",
   "execution_count": 43,
   "id": "1a3aab6d",
   "metadata": {},
   "outputs": [
    {
     "name": "stdout",
     "output_type": "stream",
     "text": [
      "Accuracy (test): 0.649\n",
      "        Precision (test): 0.351\n",
      "        Recall (test): 0.688\n",
      "        f1 (test): 0.465\n",
      "        roc-auc (test): 0.663\n"
     ]
    }
   ],
   "source": [
    "y_pred = cv.predict(X_test_scaled)\n",
    "report_metrics(y_test, y_pred)"
   ]
  },
  {
   "cell_type": "code",
   "execution_count": 44,
   "id": "d015a31b",
   "metadata": {},
   "outputs": [
    {
     "name": "stdout",
     "output_type": "stream",
     "text": [
      "Accuracy (test): 0.647\n",
      "        Precision (test): 0.350\n",
      "        Recall (test): 0.687\n",
      "        f1 (test): 0.464\n",
      "        roc-auc (test): 0.662\n"
     ]
    }
   ],
   "source": [
    "y_pred = cv.predict(X_train_scaled)\n",
    "report_metrics(y_train, y_pred)"
   ]
  },
  {
   "cell_type": "markdown",
   "id": "8262a76f",
   "metadata": {},
   "source": [
    "# CatBoost"
   ]
  },
  {
   "cell_type": "code",
   "execution_count": 60,
   "id": "5b852d13",
   "metadata": {},
   "outputs": [
    {
     "data": {
      "application/vnd.jupyter.widget-view+json": {
       "model_id": "90ecfb2238794e74a17610d59f955716",
       "version_major": 2,
       "version_minor": 0
      },
      "text/plain": [
       "MetricVisualizer(layout=Layout(align_self='stretch', height='500px'))"
      ]
     },
     "metadata": {},
     "output_type": "display_data"
    },
    {
     "data": {
      "text/plain": [
       "<catboost.core.CatBoostClassifier at 0x190a2cd1940>"
      ]
     },
     "execution_count": 60,
     "metadata": {},
     "output_type": "execute_result"
    }
   ],
   "source": [
    "pool_train = Pool(X_train, y_train)\n",
    "pool_val = Pool(X_val, y_val)\n",
    "pool_test = Pool(X_test, y_test)\n",
    "\n",
    "n = y_train.value_counts()\n",
    "catboost = CatBoostClassifier(learning_rate=0.03,\n",
    "                           iterations=1500,\n",
    "                           early_stopping_rounds=100,\n",
    "                           class_weights=[1, n[0] / n[1]],\n",
    "                           verbose=False,\n",
    "                           random_state=0)\n",
    "catboost.fit(pool_train, eval_set=pool_val, plot=True)"
   ]
  },
  {
   "cell_type": "code",
   "execution_count": 61,
   "id": "5c987199",
   "metadata": {},
   "outputs": [
    {
     "name": "stdout",
     "output_type": "stream",
     "text": [
      "Accuracy (test): 0.670\n",
      "        Precision (test): 0.369\n",
      "        Recall (test): 0.689\n",
      "        f1 (test): 0.481\n",
      "        roc-auc (test): 0.677\n"
     ]
    }
   ],
   "source": [
    "y_pred_test = catboost.predict(pool_test)\n",
    "\n",
    "report_metrics(y_test, y_pred_test)"
   ]
  },
  {
   "cell_type": "code",
   "execution_count": 62,
   "id": "22342c74",
   "metadata": {},
   "outputs": [
    {
     "data": {
      "text/plain": [
       "<AxesSubplot:xlabel='Importance', ylabel='Feature'>"
      ]
     },
     "execution_count": 62,
     "metadata": {},
     "output_type": "execute_result"
    },
    {
     "data": {
      "image/png": "[encoded data removed]",
      "text/plain": [
       "<Figure size 432x288 with 1 Axes>"
      ]
     },
     "metadata": {
      "needs_background": "light"
     },
     "output_type": "display_data"
    }
   ],
   "source": [
    "df = pd.DataFrame({'Feature': catboost.feature_names_, 'Importance': catboost.feature_importances_})\n",
    "df = df.sort_values('Importance', ascending=False)[:10]\n",
    "sns.barplot(x='Importance', y='Feature', data=df)"
   ]
  },
  {
   "cell_type": "code",
   "execution_count": 63,
   "id": "b78b58fd",
   "metadata": {},
   "outputs": [
    {
     "data": {
      "text/plain": [
       "array([[70596, 35683],\n",
       "       [ 9425, 20873]], dtype=int64)"
      ]
     },
     "execution_count": 63,
     "metadata": {},
     "output_type": "execute_result"
    }
   ],
   "source": [
    "confusion_matrix(y_test, y_pred_test)"
   ]
  },
  {
   "cell_type": "code",
   "execution_count": 65,
   "id": "39ffd432",
   "metadata": {},
   "outputs": [],
   "source": [
    "catboost.save_model('catboost.cbm')"
   ]
  },
  {
   "cell_type": "markdown",
   "id": "2e3d4740",
   "metadata": {},
   "source": [
    "# Xgboost z dostrajaniem hyperopt\n",
    "Na koniec próbuję wytrenować xgboost z dostrajaniem hiperparametrów za pomocą hyperopt (optymalizacja Bayesowska).\n",
    "Ze względu na rozmiar danych i ograniczone zasoby, zapuszcza, tylko na 50 iteracji."
   ]
  },
  {
   "cell_type": "code",
   "execution_count": 159,
   "id": "7738b2ec",
   "metadata": {},
   "outputs": [],
   "source": [
    "space = {\n",
    "    'learning_rate': hp.loguniform('learning_rate', -7, 0),\n",
    "    'max_depth': scope.int(hp.uniform('max_depth', 1, 20)),\n",
    "    'min_child_weight': hp.loguniform('min_child_weight', -2, 3),\n",
    "    'subsample': hp.uniform('subsample', 0.5, 1),\n",
    "    'colsample_bytree': hp.uniform('colsample_bytree', 0.5, 1),\n",
    "    'gamma': hp.loguniform('gamma', -10, 10),\n",
    "    'reg_alpha' : hp.quniform('reg_alpha', 40, 180, 1),\n",
    "    'reg_lambda' : hp.uniform('reg_lambda', 0,1)\n",
    "}\n",
    "n = y_train.value_counts()"
   ]
  },
  {
   "cell_type": "code",
   "execution_count": 156,
   "id": "10787544",
   "metadata": {},
   "outputs": [],
   "source": [
    "def objective(space):\n",
    "    clf = xgb.XGBClassifier(scale_pos_weight=(n[0] / n[1]), n_estimators=100, **space)\n",
    "    \n",
    "    evaluation = [( X_val, y_val)]\n",
    "    \n",
    "    clf.fit(X_train, y_train,\n",
    "            eval_set=evaluation, eval_metric=\"auc\",\n",
    "            early_stopping_rounds=5,verbose=False)\n",
    "    \n",
    "\n",
    "    pred = clf.predict(X_val)\n",
    "    auc = roc_auc_score(y_val, pred>0.5)\n",
    "    print (\"SCORE:\", auc)\n",
    "    return {'loss': -auc, 'status': STATUS_OK }"
   ]
  },
  {
   "cell_type": "code",
   "execution_count": 157,
   "id": "b979035e",
   "metadata": {
    "collapsed": true
   },
   "outputs": [
    {
     "name": "stdout",
     "output_type": "stream",
     "text": [
      "\r",
      "  0%|                                                                           | 0/50 [00:00<?, ?trial/s, best loss=?]"
     ]
    },
    {
     "name": "stderr",
     "output_type": "stream",
     "text": [
      "C:\\Users\\wojtek\\anaconda3\\lib\\site-packages\\xgboost\\sklearn.py:1146: UserWarning: The use of label encoder in XGBClassifier is deprecated and will be removed in a future release. To remove this warning, do the following: 1) Pass option use_label_encoder=False when constructing XGBClassifier object; and 2) Encode your labels (y) as integers starting with 0, i.e. 0, 1, 2, ..., [num_class - 1].\n",
      "  warnings.warn(label_encoder_deprecation_msg, UserWarning)\n",
      "\n"
     ]
    },
    {
     "name": "stdout",
     "output_type": "stream",
     "text": [
      "SCORE:                                                                                                                 \n",
      "0.6708797371180026                                                                                                     \n",
      "  2%|▉                                               | 1/50 [00:55<45:08, 55.27s/trial, best loss: -0.6708797371180026]"
     ]
    },
    {
     "name": "stderr",
     "output_type": "stream",
     "text": [
      "C:\\Users\\wojtek\\anaconda3\\lib\\site-packages\\xgboost\\data.py:112: UserWarning: Use subset (sliced data) of np.ndarray is not recommended because it will generate extra copies and increase memory consumption\n",
      "  warnings.warn(\n",
      "\n",
      "C:\\Users\\wojtek\\anaconda3\\lib\\site-packages\\xgboost\\sklearn.py:1146: UserWarning: The use of label encoder in XGBClassifier is deprecated and will be removed in a future release. To remove this warning, do the following: 1) Pass option use_label_encoder=False when constructing XGBClassifier object; and 2) Encode your labels (y) as integers starting with 0, i.e. 0, 1, 2, ..., [num_class - 1].\n",
      "  warnings.warn(label_encoder_deprecation_msg, UserWarning)\n",
      "\n"
     ]
    },
    {
     "name": "stdout",
     "output_type": "stream",
     "text": [
      "SCORE:                                                                                                                 \n",
      "0.6340298596524689                                                                                                     \n",
      "  4%|█▉                                              | 2/50 [01:03<22:08, 27.67s/trial, best loss: -0.6708797371180026]"
     ]
    },
    {
     "name": "stderr",
     "output_type": "stream",
     "text": [
      "C:\\Users\\wojtek\\anaconda3\\lib\\site-packages\\xgboost\\data.py:112: UserWarning: Use subset (sliced data) of np.ndarray is not recommended because it will generate extra copies and increase memory consumption\n",
      "  warnings.warn(\n",
      "\n",
      "C:\\Users\\wojtek\\anaconda3\\lib\\site-packages\\xgboost\\sklearn.py:1146: UserWarning: The use of label encoder in XGBClassifier is deprecated and will be removed in a future release. To remove this warning, do the following: 1) Pass option use_label_encoder=False when constructing XGBClassifier object; and 2) Encode your labels (y) as integers starting with 0, i.e. 0, 1, 2, ..., [num_class - 1].\n",
      "  warnings.warn(label_encoder_deprecation_msg, UserWarning)\n",
      "\n"
     ]
    },
    {
     "name": "stdout",
     "output_type": "stream",
     "text": [
      "SCORE:                                                                                                                 \n",
      "0.6546044195217073                                                                                                     \n",
      "  6%|██▉                                             | 3/50 [01:53<29:35, 37.78s/trial, best loss: -0.6708797371180026]"
     ]
    },
    {
     "name": "stderr",
     "output_type": "stream",
     "text": [
      "C:\\Users\\wojtek\\anaconda3\\lib\\site-packages\\xgboost\\data.py:112: UserWarning: Use subset (sliced data) of np.ndarray is not recommended because it will generate extra copies and increase memory consumption\n",
      "  warnings.warn(\n",
      "\n",
      "C:\\Users\\wojtek\\anaconda3\\lib\\site-packages\\xgboost\\sklearn.py:1146: UserWarning: The use of label encoder in XGBClassifier is deprecated and will be removed in a future release. To remove this warning, do the following: 1) Pass option use_label_encoder=False when constructing XGBClassifier object; and 2) Encode your labels (y) as integers starting with 0, i.e. 0, 1, 2, ..., [num_class - 1].\n",
      "  warnings.warn(label_encoder_deprecation_msg, UserWarning)\n",
      "\n"
     ]
    },
    {
     "name": "stdout",
     "output_type": "stream",
     "text": [
      "SCORE:                                                                                                                 \n",
      "0.6730050605697283                                                                                                     \n",
      "  6%|██▉                                             | 3/50 [05:12<29:35, 37.78s/trial, best loss: -0.6708797371180026]"
     ]
    },
    {
     "name": "stderr",
     "output_type": "stream",
     "text": [
      "C:\\Users\\wojtek\\anaconda3\\lib\\site-packages\\xgboost\\data.py:112: UserWarning: Use subset (sliced data) of np.ndarray is not recommended because it will generate extra copies and increase memory consumption\n",
      "  warnings.warn(\n",
      "\n"
     ]
    },
    {
     "name": "stdout",
     "output_type": "stream",
     "text": [
      "\r",
      "  8%|███▌                                         | 4/50 [05:12<1:17:53, 101.61s/trial, best loss: -0.6730050605697283]"
     ]
    },
    {
     "name": "stderr",
     "output_type": "stream",
     "text": [
      "C:\\Users\\wojtek\\anaconda3\\lib\\site-packages\\xgboost\\sklearn.py:1146: UserWarning: The use of label encoder in XGBClassifier is deprecated and will be removed in a future release. To remove this warning, do the following: 1) Pass option use_label_encoder=False when constructing XGBClassifier object; and 2) Encode your labels (y) as integers starting with 0, i.e. 0, 1, 2, ..., [num_class - 1].\n",
      "  warnings.warn(label_encoder_deprecation_msg, UserWarning)\n",
      "\n",
      "C:\\Users\\wojtek\\anaconda3\\lib\\site-packages\\xgboost\\data.py:112: UserWarning: Use subset (sliced data) of np.ndarray is not recommended because it will generate extra copies and increase memory consumption\n",
      "  warnings.warn(\n",
      "\n"
     ]
    },
    {
     "name": "stdout",
     "output_type": "stream",
     "text": [
      "SCORE:                                                                                                                 \n",
      "0.6707471723301233                                                                                                     \n",
      " 10%|████▌                                        | 5/50 [07:45<1:30:07, 120.16s/trial, best loss: -0.6730050605697283]"
     ]
    },
    {
     "name": "stderr",
     "output_type": "stream",
     "text": [
      "C:\\Users\\wojtek\\anaconda3\\lib\\site-packages\\xgboost\\sklearn.py:1146: UserWarning: The use of label encoder in XGBClassifier is deprecated and will be removed in a future release. To remove this warning, do the following: 1) Pass option use_label_encoder=False when constructing XGBClassifier object; and 2) Encode your labels (y) as integers starting with 0, i.e. 0, 1, 2, ..., [num_class - 1].\n",
      "  warnings.warn(label_encoder_deprecation_msg, UserWarning)\n",
      "\n"
     ]
    },
    {
     "name": "stdout",
     "output_type": "stream",
     "text": [
      "SCORE:                                                                                                                 \n",
      "0.648067516088385                                                                                                      \n",
      " 12%|█████▍                                       | 6/50 [08:48<1:13:42, 100.51s/trial, best loss: -0.6730050605697283]"
     ]
    },
    {
     "name": "stderr",
     "output_type": "stream",
     "text": [
      "C:\\Users\\wojtek\\anaconda3\\lib\\site-packages\\xgboost\\data.py:112: UserWarning: Use subset (sliced data) of np.ndarray is not recommended because it will generate extra copies and increase memory consumption\n",
      "  warnings.warn(\n",
      "\n",
      "C:\\Users\\wojtek\\anaconda3\\lib\\site-packages\\xgboost\\sklearn.py:1146: UserWarning: The use of label encoder in XGBClassifier is deprecated and will be removed in a future release. To remove this warning, do the following: 1) Pass option use_label_encoder=False when constructing XGBClassifier object; and 2) Encode your labels (y) as integers starting with 0, i.e. 0, 1, 2, ..., [num_class - 1].\n",
      "  warnings.warn(label_encoder_deprecation_msg, UserWarning)\n",
      "\n"
     ]
    },
    {
     "name": "stdout",
     "output_type": "stream",
     "text": [
      "SCORE:                                                                                                                 \n",
      "0.670580142545405                                                                                                      \n",
      " 14%|██████▎                                      | 7/50 [10:32<1:12:51, 101.66s/trial, best loss: -0.6730050605697283]"
     ]
    },
    {
     "name": "stderr",
     "output_type": "stream",
     "text": [
      "C:\\Users\\wojtek\\anaconda3\\lib\\site-packages\\xgboost\\data.py:112: UserWarning: Use subset (sliced data) of np.ndarray is not recommended because it will generate extra copies and increase memory consumption\n",
      "  warnings.warn(\n",
      "\n",
      "C:\\Users\\wojtek\\anaconda3\\lib\\site-packages\\xgboost\\sklearn.py:1146: UserWarning: The use of label encoder in XGBClassifier is deprecated and will be removed in a future release. To remove this warning, do the following: 1) Pass option use_label_encoder=False when constructing XGBClassifier object; and 2) Encode your labels (y) as integers starting with 0, i.e. 0, 1, 2, ..., [num_class - 1].\n",
      "  warnings.warn(label_encoder_deprecation_msg, UserWarning)\n",
      "\n"
     ]
    },
    {
     "name": "stdout",
     "output_type": "stream",
     "text": [
      "SCORE:                                                                                                                 \n",
      "0.6364270030883861                                                                                                     \n",
      " 16%|███████▋                                        | 8/50 [10:41<50:38, 72.35s/trial, best loss: -0.6730050605697283]"
     ]
    },
    {
     "name": "stderr",
     "output_type": "stream",
     "text": [
      "C:\\Users\\wojtek\\anaconda3\\lib\\site-packages\\xgboost\\data.py:112: UserWarning: Use subset (sliced data) of np.ndarray is not recommended because it will generate extra copies and increase memory consumption\n",
      "  warnings.warn(\n",
      "\n",
      "C:\\Users\\wojtek\\anaconda3\\lib\\site-packages\\xgboost\\sklearn.py:1146: UserWarning: The use of label encoder in XGBClassifier is deprecated and will be removed in a future release. To remove this warning, do the following: 1) Pass option use_label_encoder=False when constructing XGBClassifier object; and 2) Encode your labels (y) as integers starting with 0, i.e. 0, 1, 2, ..., [num_class - 1].\n",
      "  warnings.warn(label_encoder_deprecation_msg, UserWarning)\n",
      "\n"
     ]
    },
    {
     "name": "stdout",
     "output_type": "stream",
     "text": [
      "SCORE:                                                                                                                 \n",
      "0.6712969410193543                                                                                                     \n",
      " 18%|████████▋                                       | 9/50 [11:13<40:37, 59.45s/trial, best loss: -0.6730050605697283]"
     ]
    },
    {
     "name": "stderr",
     "output_type": "stream",
     "text": [
      "C:\\Users\\wojtek\\anaconda3\\lib\\site-packages\\xgboost\\data.py:112: UserWarning: Use subset (sliced data) of np.ndarray is not recommended because it will generate extra copies and increase memory consumption\n",
      "  warnings.warn(\n",
      "\n",
      "C:\\Users\\wojtek\\anaconda3\\lib\\site-packages\\xgboost\\sklearn.py:1146: UserWarning: The use of label encoder in XGBClassifier is deprecated and will be removed in a future release. To remove this warning, do the following: 1) Pass option use_label_encoder=False when constructing XGBClassifier object; and 2) Encode your labels (y) as integers starting with 0, i.e. 0, 1, 2, ..., [num_class - 1].\n",
      "  warnings.warn(label_encoder_deprecation_msg, UserWarning)\n",
      "\n"
     ]
    },
    {
     "name": "stdout",
     "output_type": "stream",
     "text": [
      "SCORE:                                                                                                                 \n",
      "0.6640793778612433                                                                                                     \n",
      " 20%|█████████▍                                     | 10/50 [13:08<51:07, 76.69s/trial, best loss: -0.6730050605697283]"
     ]
    },
    {
     "name": "stderr",
     "output_type": "stream",
     "text": [
      "C:\\Users\\wojtek\\anaconda3\\lib\\site-packages\\xgboost\\data.py:112: UserWarning: Use subset (sliced data) of np.ndarray is not recommended because it will generate extra copies and increase memory consumption\n",
      "  warnings.warn(\n",
      "\n",
      "C:\\Users\\wojtek\\anaconda3\\lib\\site-packages\\xgboost\\sklearn.py:1146: UserWarning: The use of label encoder in XGBClassifier is deprecated and will be removed in a future release. To remove this warning, do the following: 1) Pass option use_label_encoder=False when constructing XGBClassifier object; and 2) Encode your labels (y) as integers starting with 0, i.e. 0, 1, 2, ..., [num_class - 1].\n",
      "  warnings.warn(label_encoder_deprecation_msg, UserWarning)\n",
      "\n"
     ]
    },
    {
     "name": "stdout",
     "output_type": "stream",
     "text": [
      "SCORE:                                                                                                                 \n",
      "0.6479090626788088                                                                                                     \n",
      " 22%|██████████▎                                    | 11/50 [13:29<38:45, 59.64s/trial, best loss: -0.6730050605697283]"
     ]
    },
    {
     "name": "stderr",
     "output_type": "stream",
     "text": [
      "C:\\Users\\wojtek\\anaconda3\\lib\\site-packages\\xgboost\\data.py:112: UserWarning: Use subset (sliced data) of np.ndarray is not recommended because it will generate extra copies and increase memory consumption\n",
      "  warnings.warn(\n",
      "\n",
      "C:\\Users\\wojtek\\anaconda3\\lib\\site-packages\\xgboost\\sklearn.py:1146: UserWarning: The use of label encoder in XGBClassifier is deprecated and will be removed in a future release. To remove this warning, do the following: 1) Pass option use_label_encoder=False when constructing XGBClassifier object; and 2) Encode your labels (y) as integers starting with 0, i.e. 0, 1, 2, ..., [num_class - 1].\n",
      "  warnings.warn(label_encoder_deprecation_msg, UserWarning)\n",
      "\n"
     ]
    },
    {
     "name": "stdout",
     "output_type": "stream",
     "text": [
      "SCORE:                                                                                                                 \n",
      "0.6448086810191114                                                                                                     \n",
      " 24%|███████████▎                                   | 12/50 [13:49<30:05, 47.52s/trial, best loss: -0.6730050605697283]"
     ]
    },
    {
     "name": "stderr",
     "output_type": "stream",
     "text": [
      "C:\\Users\\wojtek\\anaconda3\\lib\\site-packages\\xgboost\\data.py:112: UserWarning: Use subset (sliced data) of np.ndarray is not recommended because it will generate extra copies and increase memory consumption\n",
      "  warnings.warn(\n",
      "\n",
      "C:\\Users\\wojtek\\anaconda3\\lib\\site-packages\\xgboost\\sklearn.py:1146: UserWarning: The use of label encoder in XGBClassifier is deprecated and will be removed in a future release. To remove this warning, do the following: 1) Pass option use_label_encoder=False when constructing XGBClassifier object; and 2) Encode your labels (y) as integers starting with 0, i.e. 0, 1, 2, ..., [num_class - 1].\n",
      "  warnings.warn(label_encoder_deprecation_msg, UserWarning)\n",
      "\n"
     ]
    },
    {
     "name": "stdout",
     "output_type": "stream",
     "text": [
      "SCORE:                                                                                                                 \n",
      "0.6651421628516512                                                                                                     \n",
      " 24%|███████████▎                                   | 12/50 [16:53<30:05, 47.52s/trial, best loss: -0.6730050605697283]"
     ]
    },
    {
     "name": "stderr",
     "output_type": "stream",
     "text": [
      "C:\\Users\\wojtek\\anaconda3\\lib\\site-packages\\xgboost\\data.py:112: UserWarning: Use subset (sliced data) of np.ndarray is not recommended because it will generate extra copies and increase memory consumption\n",
      "  warnings.warn(\n",
      "\n"
     ]
    },
    {
     "name": "stdout",
     "output_type": "stream",
     "text": [
      "\r",
      " 26%|████████████▏                                  | 13/50 [16:53<54:56, 89.10s/trial, best loss: -0.6730050605697283]"
     ]
    },
    {
     "name": "stderr",
     "output_type": "stream",
     "text": [
      "C:\\Users\\wojtek\\anaconda3\\lib\\site-packages\\xgboost\\sklearn.py:1146: UserWarning: The use of label encoder in XGBClassifier is deprecated and will be removed in a future release. To remove this warning, do the following: 1) Pass option use_label_encoder=False when constructing XGBClassifier object; and 2) Encode your labels (y) as integers starting with 0, i.e. 0, 1, 2, ..., [num_class - 1].\n",
      "  warnings.warn(label_encoder_deprecation_msg, UserWarning)\n",
      "\n"
     ]
    },
    {
     "name": "stdout",
     "output_type": "stream",
     "text": [
      "SCORE:                                                                                                                 \n",
      "0.6591882238438193                                                                                                     \n",
      " 28%|█████████████▏                                 | 14/50 [17:50<47:29, 79.16s/trial, best loss: -0.6730050605697283]"
     ]
    },
    {
     "name": "stderr",
     "output_type": "stream",
     "text": [
      "C:\\Users\\wojtek\\anaconda3\\lib\\site-packages\\xgboost\\data.py:112: UserWarning: Use subset (sliced data) of np.ndarray is not recommended because it will generate extra copies and increase memory consumption\n",
      "  warnings.warn(\n",
      "\n",
      "C:\\Users\\wojtek\\anaconda3\\lib\\site-packages\\xgboost\\sklearn.py:1146: UserWarning: The use of label encoder in XGBClassifier is deprecated and will be removed in a future release. To remove this warning, do the following: 1) Pass option use_label_encoder=False when constructing XGBClassifier object; and 2) Encode your labels (y) as integers starting with 0, i.e. 0, 1, 2, ..., [num_class - 1].\n",
      "  warnings.warn(label_encoder_deprecation_msg, UserWarning)\n",
      "\n"
     ]
    },
    {
     "name": "stdout",
     "output_type": "stream",
     "text": [
      "SCORE:                                                                                                                 \n",
      "0.6624147973418848                                                                                                     \n",
      " 30%|██████████████                                 | 15/50 [18:15<36:41, 62.89s/trial, best loss: -0.6730050605697283]"
     ]
    },
    {
     "name": "stderr",
     "output_type": "stream",
     "text": [
      "C:\\Users\\wojtek\\anaconda3\\lib\\site-packages\\xgboost\\data.py:112: UserWarning: Use subset (sliced data) of np.ndarray is not recommended because it will generate extra copies and increase memory consumption\n",
      "  warnings.warn(\n",
      "\n",
      "C:\\Users\\wojtek\\anaconda3\\lib\\site-packages\\xgboost\\sklearn.py:1146: UserWarning: The use of label encoder in XGBClassifier is deprecated and will be removed in a future release. To remove this warning, do the following: 1) Pass option use_label_encoder=False when constructing XGBClassifier object; and 2) Encode your labels (y) as integers starting with 0, i.e. 0, 1, 2, ..., [num_class - 1].\n",
      "  warnings.warn(label_encoder_deprecation_msg, UserWarning)\n",
      "\n"
     ]
    },
    {
     "name": "stdout",
     "output_type": "stream",
     "text": [
      "SCORE:                                                                                                                 \n",
      "0.649902229668442                                                                                                      \n",
      " 32%|███████████████                                | 16/50 [18:24<26:30, 46.79s/trial, best loss: -0.6730050605697283]"
     ]
    },
    {
     "name": "stderr",
     "output_type": "stream",
     "text": [
      "C:\\Users\\wojtek\\anaconda3\\lib\\site-packages\\xgboost\\data.py:112: UserWarning: Use subset (sliced data) of np.ndarray is not recommended because it will generate extra copies and increase memory consumption\n",
      "  warnings.warn(\n",
      "\n",
      "C:\\Users\\wojtek\\anaconda3\\lib\\site-packages\\xgboost\\sklearn.py:1146: UserWarning: The use of label encoder in XGBClassifier is deprecated and will be removed in a future release. To remove this warning, do the following: 1) Pass option use_label_encoder=False when constructing XGBClassifier object; and 2) Encode your labels (y) as integers starting with 0, i.e. 0, 1, 2, ..., [num_class - 1].\n",
      "  warnings.warn(label_encoder_deprecation_msg, UserWarning)\n",
      "\n"
     ]
    },
    {
     "name": "stdout",
     "output_type": "stream",
     "text": [
      "SCORE:                                                                                                                 \n",
      "0.6597107942015996                                                                                                     \n",
      " 34%|███████████████▉                               | 17/50 [19:25<28:01, 50.95s/trial, best loss: -0.6730050605697283]"
     ]
    },
    {
     "name": "stderr",
     "output_type": "stream",
     "text": [
      "C:\\Users\\wojtek\\anaconda3\\lib\\site-packages\\xgboost\\data.py:112: UserWarning: Use subset (sliced data) of np.ndarray is not recommended because it will generate extra copies and increase memory consumption\n",
      "  warnings.warn(\n",
      "\n",
      "C:\\Users\\wojtek\\anaconda3\\lib\\site-packages\\xgboost\\sklearn.py:1146: UserWarning: The use of label encoder in XGBClassifier is deprecated and will be removed in a future release. To remove this warning, do the following: 1) Pass option use_label_encoder=False when constructing XGBClassifier object; and 2) Encode your labels (y) as integers starting with 0, i.e. 0, 1, 2, ..., [num_class - 1].\n",
      "  warnings.warn(label_encoder_deprecation_msg, UserWarning)\n",
      "\n"
     ]
    },
    {
     "name": "stdout",
     "output_type": "stream",
     "text": [
      "SCORE:                                                                                                                 \n",
      "0.6630934528196776                                                                                                     \n",
      " 36%|████████████████▉                              | 18/50 [20:21<27:58, 52.45s/trial, best loss: -0.6730050605697283]"
     ]
    },
    {
     "name": "stderr",
     "output_type": "stream",
     "text": [
      "C:\\Users\\wojtek\\anaconda3\\lib\\site-packages\\xgboost\\data.py:112: UserWarning: Use subset (sliced data) of np.ndarray is not recommended because it will generate extra copies and increase memory consumption\n",
      "  warnings.warn(\n",
      "\n",
      "C:\\Users\\wojtek\\anaconda3\\lib\\site-packages\\xgboost\\sklearn.py:1146: UserWarning: The use of label encoder in XGBClassifier is deprecated and will be removed in a future release. To remove this warning, do the following: 1) Pass option use_label_encoder=False when constructing XGBClassifier object; and 2) Encode your labels (y) as integers starting with 0, i.e. 0, 1, 2, ..., [num_class - 1].\n",
      "  warnings.warn(label_encoder_deprecation_msg, UserWarning)\n",
      "\n"
     ]
    },
    {
     "name": "stdout",
     "output_type": "stream",
     "text": [
      "SCORE:                                                                                                                 \n",
      "0.6629655460130046                                                                                                     \n",
      " 38%|█████████████████▊                             | 19/50 [21:20<28:10, 54.53s/trial, best loss: -0.6730050605697283]"
     ]
    },
    {
     "name": "stderr",
     "output_type": "stream",
     "text": [
      "C:\\Users\\wojtek\\anaconda3\\lib\\site-packages\\xgboost\\data.py:112: UserWarning: Use subset (sliced data) of np.ndarray is not recommended because it will generate extra copies and increase memory consumption\n",
      "  warnings.warn(\n",
      "\n",
      "C:\\Users\\wojtek\\anaconda3\\lib\\site-packages\\xgboost\\sklearn.py:1146: UserWarning: The use of label encoder in XGBClassifier is deprecated and will be removed in a future release. To remove this warning, do the following: 1) Pass option use_label_encoder=False when constructing XGBClassifier object; and 2) Encode your labels (y) as integers starting with 0, i.e. 0, 1, 2, ..., [num_class - 1].\n",
      "  warnings.warn(label_encoder_deprecation_msg, UserWarning)\n",
      "\n"
     ]
    },
    {
     "name": "stdout",
     "output_type": "stream",
     "text": [
      "SCORE:                                                                                                                 \n",
      "0.6703077493714938                                                                                                     \n",
      " 40%|██████████████████▊                            | 20/50 [21:48<23:16, 46.55s/trial, best loss: -0.6730050605697283]"
     ]
    },
    {
     "name": "stderr",
     "output_type": "stream",
     "text": [
      "C:\\Users\\wojtek\\anaconda3\\lib\\site-packages\\xgboost\\data.py:112: UserWarning: Use subset (sliced data) of np.ndarray is not recommended because it will generate extra copies and increase memory consumption\n",
      "  warnings.warn(\n",
      "\n",
      "C:\\Users\\wojtek\\anaconda3\\lib\\site-packages\\xgboost\\sklearn.py:1146: UserWarning: The use of label encoder in XGBClassifier is deprecated and will be removed in a future release. To remove this warning, do the following: 1) Pass option use_label_encoder=False when constructing XGBClassifier object; and 2) Encode your labels (y) as integers starting with 0, i.e. 0, 1, 2, ..., [num_class - 1].\n",
      "  warnings.warn(label_encoder_deprecation_msg, UserWarning)\n",
      "\n"
     ]
    },
    {
     "name": "stdout",
     "output_type": "stream",
     "text": [
      "SCORE:                                                                                                                 \n",
      "0.6555076062567178                                                                                                     \n",
      " 42%|███████████████████▋                           | 21/50 [22:06<18:20, 37.93s/trial, best loss: -0.6730050605697283]"
     ]
    },
    {
     "name": "stderr",
     "output_type": "stream",
     "text": [
      "C:\\Users\\wojtek\\anaconda3\\lib\\site-packages\\xgboost\\data.py:112: UserWarning: Use subset (sliced data) of np.ndarray is not recommended because it will generate extra copies and increase memory consumption\n",
      "  warnings.warn(\n",
      "\n",
      "C:\\Users\\wojtek\\anaconda3\\lib\\site-packages\\xgboost\\sklearn.py:1146: UserWarning: The use of label encoder in XGBClassifier is deprecated and will be removed in a future release. To remove this warning, do the following: 1) Pass option use_label_encoder=False when constructing XGBClassifier object; and 2) Encode your labels (y) as integers starting with 0, i.e. 0, 1, 2, ..., [num_class - 1].\n",
      "  warnings.warn(label_encoder_deprecation_msg, UserWarning)\n",
      "\n"
     ]
    },
    {
     "name": "stdout",
     "output_type": "stream",
     "text": [
      "SCORE:                                                                                                                 \n",
      "0.6720134578827027                                                                                                     \n",
      " 44%|████████████████████▋                          | 22/50 [24:48<35:06, 75.22s/trial, best loss: -0.6730050605697283]"
     ]
    },
    {
     "name": "stderr",
     "output_type": "stream",
     "text": [
      "C:\\Users\\wojtek\\anaconda3\\lib\\site-packages\\xgboost\\data.py:112: UserWarning: Use subset (sliced data) of np.ndarray is not recommended because it will generate extra copies and increase memory consumption\n",
      "  warnings.warn(\n",
      "\n",
      "C:\\Users\\wojtek\\anaconda3\\lib\\site-packages\\xgboost\\sklearn.py:1146: UserWarning: The use of label encoder in XGBClassifier is deprecated and will be removed in a future release. To remove this warning, do the following: 1) Pass option use_label_encoder=False when constructing XGBClassifier object; and 2) Encode your labels (y) as integers starting with 0, i.e. 0, 1, 2, ..., [num_class - 1].\n",
      "  warnings.warn(label_encoder_deprecation_msg, UserWarning)\n",
      "\n"
     ]
    },
    {
     "name": "stdout",
     "output_type": "stream",
     "text": [
      "SCORE:                                                                                                                 \n",
      "0.6606364022397588                                                                                                     \n",
      " 46%|█████████████████████▌                         | 23/50 [25:28<29:05, 64.65s/trial, best loss: -0.6730050605697283]"
     ]
    },
    {
     "name": "stderr",
     "output_type": "stream",
     "text": [
      "C:\\Users\\wojtek\\anaconda3\\lib\\site-packages\\xgboost\\data.py:112: UserWarning: Use subset (sliced data) of np.ndarray is not recommended because it will generate extra copies and increase memory consumption\n",
      "  warnings.warn(\n",
      "\n",
      "C:\\Users\\wojtek\\anaconda3\\lib\\site-packages\\xgboost\\sklearn.py:1146: UserWarning: The use of label encoder in XGBClassifier is deprecated and will be removed in a future release. To remove this warning, do the following: 1) Pass option use_label_encoder=False when constructing XGBClassifier object; and 2) Encode your labels (y) as integers starting with 0, i.e. 0, 1, 2, ..., [num_class - 1].\n",
      "  warnings.warn(label_encoder_deprecation_msg, UserWarning)\n",
      "\n"
     ]
    },
    {
     "name": "stdout",
     "output_type": "stream",
     "text": [
      "SCORE:                                                                                                                 \n",
      "0.672422744097834                                                                                                      \n",
      " 48%|██████████████████████                        | 24/50 [28:35<43:57, 101.42s/trial, best loss: -0.6730050605697283]"
     ]
    },
    {
     "name": "stderr",
     "output_type": "stream",
     "text": [
      "C:\\Users\\wojtek\\anaconda3\\lib\\site-packages\\xgboost\\data.py:112: UserWarning: Use subset (sliced data) of np.ndarray is not recommended because it will generate extra copies and increase memory consumption\n",
      "  warnings.warn(\n",
      "\n",
      "C:\\Users\\wojtek\\anaconda3\\lib\\site-packages\\xgboost\\sklearn.py:1146: UserWarning: The use of label encoder in XGBClassifier is deprecated and will be removed in a future release. To remove this warning, do the following: 1) Pass option use_label_encoder=False when constructing XGBClassifier object; and 2) Encode your labels (y) as integers starting with 0, i.e. 0, 1, 2, ..., [num_class - 1].\n",
      "  warnings.warn(label_encoder_deprecation_msg, UserWarning)\n",
      "\n"
     ]
    },
    {
     "name": "stdout",
     "output_type": "stream",
     "text": [
      "SCORE:                                                                                                                 \n",
      "0.6739467551102722                                                                                                     \n",
      " 50%|███████████████████████                       | 25/50 [32:07<56:03, 134.53s/trial, best loss: -0.6739467551102722]"
     ]
    },
    {
     "name": "stderr",
     "output_type": "stream",
     "text": [
      "C:\\Users\\wojtek\\anaconda3\\lib\\site-packages\\xgboost\\data.py:112: UserWarning: Use subset (sliced data) of np.ndarray is not recommended because it will generate extra copies and increase memory consumption\n",
      "  warnings.warn(\n",
      "\n",
      "C:\\Users\\wojtek\\anaconda3\\lib\\site-packages\\xgboost\\sklearn.py:1146: UserWarning: The use of label encoder in XGBClassifier is deprecated and will be removed in a future release. To remove this warning, do the following: 1) Pass option use_label_encoder=False when constructing XGBClassifier object; and 2) Encode your labels (y) as integers starting with 0, i.e. 0, 1, 2, ..., [num_class - 1].\n",
      "  warnings.warn(label_encoder_deprecation_msg, UserWarning)\n",
      "\n"
     ]
    },
    {
     "name": "stdout",
     "output_type": "stream",
     "text": [
      "SCORE:                                                                                                                 \n",
      "0.673858052179993                                                                                                      \n",
      " 52%|██████████████████████▉                     | 26/50 [35:38<1:02:57, 157.40s/trial, best loss: -0.6739467551102722]"
     ]
    },
    {
     "name": "stderr",
     "output_type": "stream",
     "text": [
      "C:\\Users\\wojtek\\anaconda3\\lib\\site-packages\\xgboost\\data.py:112: UserWarning: Use subset (sliced data) of np.ndarray is not recommended because it will generate extra copies and increase memory consumption\n",
      "  warnings.warn(\n",
      "\n",
      "C:\\Users\\wojtek\\anaconda3\\lib\\site-packages\\xgboost\\sklearn.py:1146: UserWarning: The use of label encoder in XGBClassifier is deprecated and will be removed in a future release. To remove this warning, do the following: 1) Pass option use_label_encoder=False when constructing XGBClassifier object; and 2) Encode your labels (y) as integers starting with 0, i.e. 0, 1, 2, ..., [num_class - 1].\n",
      "  warnings.warn(label_encoder_deprecation_msg, UserWarning)\n",
      "\n"
     ]
    },
    {
     "name": "stdout",
     "output_type": "stream",
     "text": [
      "SCORE:                                                                                                                 \n",
      "0.6707178934541821                                                                                                     \n",
      " 54%|████████████████████████▊                     | 27/50 [37:05<52:19, 136.49s/trial, best loss: -0.6739467551102722]"
     ]
    },
    {
     "name": "stderr",
     "output_type": "stream",
     "text": [
      "C:\\Users\\wojtek\\anaconda3\\lib\\site-packages\\xgboost\\data.py:112: UserWarning: Use subset (sliced data) of np.ndarray is not recommended because it will generate extra copies and increase memory consumption\n",
      "  warnings.warn(\n",
      "\n",
      "C:\\Users\\wojtek\\anaconda3\\lib\\site-packages\\xgboost\\sklearn.py:1146: UserWarning: The use of label encoder in XGBClassifier is deprecated and will be removed in a future release. To remove this warning, do the following: 1) Pass option use_label_encoder=False when constructing XGBClassifier object; and 2) Encode your labels (y) as integers starting with 0, i.e. 0, 1, 2, ..., [num_class - 1].\n",
      "  warnings.warn(label_encoder_deprecation_msg, UserWarning)\n",
      "\n"
     ]
    },
    {
     "name": "stdout",
     "output_type": "stream",
     "text": [
      "SCORE:                                                                                                                 \n",
      "0.6736351542259226                                                                                                     \n",
      " 56%|█████████████████████████▊                    | 28/50 [39:30<50:56, 138.91s/trial, best loss: -0.6739467551102722]"
     ]
    },
    {
     "name": "stderr",
     "output_type": "stream",
     "text": [
      "C:\\Users\\wojtek\\anaconda3\\lib\\site-packages\\xgboost\\data.py:112: UserWarning: Use subset (sliced data) of np.ndarray is not recommended because it will generate extra copies and increase memory consumption\n",
      "  warnings.warn(\n",
      "\n",
      "C:\\Users\\wojtek\\anaconda3\\lib\\site-packages\\xgboost\\sklearn.py:1146: UserWarning: The use of label encoder in XGBClassifier is deprecated and will be removed in a future release. To remove this warning, do the following: 1) Pass option use_label_encoder=False when constructing XGBClassifier object; and 2) Encode your labels (y) as integers starting with 0, i.e. 0, 1, 2, ..., [num_class - 1].\n",
      "  warnings.warn(label_encoder_deprecation_msg, UserWarning)\n",
      "\n"
     ]
    },
    {
     "name": "stdout",
     "output_type": "stream",
     "text": [
      "SCORE:                                                                                                                 \n",
      "0.6711059825767165                                                                                                     \n",
      " 58%|██████████████████████████▋                   | 29/50 [40:47<42:09, 120.47s/trial, best loss: -0.6739467551102722]"
     ]
    },
    {
     "name": "stderr",
     "output_type": "stream",
     "text": [
      "C:\\Users\\wojtek\\anaconda3\\lib\\site-packages\\xgboost\\data.py:112: UserWarning: Use subset (sliced data) of np.ndarray is not recommended because it will generate extra copies and increase memory consumption\n",
      "  warnings.warn(\n",
      "\n",
      "C:\\Users\\wojtek\\anaconda3\\lib\\site-packages\\xgboost\\sklearn.py:1146: UserWarning: The use of label encoder in XGBClassifier is deprecated and will be removed in a future release. To remove this warning, do the following: 1) Pass option use_label_encoder=False when constructing XGBClassifier object; and 2) Encode your labels (y) as integers starting with 0, i.e. 0, 1, 2, ..., [num_class - 1].\n",
      "  warnings.warn(label_encoder_deprecation_msg, UserWarning)\n",
      "\n"
     ]
    },
    {
     "name": "stdout",
     "output_type": "stream",
     "text": [
      "SCORE:                                                                                                                 \n",
      "0.6322374120088027                                                                                                     \n",
      " 60%|████████████████████████████▏                  | 30/50 [41:11<30:27, 91.38s/trial, best loss: -0.6739467551102722]"
     ]
    },
    {
     "name": "stderr",
     "output_type": "stream",
     "text": [
      "C:\\Users\\wojtek\\anaconda3\\lib\\site-packages\\xgboost\\data.py:112: UserWarning: Use subset (sliced data) of np.ndarray is not recommended because it will generate extra copies and increase memory consumption\n",
      "  warnings.warn(\n",
      "\n",
      "C:\\Users\\wojtek\\anaconda3\\lib\\site-packages\\xgboost\\sklearn.py:1146: UserWarning: The use of label encoder in XGBClassifier is deprecated and will be removed in a future release. To remove this warning, do the following: 1) Pass option use_label_encoder=False when constructing XGBClassifier object; and 2) Encode your labels (y) as integers starting with 0, i.e. 0, 1, 2, ..., [num_class - 1].\n",
      "  warnings.warn(label_encoder_deprecation_msg, UserWarning)\n",
      "\n"
     ]
    },
    {
     "name": "stdout",
     "output_type": "stream",
     "text": [
      "SCORE:                                                                                                                 \n",
      "0.6707184254279185                                                                                                     \n",
      " 62%|█████████████████████████████▏                 | 31/50 [42:35<28:11, 89.04s/trial, best loss: -0.6739467551102722]"
     ]
    },
    {
     "name": "stderr",
     "output_type": "stream",
     "text": [
      "C:\\Users\\wojtek\\anaconda3\\lib\\site-packages\\xgboost\\data.py:112: UserWarning: Use subset (sliced data) of np.ndarray is not recommended because it will generate extra copies and increase memory consumption\n",
      "  warnings.warn(\n",
      "\n",
      "C:\\Users\\wojtek\\anaconda3\\lib\\site-packages\\xgboost\\sklearn.py:1146: UserWarning: The use of label encoder in XGBClassifier is deprecated and will be removed in a future release. To remove this warning, do the following: 1) Pass option use_label_encoder=False when constructing XGBClassifier object; and 2) Encode your labels (y) as integers starting with 0, i.e. 0, 1, 2, ..., [num_class - 1].\n",
      "  warnings.warn(label_encoder_deprecation_msg, UserWarning)\n",
      "\n"
     ]
    },
    {
     "name": "stdout",
     "output_type": "stream",
     "text": [
      "SCORE:                                                                                                                 \n",
      "0.6705433474077493                                                                                                     \n",
      " 64%|█████████████████████████████▍                | 32/50 [45:16<33:16, 110.90s/trial, best loss: -0.6739467551102722]"
     ]
    },
    {
     "name": "stderr",
     "output_type": "stream",
     "text": [
      "C:\\Users\\wojtek\\anaconda3\\lib\\site-packages\\xgboost\\data.py:112: UserWarning: Use subset (sliced data) of np.ndarray is not recommended because it will generate extra copies and increase memory consumption\n",
      "  warnings.warn(\n",
      "\n",
      "C:\\Users\\wojtek\\anaconda3\\lib\\site-packages\\xgboost\\sklearn.py:1146: UserWarning: The use of label encoder in XGBClassifier is deprecated and will be removed in a future release. To remove this warning, do the following: 1) Pass option use_label_encoder=False when constructing XGBClassifier object; and 2) Encode your labels (y) as integers starting with 0, i.e. 0, 1, 2, ..., [num_class - 1].\n",
      "  warnings.warn(label_encoder_deprecation_msg, UserWarning)\n",
      "\n"
     ]
    },
    {
     "name": "stdout",
     "output_type": "stream",
     "text": [
      "SCORE:                                                                                                                 \n",
      "0.672257957421112                                                                                                      \n",
      " 66%|██████████████████████████████▎               | 33/50 [48:05<36:20, 128.27s/trial, best loss: -0.6739467551102722]"
     ]
    },
    {
     "name": "stderr",
     "output_type": "stream",
     "text": [
      "C:\\Users\\wojtek\\anaconda3\\lib\\site-packages\\xgboost\\data.py:112: UserWarning: Use subset (sliced data) of np.ndarray is not recommended because it will generate extra copies and increase memory consumption\n",
      "  warnings.warn(\n",
      "\n",
      "C:\\Users\\wojtek\\anaconda3\\lib\\site-packages\\xgboost\\sklearn.py:1146: UserWarning: The use of label encoder in XGBClassifier is deprecated and will be removed in a future release. To remove this warning, do the following: 1) Pass option use_label_encoder=False when constructing XGBClassifier object; and 2) Encode your labels (y) as integers starting with 0, i.e. 0, 1, 2, ..., [num_class - 1].\n",
      "  warnings.warn(label_encoder_deprecation_msg, UserWarning)\n",
      "\n"
     ]
    },
    {
     "name": "stdout",
     "output_type": "stream",
     "text": [
      "SCORE:                                                                                                                 \n",
      "0.6735018582856718                                                                                                     \n",
      " 68%|███████████████████████████████▎              | 34/50 [51:25<39:52, 149.56s/trial, best loss: -0.6739467551102722]"
     ]
    },
    {
     "name": "stderr",
     "output_type": "stream",
     "text": [
      "C:\\Users\\wojtek\\anaconda3\\lib\\site-packages\\xgboost\\data.py:112: UserWarning: Use subset (sliced data) of np.ndarray is not recommended because it will generate extra copies and increase memory consumption\n",
      "  warnings.warn(\n",
      "\n",
      "C:\\Users\\wojtek\\anaconda3\\lib\\site-packages\\xgboost\\sklearn.py:1146: UserWarning: The use of label encoder in XGBClassifier is deprecated and will be removed in a future release. To remove this warning, do the following: 1) Pass option use_label_encoder=False when constructing XGBClassifier object; and 2) Encode your labels (y) as integers starting with 0, i.e. 0, 1, 2, ..., [num_class - 1].\n",
      "  warnings.warn(label_encoder_deprecation_msg, UserWarning)\n",
      "\n"
     ]
    },
    {
     "name": "stdout",
     "output_type": "stream",
     "text": [
      "SCORE:                                                                                                                 \n",
      "0.6645098573349268                                                                                                     \n",
      " 70%|████████████████████████████████▏             | 35/50 [53:04<33:36, 134.42s/trial, best loss: -0.6739467551102722]"
     ]
    },
    {
     "name": "stderr",
     "output_type": "stream",
     "text": [
      "C:\\Users\\wojtek\\anaconda3\\lib\\site-packages\\xgboost\\data.py:112: UserWarning: Use subset (sliced data) of np.ndarray is not recommended because it will generate extra copies and increase memory consumption\n",
      "  warnings.warn(\n",
      "\n",
      "C:\\Users\\wojtek\\anaconda3\\lib\\site-packages\\xgboost\\sklearn.py:1146: UserWarning: The use of label encoder in XGBClassifier is deprecated and will be removed in a future release. To remove this warning, do the following: 1) Pass option use_label_encoder=False when constructing XGBClassifier object; and 2) Encode your labels (y) as integers starting with 0, i.e. 0, 1, 2, ..., [num_class - 1].\n",
      "  warnings.warn(label_encoder_deprecation_msg, UserWarning)\n",
      "\n"
     ]
    },
    {
     "name": "stdout",
     "output_type": "stream",
     "text": [
      "SCORE:                                                                                                                 \n",
      "0.6715163266048486                                                                                                     \n",
      " 72%|█████████████████████████████████             | 36/50 [56:00<34:16, 146.90s/trial, best loss: -0.6739467551102722]"
     ]
    },
    {
     "name": "stderr",
     "output_type": "stream",
     "text": [
      "C:\\Users\\wojtek\\anaconda3\\lib\\site-packages\\xgboost\\data.py:112: UserWarning: Use subset (sliced data) of np.ndarray is not recommended because it will generate extra copies and increase memory consumption\n",
      "  warnings.warn(\n",
      "\n",
      "C:\\Users\\wojtek\\anaconda3\\lib\\site-packages\\xgboost\\sklearn.py:1146: UserWarning: The use of label encoder in XGBClassifier is deprecated and will be removed in a future release. To remove this warning, do the following: 1) Pass option use_label_encoder=False when constructing XGBClassifier object; and 2) Encode your labels (y) as integers starting with 0, i.e. 0, 1, 2, ..., [num_class - 1].\n",
      "  warnings.warn(label_encoder_deprecation_msg, UserWarning)\n",
      "\n"
     ]
    },
    {
     "name": "stdout",
     "output_type": "stream",
     "text": [
      "SCORE:                                                                                                                 \n",
      "0.6644514995284883                                                                                                     \n",
      " 74%|██████████████████████████████████            | 37/50 [57:06<26:34, 122.63s/trial, best loss: -0.6739467551102722]"
     ]
    },
    {
     "name": "stderr",
     "output_type": "stream",
     "text": [
      "C:\\Users\\wojtek\\anaconda3\\lib\\site-packages\\xgboost\\data.py:112: UserWarning: Use subset (sliced data) of np.ndarray is not recommended because it will generate extra copies and increase memory consumption\n",
      "  warnings.warn(\n",
      "\n",
      "C:\\Users\\wojtek\\anaconda3\\lib\\site-packages\\xgboost\\sklearn.py:1146: UserWarning: The use of label encoder in XGBClassifier is deprecated and will be removed in a future release. To remove this warning, do the following: 1) Pass option use_label_encoder=False when constructing XGBClassifier object; and 2) Encode your labels (y) as integers starting with 0, i.e. 0, 1, 2, ..., [num_class - 1].\n",
      "  warnings.warn(label_encoder_deprecation_msg, UserWarning)\n",
      "\n"
     ]
    },
    {
     "name": "stdout",
     "output_type": "stream",
     "text": [
      "SCORE:                                                                                                                 \n",
      "0.6695185459172285                                                                                                     \n",
      " 76%|██████████████████████████████████▉           | 38/50 [58:10<21:03, 105.29s/trial, best loss: -0.6739467551102722]"
     ]
    },
    {
     "name": "stderr",
     "output_type": "stream",
     "text": [
      "C:\\Users\\wojtek\\anaconda3\\lib\\site-packages\\xgboost\\data.py:112: UserWarning: Use subset (sliced data) of np.ndarray is not recommended because it will generate extra copies and increase memory consumption\n",
      "  warnings.warn(\n",
      "\n",
      "C:\\Users\\wojtek\\anaconda3\\lib\\site-packages\\xgboost\\sklearn.py:1146: UserWarning: The use of label encoder in XGBClassifier is deprecated and will be removed in a future release. To remove this warning, do the following: 1) Pass option use_label_encoder=False when constructing XGBClassifier object; and 2) Encode your labels (y) as integers starting with 0, i.e. 0, 1, 2, ..., [num_class - 1].\n",
      "  warnings.warn(label_encoder_deprecation_msg, UserWarning)\n",
      "\n"
     ]
    },
    {
     "name": "stdout",
     "output_type": "stream",
     "text": [
      "SCORE:                                                                                                                 \n",
      "0.6725209964838633                                                                                                     \n",
      " 78%|██████████████████████████████████▎         | 39/50 [1:00:28<21:06, 115.10s/trial, best loss: -0.6739467551102722]"
     ]
    },
    {
     "name": "stderr",
     "output_type": "stream",
     "text": [
      "C:\\Users\\wojtek\\anaconda3\\lib\\site-packages\\xgboost\\data.py:112: UserWarning: Use subset (sliced data) of np.ndarray is not recommended because it will generate extra copies and increase memory consumption\n",
      "  warnings.warn(\n",
      "\n",
      "C:\\Users\\wojtek\\anaconda3\\lib\\site-packages\\xgboost\\sklearn.py:1146: UserWarning: The use of label encoder in XGBClassifier is deprecated and will be removed in a future release. To remove this warning, do the following: 1) Pass option use_label_encoder=False when constructing XGBClassifier object; and 2) Encode your labels (y) as integers starting with 0, i.e. 0, 1, 2, ..., [num_class - 1].\n",
      "  warnings.warn(label_encoder_deprecation_msg, UserWarning)\n",
      "\n"
     ]
    },
    {
     "name": "stdout",
     "output_type": "stream",
     "text": [
      "SCORE:                                                                                                                 \n",
      "0.671082540842505                                                                                                      \n",
      " 80%|███████████████████████████████████▏        | 40/50 [1:02:40<19:59, 120.00s/trial, best loss: -0.6739467551102722]"
     ]
    },
    {
     "name": "stderr",
     "output_type": "stream",
     "text": [
      "C:\\Users\\wojtek\\anaconda3\\lib\\site-packages\\xgboost\\data.py:112: UserWarning: Use subset (sliced data) of np.ndarray is not recommended because it will generate extra copies and increase memory consumption\n",
      "  warnings.warn(\n",
      "\n",
      "C:\\Users\\wojtek\\anaconda3\\lib\\site-packages\\xgboost\\sklearn.py:1146: UserWarning: The use of label encoder in XGBClassifier is deprecated and will be removed in a future release. To remove this warning, do the following: 1) Pass option use_label_encoder=False when constructing XGBClassifier object; and 2) Encode your labels (y) as integers starting with 0, i.e. 0, 1, 2, ..., [num_class - 1].\n",
      "  warnings.warn(label_encoder_deprecation_msg, UserWarning)\n",
      "\n"
     ]
    },
    {
     "name": "stdout",
     "output_type": "stream",
     "text": [
      "SCORE:                                                                                                                 \n",
      "0.6622272673022386                                                                                                     \n",
      " 82%|████████████████████████████████████        | 41/50 [1:04:25<17:20, 115.57s/trial, best loss: -0.6739467551102722]"
     ]
    },
    {
     "name": "stderr",
     "output_type": "stream",
     "text": [
      "C:\\Users\\wojtek\\anaconda3\\lib\\site-packages\\xgboost\\data.py:112: UserWarning: Use subset (sliced data) of np.ndarray is not recommended because it will generate extra copies and increase memory consumption\n",
      "  warnings.warn(\n",
      "\n",
      "C:\\Users\\wojtek\\anaconda3\\lib\\site-packages\\xgboost\\sklearn.py:1146: UserWarning: The use of label encoder in XGBClassifier is deprecated and will be removed in a future release. To remove this warning, do the following: 1) Pass option use_label_encoder=False when constructing XGBClassifier object; and 2) Encode your labels (y) as integers starting with 0, i.e. 0, 1, 2, ..., [num_class - 1].\n",
      "  warnings.warn(label_encoder_deprecation_msg, UserWarning)\n",
      "\n"
     ]
    },
    {
     "name": "stdout",
     "output_type": "stream",
     "text": [
      "SCORE:                                                                                                                 \n",
      "0.6556473560448282                                                                                                     \n",
      " 84%|█████████████████████████████████████▊       | 42/50 [1:04:40<11:22, 85.27s/trial, best loss: -0.6739467551102722]"
     ]
    },
    {
     "name": "stderr",
     "output_type": "stream",
     "text": [
      "C:\\Users\\wojtek\\anaconda3\\lib\\site-packages\\xgboost\\data.py:112: UserWarning: Use subset (sliced data) of np.ndarray is not recommended because it will generate extra copies and increase memory consumption\n",
      "  warnings.warn(\n",
      "\n",
      "C:\\Users\\wojtek\\anaconda3\\lib\\site-packages\\xgboost\\sklearn.py:1146: UserWarning: The use of label encoder in XGBClassifier is deprecated and will be removed in a future release. To remove this warning, do the following: 1) Pass option use_label_encoder=False when constructing XGBClassifier object; and 2) Encode your labels (y) as integers starting with 0, i.e. 0, 1, 2, ..., [num_class - 1].\n",
      "  warnings.warn(label_encoder_deprecation_msg, UserWarning)\n",
      "\n"
     ]
    },
    {
     "name": "stdout",
     "output_type": "stream",
     "text": [
      "SCORE:                                                                                                                 \n",
      "0.6628209375314349                                                                                                     \n",
      " 86%|██████████████████████████████████████▋      | 43/50 [1:06:38<11:05, 95.10s/trial, best loss: -0.6739467551102722]"
     ]
    },
    {
     "name": "stderr",
     "output_type": "stream",
     "text": [
      "C:\\Users\\wojtek\\anaconda3\\lib\\site-packages\\xgboost\\data.py:112: UserWarning: Use subset (sliced data) of np.ndarray is not recommended because it will generate extra copies and increase memory consumption\n",
      "  warnings.warn(\n",
      "\n",
      "C:\\Users\\wojtek\\anaconda3\\lib\\site-packages\\xgboost\\sklearn.py:1146: UserWarning: The use of label encoder in XGBClassifier is deprecated and will be removed in a future release. To remove this warning, do the following: 1) Pass option use_label_encoder=False when constructing XGBClassifier object; and 2) Encode your labels (y) as integers starting with 0, i.e. 0, 1, 2, ..., [num_class - 1].\n",
      "  warnings.warn(label_encoder_deprecation_msg, UserWarning)\n",
      "\n"
     ]
    },
    {
     "name": "stdout",
     "output_type": "stream",
     "text": [
      "SCORE:                                                                                                                 \n",
      "0.6721245355324845                                                                                                     \n",
      " 88%|███████████████████████████████████████▌     | 44/50 [1:07:50<08:50, 88.37s/trial, best loss: -0.6739467551102722]"
     ]
    },
    {
     "name": "stderr",
     "output_type": "stream",
     "text": [
      "C:\\Users\\wojtek\\anaconda3\\lib\\site-packages\\xgboost\\data.py:112: UserWarning: Use subset (sliced data) of np.ndarray is not recommended because it will generate extra copies and increase memory consumption\n",
      "  warnings.warn(\n",
      "\n",
      "C:\\Users\\wojtek\\anaconda3\\lib\\site-packages\\xgboost\\sklearn.py:1146: UserWarning: The use of label encoder in XGBClassifier is deprecated and will be removed in a future release. To remove this warning, do the following: 1) Pass option use_label_encoder=False when constructing XGBClassifier object; and 2) Encode your labels (y) as integers starting with 0, i.e. 0, 1, 2, ..., [num_class - 1].\n",
      "  warnings.warn(label_encoder_deprecation_msg, UserWarning)\n",
      "\n"
     ]
    },
    {
     "name": "stdout",
     "output_type": "stream",
     "text": [
      "SCORE:                                                                                                                 \n",
      "0.6723289733269434                                                                                                     \n",
      " 90%|███████████████████████████████████████▌    | 45/50 [1:10:32<09:11, 110.38s/trial, best loss: -0.6739467551102722]"
     ]
    },
    {
     "name": "stderr",
     "output_type": "stream",
     "text": [
      "C:\\Users\\wojtek\\anaconda3\\lib\\site-packages\\xgboost\\data.py:112: UserWarning: Use subset (sliced data) of np.ndarray is not recommended because it will generate extra copies and increase memory consumption\n",
      "  warnings.warn(\n",
      "\n",
      "C:\\Users\\wojtek\\anaconda3\\lib\\site-packages\\xgboost\\sklearn.py:1146: UserWarning: The use of label encoder in XGBClassifier is deprecated and will be removed in a future release. To remove this warning, do the following: 1) Pass option use_label_encoder=False when constructing XGBClassifier object; and 2) Encode your labels (y) as integers starting with 0, i.e. 0, 1, 2, ..., [num_class - 1].\n",
      "  warnings.warn(label_encoder_deprecation_msg, UserWarning)\n",
      "\n"
     ]
    },
    {
     "name": "stdout",
     "output_type": "stream",
     "text": [
      "SCORE:                                                                                                                 \n",
      "0.6710060503038935                                                                                                     \n",
      " 92%|████████████████████████████████████████▍   | 46/50 [1:12:36<07:37, 114.48s/trial, best loss: -0.6739467551102722]"
     ]
    },
    {
     "name": "stderr",
     "output_type": "stream",
     "text": [
      "C:\\Users\\wojtek\\anaconda3\\lib\\site-packages\\xgboost\\data.py:112: UserWarning: Use subset (sliced data) of np.ndarray is not recommended because it will generate extra copies and increase memory consumption\n",
      "  warnings.warn(\n",
      "\n",
      "C:\\Users\\wojtek\\anaconda3\\lib\\site-packages\\xgboost\\sklearn.py:1146: UserWarning: The use of label encoder in XGBClassifier is deprecated and will be removed in a future release. To remove this warning, do the following: 1) Pass option use_label_encoder=False when constructing XGBClassifier object; and 2) Encode your labels (y) as integers starting with 0, i.e. 0, 1, 2, ..., [num_class - 1].\n",
      "  warnings.warn(label_encoder_deprecation_msg, UserWarning)\n",
      "\n"
     ]
    },
    {
     "name": "stdout",
     "output_type": "stream",
     "text": [
      "SCORE:                                                                                                                 \n",
      "0.6637730882793589                                                                                                     \n",
      " 94%|█████████████████████████████████████████▎  | 47/50 [1:14:02<05:17, 105.94s/trial, best loss: -0.6739467551102722]"
     ]
    },
    {
     "name": "stderr",
     "output_type": "stream",
     "text": [
      "C:\\Users\\wojtek\\anaconda3\\lib\\site-packages\\xgboost\\data.py:112: UserWarning: Use subset (sliced data) of np.ndarray is not recommended because it will generate extra copies and increase memory consumption\n",
      "  warnings.warn(\n",
      "\n",
      "C:\\Users\\wojtek\\anaconda3\\lib\\site-packages\\xgboost\\sklearn.py:1146: UserWarning: The use of label encoder in XGBClassifier is deprecated and will be removed in a future release. To remove this warning, do the following: 1) Pass option use_label_encoder=False when constructing XGBClassifier object; and 2) Encode your labels (y) as integers starting with 0, i.e. 0, 1, 2, ..., [num_class - 1].\n",
      "  warnings.warn(label_encoder_deprecation_msg, UserWarning)\n",
      "\n"
     ]
    },
    {
     "name": "stdout",
     "output_type": "stream",
     "text": [
      "SCORE:                                                                                                                 \n",
      "0.6707751483975916                                                                                                     \n",
      " 94%|█████████████████████████████████████████▎  | 47/50 [1:17:22<05:17, 105.94s/trial, best loss: -0.6739467551102722]"
     ]
    },
    {
     "name": "stderr",
     "output_type": "stream",
     "text": [
      "C:\\Users\\wojtek\\anaconda3\\lib\\site-packages\\xgboost\\data.py:112: UserWarning: Use subset (sliced data) of np.ndarray is not recommended because it will generate extra copies and increase memory consumption\n",
      "  warnings.warn(\n",
      "\n"
     ]
    },
    {
     "name": "stdout",
     "output_type": "stream",
     "text": [
      "\r",
      " 96%|██████████████████████████████████████████▏ | 48/50 [1:17:22<04:28, 134.16s/trial, best loss: -0.6739467551102722]"
     ]
    },
    {
     "name": "stderr",
     "output_type": "stream",
     "text": [
      "C:\\Users\\wojtek\\anaconda3\\lib\\site-packages\\xgboost\\sklearn.py:1146: UserWarning: The use of label encoder in XGBClassifier is deprecated and will be removed in a future release. To remove this warning, do the following: 1) Pass option use_label_encoder=False when constructing XGBClassifier object; and 2) Encode your labels (y) as integers starting with 0, i.e. 0, 1, 2, ..., [num_class - 1].\n",
      "  warnings.warn(label_encoder_deprecation_msg, UserWarning)\n",
      "\n"
     ]
    },
    {
     "name": "stdout",
     "output_type": "stream",
     "text": [
      "SCORE:                                                                                                                 \n",
      "0.6443615815356886                                                                                                     \n",
      " 98%|███████████████████████████████████████████ | 49/50 [1:17:45<01:40, 100.63s/trial, best loss: -0.6739467551102722]"
     ]
    },
    {
     "name": "stderr",
     "output_type": "stream",
     "text": [
      "C:\\Users\\wojtek\\anaconda3\\lib\\site-packages\\xgboost\\data.py:112: UserWarning: Use subset (sliced data) of np.ndarray is not recommended because it will generate extra copies and increase memory consumption\n",
      "  warnings.warn(\n",
      "\n",
      "C:\\Users\\wojtek\\anaconda3\\lib\\site-packages\\xgboost\\sklearn.py:1146: UserWarning: The use of label encoder in XGBClassifier is deprecated and will be removed in a future release. To remove this warning, do the following: 1) Pass option use_label_encoder=False when constructing XGBClassifier object; and 2) Encode your labels (y) as integers starting with 0, i.e. 0, 1, 2, ..., [num_class - 1].\n",
      "  warnings.warn(label_encoder_deprecation_msg, UserWarning)\n",
      "\n"
     ]
    },
    {
     "name": "stdout",
     "output_type": "stream",
     "text": [
      "SCORE:                                                                                                                 \n",
      "0.6598523398563633                                                                                                     \n",
      "100%|█████████████████████████████████████████████| 50/50 [1:18:05<00:00, 93.71s/trial, best loss: -0.6739467551102722]\n"
     ]
    },
    {
     "name": "stderr",
     "output_type": "stream",
     "text": [
      "C:\\Users\\wojtek\\anaconda3\\lib\\site-packages\\xgboost\\data.py:112: UserWarning: Use subset (sliced data) of np.ndarray is not recommended because it will generate extra copies and increase memory consumption\n",
      "  warnings.warn(\n",
      "\n"
     ]
    },
    {
     "data": {
      "text/plain": [
       "{'colsample_bytree': 0.9365813763772958,\n",
       " 'gamma': 0.0006263209391532422,\n",
       " 'learning_rate': 0.14957045157988683,\n",
       " 'max_depth': 19.907109070157095,\n",
       " 'min_child_weight': 6.018874278919946,\n",
       " 'reg_alpha': 115.0,\n",
       " 'reg_lambda': 0.7151733950860832,\n",
       " 'subsample': 0.9901088921900363}"
      ]
     },
     "execution_count": 157,
     "metadata": {},
     "output_type": "execute_result"
    }
   ],
   "source": [
    "best_params = fmin(\n",
    "    fn=objective,\n",
    "    space=space,\n",
    "    algo=tpe.suggest,\n",
    "    max_evals=50,\n",
    ")\n",
    "\n",
    "best_params"
   ]
  },
  {
   "cell_type": "code",
   "execution_count": 160,
   "id": "1c40732e",
   "metadata": {},
   "outputs": [
    {
     "name": "stderr",
     "output_type": "stream",
     "text": [
      "C:\\Users\\wojtek\\anaconda3\\lib\\site-packages\\xgboost\\sklearn.py:1146: UserWarning: The use of label encoder in XGBClassifier is deprecated and will be removed in a future release. To remove this warning, do the following: 1) Pass option use_label_encoder=False when constructing XGBClassifier object; and 2) Encode your labels (y) as integers starting with 0, i.e. 0, 1, 2, ..., [num_class - 1].\n",
      "  warnings.warn(label_encoder_deprecation_msg, UserWarning)\n"
     ]
    },
    {
     "data": {
      "text/plain": [
       "XGBClassifier(base_score=0.5, booster='gbtree', colsample_bylevel=1,\n",
       "              colsample_bynode=1, colsample_bytree=0.9365813763772958,\n",
       "              gamma=0.0006263209391532422, gpu_id=-1, importance_type='gain',\n",
       "              interaction_constraints='', learning_rate=0.14957045157988683,\n",
       "              max_delta_step=0, max_depth=20,\n",
       "              min_child_weight=6.018874278919946, missing=nan,\n",
       "              monotone_constraints='()', n_estimators=1000, n_jobs=24,\n",
       "              num_parallel_tree=1, random_state=0, reg_alpha=115.0,\n",
       "              reg_lambda=0.7151733950860832,\n",
       "              scale_pos_weight=3.5078603794497325, subsample=0.9901088921900363,\n",
       "              tree_method='exact', validate_parameters=1, verbosity=None)"
      ]
     },
     "execution_count": 160,
     "metadata": {},
     "output_type": "execute_result"
    }
   ],
   "source": [
    "best_params['max_depth'] = round(best_params['max_depth'])\n",
    "clf = xgb.XGBClassifier(scale_pos_weight=(n[0] / n[1]), n_estimators=1000, **best_params)\n",
    "clf.fit(X_train, y_train,\n",
    "        eval_set=[(X_val, y_val)], eval_metric=\"auc\",\n",
    "        early_stopping_rounds=5,verbose=False)"
   ]
  },
  {
   "cell_type": "code",
   "execution_count": 161,
   "id": "5d5d5307",
   "metadata": {},
   "outputs": [
    {
     "name": "stderr",
     "output_type": "stream",
     "text": [
      "C:\\Users\\wojtek\\anaconda3\\lib\\site-packages\\xgboost\\data.py:112: UserWarning: Use subset (sliced data) of np.ndarray is not recommended because it will generate extra copies and increase memory consumption\n",
      "  warnings.warn(\n"
     ]
    },
    {
     "name": "stdout",
     "output_type": "stream",
     "text": [
      "Accuracy (test): 0.683\n",
      "        Precision (test): 0.378\n",
      "        Recall (test): 0.664\n",
      "        f1 (test): 0.482\n",
      "        roc-auc (test): 0.677\n"
     ]
    }
   ],
   "source": [
    "y_pred_test = clf.predict(X_test)\n",
    "report_metrics(y_test, y_pred_test)"
   ]
  },
  {
   "cell_type": "code",
   "execution_count": 162,
   "id": "485ed35d",
   "metadata": {},
   "outputs": [],
   "source": [
    "clf.save_model('booster.xgb')"
   ]
  },
  {
   "cell_type": "code",
   "execution_count": 166,
   "id": "8b06d996",
   "metadata": {},
   "outputs": [
    {
     "data": {
      "text/plain": [
       "<AxesSubplot:xlabel='Importance', ylabel='Feature'>"
      ]
     },
     "execution_count": 166,
     "metadata": {},
     "output_type": "execute_result"
    },
    {
     "data": {
      "image/png": "[encoded data removed]",
      "text/plain": [
       "<Figure size 432x288 with 1 Axes>"
      ]
     },
     "metadata": {
      "needs_background": "light"
     },
     "output_type": "display_data"
    }
   ],
   "source": [
    "df = pd.DataFrame({'Feature': X_train.columns, 'Importance': clf.feature_importances_})\n",
    "df = df.sort_values('Importance', ascending=False)[:10]\n",
    "sns.barplot(x='Importance', y='Feature', data=df)"
   ]
  },
  {
   "cell_type": "markdown",
   "id": "f025f1c6",
   "metadata": {},
   "source": [
    "# Xgboost i CatBoost były bardzo blisko, jednak dostrojony Xgboost osiągnął minimalnie lepsze F1 i accuracy\n",
    "Na koniec nakreślę precision-recall curve dla najlepszego modelu."
   ]
  },
  {
   "cell_type": "code",
   "execution_count": 184,
   "id": "eed58807",
   "metadata": {},
   "outputs": [
    {
     "name": "stderr",
     "output_type": "stream",
     "text": [
      "C:\\Users\\wojtek\\anaconda3\\lib\\site-packages\\xgboost\\data.py:112: UserWarning: Use subset (sliced data) of np.ndarray is not recommended because it will generate extra copies and increase memory consumption\n",
      "  warnings.warn(\n"
     ]
    },
    {
     "data": {
      "text/plain": [
       "[<matplotlib.lines.Line2D at 0x19190c79730>]"
      ]
     },
     "execution_count": 184,
     "metadata": {},
     "output_type": "execute_result"
    },
    {
     "data": {
      "image/png": "[encoded data removed]",
      "text/plain": [
       "<Figure size 1152x720 with 1 Axes>"
      ]
     },
     "metadata": {
      "needs_background": "light"
     },
     "output_type": "display_data"
    }
   ],
   "source": [
    "import matplotlib\n",
    "matplotlib.rcParams['figure.figsize'] = (16, 10)\n",
    "y_pred_test = clf.predict_proba(X_test)[:, 1]\n",
    "prec, rec, _ = precision_recall_curve(y_test, y_pred_test)\n",
    "plt.title('Precision-Recall Curve')\n",
    "plt.ylabel('Precision')\n",
    "plt.xlabel('Recall')\n",
    "plt.plot(rec, prec)"
   ]
  },
  {
   "cell_type": "code",
   "execution_count": 203,
   "id": "d3d774d4",
   "metadata": {},
   "outputs": [
    {
     "name": "stderr",
     "output_type": "stream",
     "text": [
      "C:\\Users\\wojtek\\anaconda3\\lib\\site-packages\\xgboost\\data.py:112: UserWarning: Use subset (sliced data) of np.ndarray is not recommended because it will generate extra copies and increase memory consumption\n",
      "  warnings.warn(\n"
     ]
    }
   ],
   "source": [
    "precs = []\n",
    "recs = []\n",
    "aucs = []\n",
    "models = [dtree, catboost, clf, lreg, cv]\n",
    "names = ['decision tree', 'Catboost', 'Xgboost', 'Log Reg', 'Linear SVM']\n",
    "for i in range(len(models)):\n",
    "    model = models[i]\n",
    "    pred = model.predict(X_test)\n",
    "    if i > 2:\n",
    "        pred = model.predict(X_test_scaled)\n",
    "    precs.append(precision_score(y_test, pred))\n",
    "    recs.append(recall_score(y_test, pred))\n",
    "    aucs.append(roc_auc_score(y_test, pred))"
   ]
  },
  {
   "cell_type": "code",
   "execution_count": 208,
   "id": "98a179ef",
   "metadata": {},
   "outputs": [
    {
     "data": {
      "image/png": "[encoded data removed]",
      "text/plain": [
       "<Figure size 864x432 with 1 Axes>"
      ]
     },
     "metadata": {
      "needs_background": "light"
     },
     "output_type": "display_data"
    }
   ],
   "source": [
    "matplotlib.rcParams['figure.figsize'] = (12, 6)\n",
    "plt.bar(names, aucs)\n",
    "plt.title('roc_auc_score')\n",
    "plt.ylim(0.5, 0.7)\n",
    "plt.savefig('auroc.png')"
   ]
  },
  {
   "cell_type": "code",
   "execution_count": 213,
   "id": "a2205db2",
   "metadata": {},
   "outputs": [
    {
     "data": {
      "image/png": "[encoded data removed]",
      "text/plain": [
       "<Figure size 864x432 with 1 Axes>"
      ]
     },
     "metadata": {
      "needs_background": "light"
     },
     "output_type": "display_data"
    }
   ],
   "source": [
    "matplotlib.rcParams['figure.figsize'] = (12, 6)\n",
    "plt.bar(names, precs)\n",
    "plt.title('precision')\n",
    "plt.ylim(0.2, 0.4)\n",
    "plt.savefig('precision.png')"
   ]
  },
  {
   "cell_type": "code",
   "execution_count": 212,
   "id": "b9eede4d",
   "metadata": {},
   "outputs": [
    {
     "data": {
      "image/png": "[encoded data removed]",
      "text/plain": [
       "<Figure size 864x432 with 1 Axes>"
      ]
     },
     "metadata": {
      "needs_background": "light"
     },
     "output_type": "display_data"
    }
   ],
   "source": [
    "matplotlib.rcParams['figure.figsize'] = (12, 6)\n",
    "plt.bar(names, recs)\n",
    "plt.title('recall')\n",
    "plt.ylim(0.5, 0.8)\n",
    "plt.savefig('recall.png')"
   ]
  },
  {
   "cell_type": "code",
   "execution_count": null,
   "id": "af115cf2",
   "metadata": {},
   "outputs": [],
   "source": []
  }
 ],
 "metadata": {
  "kernelspec": {
   "display_name": "Python 3 (ipykernel)",
   "language": "python",
   "name": "python3"
  },
  "language_info": {
   "codemirror_mode": {
    "name": "ipython",
    "version": 3
   },
   "file_extension": ".py",
   "mimetype": "text/x-python",
   "name": "python",
   "nbconvert_exporter": "python",
   "pygments_lexer": "ipython3",
   "version": "3.8.10"
  }
 },
 "nbformat": 4,
 "nbformat_minor": 5
}
